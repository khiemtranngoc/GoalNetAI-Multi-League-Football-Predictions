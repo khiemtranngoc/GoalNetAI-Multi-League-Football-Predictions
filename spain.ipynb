{
  "nbformat": 4,
  "nbformat_minor": 0,
  "metadata": {
    "colab": {
      "provenance": [],
      "machine_shape": "hm",
      "gpuType": "T4",
      "authorship_tag": "ABX9TyOS6wXv/xV3oU5gc7anInWw",
      "include_colab_link": true
    },
    "kernelspec": {
      "name": "python3",
      "display_name": "Python 3"
    },
    "language_info": {
      "name": "python"
    },
    "accelerator": "GPU"
  },
  "cells": [
    {
      "cell_type": "markdown",
      "metadata": {
        "id": "view-in-github",
        "colab_type": "text"
      },
      "source": [
        "<a href=\"https://colab.research.google.com/github/khiemtranngoc/GoalNetAI-Multi-League-Football-Predictions/blob/main/spain.ipynb\" target=\"_parent\"><img src=\"https://colab.research.google.com/assets/colab-badge.svg\" alt=\"Open In Colab\"/></a>"
      ]
    },
    {
      "cell_type": "markdown",
      "source": [
        "# Metodology\n",
        "\n",
        "Because our goal is to predict  football match results from 2023 then we should not use features that are only available after the match has ended, such as match statistics and goal results. These features are not useful for predicting matches that have not yet happened.\n",
        "\n",
        "To predict football matches before they happen, we must create a prediction models with data that is available before each match starts. However, the data we have was for the end of each match, such as the number of goals and shots per team. This data could not be used directly to train prediction models, so we had to transform it (creating pre-match features based on the historic data)\n",
        "\n",
        "* In the test(season 2023) we dont have information such as FTHG, FTAG, ..."
      ],
      "metadata": {
        "id": "1VDS2fLpiLGw"
      }
    },
    {
      "cell_type": "markdown",
      "source": [
        "### Features Not Suitable for Pre-Match Prediction:\n",
        "* Goals and Results (FTHG, FTAG, FTR, HTHG, HTAG, HTR): These are outcomes of the match, not available before it starts.\n",
        "\n",
        "* In-Match Statistics (HS, AS, HST, AST, HHW, AHW, HC, AC, HF, AF, HFKC, AFKC, HO, AO, HY, AY, HR, AR): These are also outcomes or events that occur during the match."
      ],
      "metadata": {
        "id": "Iwr0hmbKiSRZ"
      }
    },
    {
      "cell_type": "code",
      "source": [
        "import pandas as pd\n",
        "import numpy as np\n",
        "import matplotlib.pyplot as plt\n",
        "import seaborn as sns"
      ],
      "metadata": {
        "id": "c-UOO70SiRZu"
      },
      "execution_count": null,
      "outputs": []
    },
    {
      "cell_type": "code",
      "execution_count": null,
      "metadata": {
        "colab": {
          "base_uri": "https://localhost:8080/"
        },
        "id": "VN_bhe3kiFVY",
        "outputId": "7dcdfc3f-076e-4608-fbb2-53986eabca1b"
      },
      "outputs": [
        {
          "output_type": "stream",
          "name": "stdout",
          "text": [
            "Mounted at /content/drive/\n"
          ]
        }
      ],
      "source": [
        "from google.colab import drive\n",
        "drive.mount('/content/drive/')"
      ]
    },
    {
      "cell_type": "code",
      "source": [
        "# Function that load all the seasonal dataset from train\n",
        "\n",
        "def load_seasonal_data(base_path, country, league, start_season, end_season):\n",
        "    seasonal_data = {}\n",
        "\n",
        "    for season_start_year in range(start_season, end_season + 1):\n",
        "\n",
        "        start_year_suffix = (season_start_year - 1) % 100\n",
        "        end_year_suffix = season_start_year % 100\n",
        "\n",
        "        season_str = f\"{start_year_suffix:02d}{end_year_suffix:02d}\"\n",
        "\n",
        "        file_path = f\"{base_path}/{country}/{league}/{season_str}.csv\"\n",
        "\n",
        "        seasonal_data[f'{league}{season_str}'] = pd.read_csv(file_path)\n",
        "\n",
        "    return seasonal_data\n",
        "\n",
        "\n",
        "base_path = \"/content/drive/MyDrive/train\"\n",
        "country = \"spain\"\n",
        "league = \"1\"\n",
        "seasonal_datasets = load_seasonal_data(base_path, country, league, 1, 22)\n",
        "\n",
        "# Example: Access the data for the 2001/2002 season\n",
        "# ger10102 = seasonal_datasets['ger10102']"
      ],
      "metadata": {
        "id": "1sfhBHTLijS6"
      },
      "execution_count": null,
      "outputs": []
    },
    {
      "cell_type": "code",
      "source": [
        "\n",
        "spn11516 = seasonal_datasets['11516']\n",
        "spn11617 = seasonal_datasets['11617']\n",
        "spn11718 = seasonal_datasets['11718']\n",
        "spn11819 = seasonal_datasets['11819']\n",
        "spn11920 = seasonal_datasets['11920']\n",
        "spn12021 = seasonal_datasets['12021']\n",
        "spn12122 = seasonal_datasets['12122']"
      ],
      "metadata": {
        "id": "uZYU0wQpis-X"
      },
      "execution_count": null,
      "outputs": []
    },
    {
      "cell_type": "code",
      "source": [
        "columns = ['Date', 'HomeTeam', 'AwayTeam', 'FTHG', 'FTAG', 'FTR', 'HS', 'AS',\n",
        "        'HST', 'AST', 'HC', 'AC',\n",
        "         \"B365H\", \"B365D\", \"B365A\" ]"
      ],
      "metadata": {
        "id": "KDukJ9Cbi7vU"
      },
      "execution_count": null,
      "outputs": []
    },
    {
      "cell_type": "markdown",
      "source": [
        "Because we aim to predict the 2023 match result, more recent data is likely more reflective of the current state of teams and the league. Focusing on more recent data might reduce the risk of overfitting to historical trends that are no longer relevant. For all that reason, we consider choosing dataset from season 2016 to season 2022"
      ],
      "metadata": {
        "id": "l9GE8sJFjchh"
      }
    },
    {
      "cell_type": "code",
      "source": [
        "df2016 = spn11516[columns]\n",
        "df2017 = spn11617[columns]\n",
        "df2018 = spn11718[columns]\n",
        "df2019 = spn11819[columns]\n",
        "df2020 = spn11920[columns]\n",
        "df2021 = spn12021[columns]\n",
        "df2022 = spn12122[columns]"
      ],
      "metadata": {
        "id": "BsfWQy5pi_Rq"
      },
      "execution_count": null,
      "outputs": []
    },
    {
      "cell_type": "code",
      "source": [
        "# This function shows us where do we have missing value in a dataframe\n",
        "\n",
        "def missing_values_summary(df):\n",
        "\n",
        "    missing_counts = df.isnull().sum()\n",
        "\n",
        "    missing_counts = missing_counts[missing_counts > 0]\n",
        "\n",
        "    summary_df = pd.DataFrame(missing_counts, columns=['Missing Values Count'])\n",
        "    summary_df.index.name = 'Column'\n",
        "\n",
        "    return summary_df\n"
      ],
      "metadata": {
        "id": "CMiqJSt1jZPx"
      },
      "execution_count": null,
      "outputs": []
    },
    {
      "cell_type": "code",
      "source": [
        "summary = missing_values_summary(df2016)\n",
        "print(summary)"
      ],
      "metadata": {
        "id": "XAoejFcJjiO1",
        "colab": {
          "base_uri": "https://localhost:8080/"
        },
        "outputId": "7b4dd29e-1580-4f70-b577-7398634d2865"
      },
      "execution_count": null,
      "outputs": [
        {
          "output_type": "stream",
          "name": "stdout",
          "text": [
            "Empty DataFrame\n",
            "Columns: [Missing Values Count]\n",
            "Index: []\n"
          ]
        }
      ]
    },
    {
      "cell_type": "code",
      "source": [
        "summary = missing_values_summary(df2017)\n",
        "print(summary)"
      ],
      "metadata": {
        "id": "Grf3UjuDjiRh",
        "colab": {
          "base_uri": "https://localhost:8080/"
        },
        "outputId": "d9ce9758-5ed7-44c6-b0bb-4090075cb688"
      },
      "execution_count": null,
      "outputs": [
        {
          "output_type": "stream",
          "name": "stdout",
          "text": [
            "        Missing Values Count\n",
            "Column                      \n",
            "FTR                       11\n"
          ]
        }
      ]
    },
    {
      "cell_type": "code",
      "source": [
        "summary = missing_values_summary(df2018)\n",
        "print(summary)"
      ],
      "metadata": {
        "id": "E1kvPKjgjiUF",
        "colab": {
          "base_uri": "https://localhost:8080/"
        },
        "outputId": "42f5306b-12f5-4a69-d480-4049f0beac98"
      },
      "execution_count": null,
      "outputs": [
        {
          "output_type": "stream",
          "name": "stdout",
          "text": [
            "Empty DataFrame\n",
            "Columns: [Missing Values Count]\n",
            "Index: []\n"
          ]
        }
      ]
    },
    {
      "cell_type": "code",
      "source": [
        "summary = missing_values_summary(df2019)\n",
        "print(summary)"
      ],
      "metadata": {
        "id": "fi8uZsfSjiW8",
        "colab": {
          "base_uri": "https://localhost:8080/"
        },
        "outputId": "c8587785-d518-454e-df66-323be68ca743"
      },
      "execution_count": null,
      "outputs": [
        {
          "output_type": "stream",
          "name": "stdout",
          "text": [
            "Empty DataFrame\n",
            "Columns: [Missing Values Count]\n",
            "Index: []\n"
          ]
        }
      ]
    },
    {
      "cell_type": "code",
      "source": [
        "summary = missing_values_summary(df2020)\n",
        "print(summary)"
      ],
      "metadata": {
        "id": "yXx2q4HVj2Is",
        "colab": {
          "base_uri": "https://localhost:8080/"
        },
        "outputId": "2e7fa4fe-5481-492a-eaed-e9f5417e3aee"
      },
      "execution_count": null,
      "outputs": [
        {
          "output_type": "stream",
          "name": "stdout",
          "text": [
            "Empty DataFrame\n",
            "Columns: [Missing Values Count]\n",
            "Index: []\n"
          ]
        }
      ]
    },
    {
      "cell_type": "code",
      "source": [
        "summary = missing_values_summary(df2021)\n",
        "print(summary)"
      ],
      "metadata": {
        "id": "-2LAcXcMj2Lz",
        "colab": {
          "base_uri": "https://localhost:8080/"
        },
        "outputId": "167afd8d-4a68-4ac0-b9e7-b421473ceb24"
      },
      "execution_count": null,
      "outputs": [
        {
          "output_type": "stream",
          "name": "stdout",
          "text": [
            "Empty DataFrame\n",
            "Columns: [Missing Values Count]\n",
            "Index: []\n"
          ]
        }
      ]
    },
    {
      "cell_type": "code",
      "source": [
        "summary = missing_values_summary(df2022)\n",
        "print(summary)"
      ],
      "metadata": {
        "id": "EQKk1GPMIK9l",
        "colab": {
          "base_uri": "https://localhost:8080/"
        },
        "outputId": "7551fe13-c736-4147-9062-1b2ea2a5788e"
      },
      "execution_count": null,
      "outputs": [
        {
          "output_type": "stream",
          "name": "stdout",
          "text": [
            "Empty DataFrame\n",
            "Columns: [Missing Values Count]\n",
            "Index: []\n"
          ]
        }
      ]
    },
    {
      "cell_type": "code",
      "source": [
        "# Function to display rows with missing values from a DataFrame.\n",
        "\n",
        "def show_rows_with_missing_values(df):\n",
        "\n",
        "    rows_with_missing_values = df[df.isnull().any(axis=1)]\n",
        "\n",
        "    return rows_with_missing_values\n",
        "\n"
      ],
      "metadata": {
        "id": "9BumTy7akJ_C"
      },
      "execution_count": null,
      "outputs": []
    },
    {
      "cell_type": "code",
      "source": [
        "print(show_rows_with_missing_values(df2017))"
      ],
      "metadata": {
        "id": "8mhf4biAkMbv",
        "colab": {
          "base_uri": "https://localhost:8080/"
        },
        "outputId": "e7ddb92a-812f-4a99-d63e-0d57eb8f0a47"
      },
      "execution_count": null,
      "outputs": [
        {
          "output_type": "stream",
          "name": "stdout",
          "text": [
            "        Date     HomeTeam    AwayTeam  FTHG  FTAG  FTR  HS  AS  HST  AST  HC  \\\n",
            "0   24/09/16        Eibar    Sociedad     2     0  NaN  17   3    3    0   5   \n",
            "1   11/02/17       Alaves   Barcelona     0     6  NaN   9  21    4    9   3   \n",
            "2   08/05/17      Leganes       Betis     4     0  NaN   6  13    4    3   2   \n",
            "3   17/02/17      Granada       Betis     4     1  NaN  10   6    8    2   4   \n",
            "4   21/09/16  Real Madrid  Villarreal     1     1  NaN  22   8    6    3  17   \n",
            "5   22/01/17        Eibar   Barcelona     0     4  NaN  14  14    6    7   8   \n",
            "6   16/10/16     Sp Gijon    Valencia     1     2  NaN  10   7    2    3   4   \n",
            "7   07/01/17     Sociedad     Sevilla     0     4  NaN  11  11    5   10   7   \n",
            "8   30/04/17        Celta  Ath Bilbao     0     3  NaN   5  22    0   12   0   \n",
            "9   18/12/16    Barcelona     Espanol     4     1  NaN  14   4    7    1   5   \n",
            "10  19/03/17    Barcelona    Valencia     4     2  NaN  28   6   12    5   6   \n",
            "\n",
            "    AC  B365H  B365D  B365A  \n",
            "0    3   2.45    3.2   3.00  \n",
            "1    9  10.00    5.5   1.30  \n",
            "2    2   1.65    3.8   5.75  \n",
            "3    7   3.00    3.2   2.50  \n",
            "4    3   1.20    7.0  15.00  \n",
            "5    5   9.50    6.0   1.29  \n",
            "6    4   3.60    3.4   2.10  \n",
            "7    4   2.25    3.4   3.20  \n",
            "8   11   4.50    3.7   1.80  \n",
            "9    2   1.10   10.0  26.00  \n",
            "10   3   1.13    9.5  19.00  \n"
          ]
        }
      ]
    },
    {
      "cell_type": "markdown",
      "source": [
        "In the dataset fromseason 2017 we can clearly see which team is the winner based on columns 'FTHG' and 'FTAG'.I do not want to remove these rows, so I can just simply inpute the missing value (result) based on 2 mentioned columns"
      ],
      "metadata": {
        "id": "5AHGZXcmh8wA"
      }
    },
    {
      "cell_type": "code",
      "source": [
        "df2017.loc[0, 'FTR'] = 'H'\n",
        "df2017.loc[1, 'FTR'] = 'A'\n",
        "df2017.loc[2, 'FTR'] = 'H'\n",
        "df2017.loc[3, 'FTR'] = 'H'\n",
        "df2017.loc[4, 'FTR'] = 'D'\n",
        "df2017.loc[5, 'FTR'] = 'A'\n",
        "df2017.loc[6, 'FTR'] = 'A'\n",
        "df2017.loc[7, 'FTR'] = 'A'\n",
        "df2017.loc[8, 'FTR'] = 'A'\n",
        "df2017.loc[9, 'FTR'] = 'H'\n",
        "df2017.loc[10, 'FTR'] = 'H'"
      ],
      "metadata": {
        "id": "Gd2LoakWk9mg"
      },
      "execution_count": null,
      "outputs": []
    },
    {
      "cell_type": "code",
      "source": [
        "#  Function to transform values in 'FTHG' (Full Time Home Team Goals) and'FTAG' (Full Time Away Team Goals) columns to their absolute values.\n",
        "\n",
        "def transform_goals_to_absolute(df):\n",
        "\n",
        "    df['FTHG'] = df['FTHG'].abs()\n",
        "    df['FTAG'] = df['FTAG'].abs()\n",
        "\n",
        "    return df"
      ],
      "metadata": {
        "id": "YOIE2xG_Iftx"
      },
      "execution_count": null,
      "outputs": []
    },
    {
      "cell_type": "markdown",
      "source": [
        "the reason why I created this function because sometime there are some negative values in columns 'FTHG' or 'FTAG' (number of goal can not be negative)"
      ],
      "metadata": {
        "id": "y2fRLJtvjK9w"
      }
    },
    {
      "cell_type": "code",
      "source": [
        "df2016 = transform_goals_to_absolute(df2016)\n",
        "df2017 = transform_goals_to_absolute(df2017)\n",
        "df2018 = transform_goals_to_absolute(df2018)\n",
        "df2019 = transform_goals_to_absolute(df2019)\n",
        "df2020 = transform_goals_to_absolute(df2020)\n",
        "df2021 = transform_goals_to_absolute(df2021)\n",
        "df2022 = transform_goals_to_absolute(df2022)"
      ],
      "metadata": {
        "id": "BBD0-QLPIoHp",
        "colab": {
          "base_uri": "https://localhost:8080/"
        },
        "outputId": "0ce58b6a-6d5c-49c2-de0b-8023e4d86d38"
      },
      "execution_count": null,
      "outputs": [
        {
          "output_type": "stream",
          "name": "stderr",
          "text": [
            "<ipython-input-11-93fbbefbe36c>:13: SettingWithCopyWarning: \n",
            "A value is trying to be set on a copy of a slice from a DataFrame.\n",
            "Try using .loc[row_indexer,col_indexer] = value instead\n",
            "\n",
            "See the caveats in the documentation: https://pandas.pydata.org/pandas-docs/stable/user_guide/indexing.html#returning-a-view-versus-a-copy\n",
            "  df['FTHG'] = df['FTHG'].abs()\n",
            "<ipython-input-11-93fbbefbe36c>:14: SettingWithCopyWarning: \n",
            "A value is trying to be set on a copy of a slice from a DataFrame.\n",
            "Try using .loc[row_indexer,col_indexer] = value instead\n",
            "\n",
            "See the caveats in the documentation: https://pandas.pydata.org/pandas-docs/stable/user_guide/indexing.html#returning-a-view-versus-a-copy\n",
            "  df['FTAG'] = df['FTAG'].abs()\n"
          ]
        }
      ]
    },
    {
      "cell_type": "code",
      "source": [
        "#  Identifies and prints rows containing outliers for all numerical columns in the DataFrame.\n",
        "\n",
        "def find_and_print_outlier_rows(df):\n",
        "\n",
        "    for column in df.select_dtypes(include=['number']).columns:\n",
        "        Q1 = df[column].quantile(0.25)\n",
        "        Q3 = df[column].quantile(0.75)\n",
        "        IQR = Q3 - Q1\n",
        "        lower_bound = Q1 - 3 * IQR\n",
        "        upper_bound = Q3 + 3 * IQR\n",
        "\n",
        "        outliers = df[(df[column] < lower_bound) | (df[column] > upper_bound)]\n",
        "\n",
        "        if not outliers.empty:\n",
        "            print(f\"Rows with outliers in column '{column}':\")\n",
        "            print(outliers)\n",
        "            print(\"\\n\")"
      ],
      "metadata": {
        "id": "_dgA-4PnXFeL"
      },
      "execution_count": null,
      "outputs": []
    },
    {
      "cell_type": "code",
      "source": [
        "find_and_print_outlier_rows(df2016)"
      ],
      "metadata": {
        "colab": {
          "base_uri": "https://localhost:8080/"
        },
        "id": "DoorYIeEXFlJ",
        "outputId": "08fb3050-ccbf-4679-f998-a344253d2525"
      },
      "execution_count": null,
      "outputs": [
        {
          "output_type": "stream",
          "name": "stdout",
          "text": [
            "Rows with outliers in column 'FTHG':\n",
            "         Date     HomeTeam    AwayTeam  FTHG  FTAG FTR  HS  AS  HST  AST  HC  \\\n",
            "63   23/04/16    Barcelona    Sp Gijon     6     0   H  24   5   10    3   6   \n",
            "87   31/01/16  Real Madrid     Espanol     6     0   H  18  15    7    5   3   \n",
            "100  05/03/16  Real Madrid       Celta     7     1   H  20   8   12    3  10   \n",
            "138  14/02/16    Barcelona       Celta     6     1   H  19  10   11    4   1   \n",
            "142  17/01/16    Barcelona  Ath Bilbao     6     0   H  20   9    8    3   6   \n",
            "160  20/12/15  Real Madrid   Vallecano    10     2   H  30   9   15    4  10   \n",
            "359  12/03/16    Barcelona      Getafe     6     0   H  16   6    9    1   5   \n",
            "\n",
            "     AC  B365H  B365D  B365A  \n",
            "63    1   1.04   17.0   34.0  \n",
            "87    1   1.10   11.0   21.0  \n",
            "100   5   1.30    6.0    8.0  \n",
            "138   1   1.08   11.0   26.0  \n",
            "142   2   1.14    8.0   19.0  \n",
            "160   4   1.10   11.0   21.0  \n",
            "359   3   1.06   15.0   26.0  \n",
            "\n",
            "\n",
            "Rows with outliers in column 'HC':\n",
            "         Date HomeTeam  AwayTeam  FTHG  FTAG FTR  HS  AS  HST  AST  HC  AC  \\\n",
            "179  29/11/15  Sevilla  Valencia     1     0   H  15   0    5    0  17   0   \n",
            "\n",
            "     B365H  B365D  B365A  \n",
            "179   1.75    4.0   4.33  \n",
            "\n",
            "\n",
            "Rows with outliers in column 'B365H':\n",
            "         Date    HomeTeam     AwayTeam  FTHG  FTAG FTR  HS  AS  HST  AST  HC  \\\n",
            "10   06/03/16       Eibar    Barcelona     0     4   A   7   9    0    7   6   \n",
            "27   16/04/16      Getafe  Real Madrid     1     5   A  12  21    5   11   5   \n",
            "37   14/05/16   La Coruna  Real Madrid     0     2   A  10  16    2    5   4   \n",
            "58   23/04/16   Vallecano  Real Madrid     2     3   A  11  16    6    6   4   \n",
            "61   03/03/16   Vallecano    Barcelona     1     5   A   8  20    4    8   3   \n",
            "67   31/10/15      Getafe    Barcelona     0     2   A   6  14    0    6   3   \n",
            "77   20/03/16  Villarreal    Barcelona     2     2   D  15  15    6    6   4   \n",
            "104  20/04/16   La Coruna    Barcelona     0     8   A  16  19    5   10   6   \n",
            "111  23/01/16      Malaga    Barcelona     1     2   A  15  12    9    6   4   \n",
            "126  13/03/16  Las Palmas  Real Madrid     1     2   A  15  12    6    4   6   \n",
            "130  05/12/15    Valencia    Barcelona     1     1   D  10  16    3    5   0   \n",
            "156  30/04/16       Betis    Barcelona     0     2   A   2  11    1    4   2   \n",
            "164  12/09/15     Espanol  Real Madrid     0     6   A  14  15    3    8   5   \n",
            "178  24/01/16       Betis  Real Madrid     1     1   D   4  18    2    8   1   \n",
            "184  02/01/16     Espanol    Barcelona     0     0   D   4  10    1    2   6   \n",
            "186  19/03/16    Sp Gijon   Ath Madrid     2     1   H  12   4    3    1   7   \n",
            "195  14/05/16     Granada    Barcelona     0     3   A   8  12    2   10   5   \n",
            "204  23/08/15    Sp Gijon  Real Madrid     0     0   D   6  27    0    8   2   \n",
            "231  17/02/16    Sp Gijon    Barcelona     1     3   A   6  17    2    8   1   \n",
            "269  07/02/16     Levante    Barcelona     0     2   A  11  11    3    4   2   \n",
            "289  29/11/15       Eibar  Real Madrid     0     2   A   8  17    3    6   6   \n",
            "303  07/02/16     Granada  Real Madrid     1     2   A  14  14    2    4   3   \n",
            "304  08/05/16     Levante   Ath Madrid     2     1   H  12  17    5    5   4   \n",
            "306  19/09/15       Eibar   Ath Madrid     0     2   A   9  14    3    6   1   \n",
            "328  02/03/16     Levante  Real Madrid     1     3   A  11  21    4    8   3   \n",
            "342  20/02/16  Las Palmas    Barcelona     1     2   A  16  13    3    8   3   \n",
            "346  05/12/15     Granada   Ath Madrid     0     2   A  18  11    3    4   6   \n",
            "\n",
            "     AC  B365H  B365D  B365A  \n",
            "10    2   10.0   6.50   1.25  \n",
            "27    6    9.5   6.00   1.29  \n",
            "37    8   13.0   8.00   1.18  \n",
            "58    6    8.5   5.50   1.33  \n",
            "61    5   13.0   7.00   1.20  \n",
            "67    5   10.0   5.75   1.29  \n",
            "77    4    8.5   5.25   1.33  \n",
            "104   2   13.0   7.00   1.20  \n",
            "111   3    8.5   5.50   1.33  \n",
            "126   5    9.5   5.25   1.33  \n",
            "130   6    9.0   6.00   1.30  \n",
            "156   4   21.0   9.00   1.13  \n",
            "164   6   10.0   5.00   1.33  \n",
            "178   9    9.5   5.75   1.30  \n",
            "184  10   14.0   7.00   1.20  \n",
            "186   2    8.5   3.60   1.53  \n",
            "195   6   26.0  11.00   1.08  \n",
            "204   5   13.0   6.50   1.22  \n",
            "231   4   19.0   8.00   1.14  \n",
            "269   5   15.0   7.50   1.18  \n",
            "289   5    7.5   5.00   1.40  \n",
            "303   6   12.0   6.00   1.25  \n",
            "304   5   17.0   6.50   1.20  \n",
            "306   4    7.0   3.75   1.57  \n",
            "328  10    7.0   4.75   1.44  \n",
            "342   6   15.0   7.50   1.18  \n",
            "346   8    7.0   3.75   1.57  \n",
            "\n",
            "\n",
            "Rows with outliers in column 'B365D':\n",
            "         Date     HomeTeam     AwayTeam  FTHG  FTAG FTR  HS  AS  HST  AST  HC  \\\n",
            "17   05/12/15  Real Madrid       Getafe     4     1   H  16   7    8    3   3   \n",
            "24   26/09/15    Barcelona   Las Palmas     2     1   H  18  10    6    6   3   \n",
            "37   14/05/16    La Coruna  Real Madrid     0     2   A  10  16    2    5   4   \n",
            "45   30/12/15  Real Madrid     Sociedad     3     1   H  23  13   13    2  13   \n",
            "63   23/04/16    Barcelona     Sp Gijon     6     0   H  24   5   10    3   6   \n",
            "87   31/01/16  Real Madrid      Espanol     6     0   H  18  15    7    5   3   \n",
            "91   17/10/15  Real Madrid      Levante     3     0   H  20  15    6    5   4   \n",
            "112  09/01/16    Barcelona      Granada     4     0   H  17   8    8    4   7   \n",
            "127  28/11/15    Barcelona     Sociedad     4     0   H  11  10    6    2   6   \n",
            "138  14/02/16    Barcelona        Celta     6     1   H  19  10   11    4   1   \n",
            "142  17/01/16    Barcelona   Ath Bilbao     6     0   H  20   9    8    3   6   \n",
            "149  08/05/16    Barcelona      Espanol     5     0   H  13   4    7    1   8   \n",
            "156  30/04/16        Betis    Barcelona     0     2   A   2  11    1    4   2   \n",
            "160  20/12/15  Real Madrid    Vallecano    10     2   H  30   9   15    4  10   \n",
            "165  09/04/16  Real Madrid        Eibar     4     0   H  13   9    6    2   6   \n",
            "180  08/05/16  Real Madrid     Valencia     3     2   H  15  17    8    8   5   \n",
            "194  28/02/16    Barcelona      Sevilla     2     1   H  17  11    8    4   6   \n",
            "195  14/05/16      Granada    Barcelona     0     3   A   8  12    2   10   5   \n",
            "231  17/02/16     Sp Gijon    Barcelona     1     3   A   6  17    2    8   1   \n",
            "233  12/12/15    Barcelona    La Coruna     2     2   D  17  13    7    4   6   \n",
            "242  17/04/16    Barcelona     Valencia     1     2   A  22   7    7    2   7   \n",
            "246  17/10/15    Barcelona    Vallecano     5     2   H  14  22    9    8   7   \n",
            "247  19/09/15  Real Madrid      Granada     1     0   H  20  12   10    3  10   \n",
            "250  25/10/15    Barcelona        Eibar     3     1   H  14   7    5    5   6   \n",
            "252  17/01/16  Real Madrid     Sp Gijon     5     1   H  17   9   10    2   4   \n",
            "269  07/02/16      Levante    Barcelona     0     2   A  11  11    3    4   2   \n",
            "283  09/01/16  Real Madrid    La Coruna     5     0   H  23  18    9    4   5   \n",
            "288  31/10/15  Real Madrid   Las Palmas     3     1   H  17   8   11    5   6   \n",
            "322  30/12/15    Barcelona        Betis     4     0   H  16  11    7    4   2   \n",
            "333  26/09/15  Real Madrid       Malaga     0     0   D  31  12    9    3  12   \n",
            "334  20/09/15    Barcelona      Levante     4     1   H  21  11    8    4   4   \n",
            "342  20/02/16   Las Palmas    Barcelona     1     2   A  16  13    3    8   3   \n",
            "351  29/08/15    Barcelona       Malaga     1     0   H  22   4   13    1  15   \n",
            "359  12/03/16    Barcelona       Getafe     6     0   H  16   6    9    1   5   \n",
            "361  29/08/15  Real Madrid        Betis     5     0   H  21   7   11    1  11   \n",
            "\n",
            "     AC  B365H  B365D  B365A  \n",
            "17    4   1.10   11.0  21.00  \n",
            "24    4   1.08   11.0  26.00  \n",
            "37    8  13.00    8.0   1.18  \n",
            "45    2   1.10   10.0  19.00  \n",
            "63    1   1.04   17.0  34.00  \n",
            "87    1   1.10   11.0  21.00  \n",
            "91    4   1.08   12.0  23.00  \n",
            "112   0   1.05   15.0  34.00  \n",
            "127   4   1.07   13.0  23.00  \n",
            "138   1   1.08   11.0  26.00  \n",
            "142   2   1.14    8.0  19.00  \n",
            "149   0   1.04   17.0  41.00  \n",
            "156   4  21.00    9.0   1.13  \n",
            "160   4   1.10   11.0  21.00  \n",
            "165   7   1.17    7.5  13.00  \n",
            "180   8   1.20    7.5  11.00  \n",
            "194   7   1.14    8.0  15.00  \n",
            "195   6  26.00   11.0   1.08  \n",
            "231   4  19.00    8.0   1.14  \n",
            "233   2   1.07   13.0  26.00  \n",
            "242   2   1.14    9.0  17.00  \n",
            "246  10   1.14    9.0  15.00  \n",
            "247   1   1.06   15.0  26.00  \n",
            "250   2   1.11   10.0  19.00  \n",
            "252   4   1.05   17.0  26.00  \n",
            "269   5  15.00    7.5   1.18  \n",
            "283   9   1.11    9.0  21.00  \n",
            "288   3   1.09   11.0  23.00  \n",
            "322   3   1.06   13.0  26.00  \n",
            "333   6   1.11   10.0  21.00  \n",
            "334   4   1.06   12.0  29.00  \n",
            "342   6  15.00    7.5   1.18  \n",
            "351   2   1.10   10.0  26.00  \n",
            "359   3   1.06   15.0  26.00  \n",
            "361   4   1.10   10.0  26.00  \n",
            "\n",
            "\n",
            "Rows with outliers in column 'B365A':\n",
            "         Date     HomeTeam    AwayTeam  FTHG  FTAG FTR  HS  AS  HST  AST  HC  \\\n",
            "17   05/12/15  Real Madrid      Getafe     4     1   H  16   7    8    3   3   \n",
            "24   26/09/15    Barcelona  Las Palmas     2     1   H  18  10    6    6   3   \n",
            "45   30/12/15  Real Madrid    Sociedad     3     1   H  23  13   13    2  13   \n",
            "63   23/04/16    Barcelona    Sp Gijon     6     0   H  24   5   10    3   6   \n",
            "87   31/01/16  Real Madrid     Espanol     6     0   H  18  15    7    5   3   \n",
            "91   17/10/15  Real Madrid     Levante     3     0   H  20  15    6    5   4   \n",
            "112  09/01/16    Barcelona     Granada     4     0   H  17   8    8    4   7   \n",
            "127  28/11/15    Barcelona    Sociedad     4     0   H  11  10    6    2   6   \n",
            "138  14/02/16    Barcelona       Celta     6     1   H  19  10   11    4   1   \n",
            "142  17/01/16    Barcelona  Ath Bilbao     6     0   H  20   9    8    3   6   \n",
            "149  08/05/16    Barcelona     Espanol     5     0   H  13   4    7    1   8   \n",
            "160  20/12/15  Real Madrid   Vallecano    10     2   H  30   9   15    4  10   \n",
            "233  12/12/15    Barcelona   La Coruna     2     2   D  17  13    7    4   6   \n",
            "241  08/11/15   Ath Madrid    Sp Gijon     1     0   H  15   9    3    2   5   \n",
            "242  17/04/16    Barcelona    Valencia     1     2   A  22   7    7    2   7   \n",
            "247  19/09/15  Real Madrid     Granada     1     0   H  20  12   10    3  10   \n",
            "250  25/10/15    Barcelona       Eibar     3     1   H  14   7    5    5   6   \n",
            "252  17/01/16  Real Madrid    Sp Gijon     5     1   H  17   9   10    2   4   \n",
            "283  09/01/16  Real Madrid   La Coruna     5     0   H  23  18    9    4   5   \n",
            "288  31/10/15  Real Madrid  Las Palmas     3     1   H  17   8   11    5   6   \n",
            "322  30/12/15    Barcelona       Betis     4     0   H  16  11    7    4   2   \n",
            "333  26/09/15  Real Madrid      Malaga     0     0   D  31  12    9    3  12   \n",
            "334  20/09/15    Barcelona     Levante     4     1   H  21  11    8    4   4   \n",
            "351  29/08/15    Barcelona      Malaga     1     0   H  22   4   13    1  15   \n",
            "359  12/03/16    Barcelona      Getafe     6     0   H  16   6    9    1   5   \n",
            "361  29/08/15  Real Madrid       Betis     5     0   H  21   7   11    1  11   \n",
            "370  02/01/16   Ath Madrid     Levante     1     0   H  16   9    2    1  13   \n",
            "\n",
            "     AC  B365H  B365D  B365A  \n",
            "17    4   1.10   11.0   21.0  \n",
            "24    4   1.08   11.0   26.0  \n",
            "45    2   1.10   10.0   19.0  \n",
            "63    1   1.04   17.0   34.0  \n",
            "87    1   1.10   11.0   21.0  \n",
            "91    4   1.08   12.0   23.0  \n",
            "112   0   1.05   15.0   34.0  \n",
            "127   4   1.07   13.0   23.0  \n",
            "138   1   1.08   11.0   26.0  \n",
            "142   2   1.14    8.0   19.0  \n",
            "149   0   1.04   17.0   41.0  \n",
            "160   4   1.10   11.0   21.0  \n",
            "233   2   1.07   13.0   26.0  \n",
            "241   1   1.20    6.5   17.0  \n",
            "242   2   1.14    9.0   17.0  \n",
            "247   1   1.06   15.0   26.0  \n",
            "250   2   1.11   10.0   19.0  \n",
            "252   4   1.05   17.0   26.0  \n",
            "283   9   1.11    9.0   21.0  \n",
            "288   3   1.09   11.0   23.0  \n",
            "322   3   1.06   13.0   26.0  \n",
            "333   6   1.11   10.0   21.0  \n",
            "334   4   1.06   12.0   29.0  \n",
            "351   2   1.10   10.0   26.0  \n",
            "359   3   1.06   15.0   26.0  \n",
            "361   4   1.10   10.0   26.0  \n",
            "370   1   1.20    6.5   17.0  \n",
            "\n",
            "\n"
          ]
        }
      ]
    },
    {
      "cell_type": "code",
      "source": [
        "# Filter the DataFrame to select rows where both 'FTHG' and 'FTAG' are smaller than 30,including rows where 'FTHG' or 'FTAG' might be NA.\n",
        "\n",
        "def filter_goals_under_30(df):\n",
        "\n",
        "    filtered_df = df[((df['FTHG'] < 30) & (df['FTAG'] < 30)) | df['FTHG'].isna() | df['FTAG'].isna()]\n",
        "    return filtered_df"
      ],
      "metadata": {
        "id": "Jf64WZWVXOfw"
      },
      "execution_count": null,
      "outputs": []
    },
    {
      "cell_type": "markdown",
      "source": [
        "Occasionally, the 'FTAG' and 'FTHG' columns hold extraordinarily high values. For example, suggesting Liverpool could score 608 goals in a single match strikes me as complete nonsense"
      ],
      "metadata": {
        "id": "AgEkPr5Wj_3H"
      }
    },
    {
      "cell_type": "code",
      "source": [
        "df2016 = filter_goals_under_30(df2016)\n",
        "df2017 = filter_goals_under_30(df2017)\n",
        "df2018 = filter_goals_under_30(df2018)\n",
        "df2019 = filter_goals_under_30(df2019)\n",
        "df2020 = filter_goals_under_30(df2020)\n",
        "df2021 = filter_goals_under_30(df2021)\n",
        "df2022 = filter_goals_under_30(df2022)"
      ],
      "metadata": {
        "id": "UH516e9OXOig"
      },
      "execution_count": null,
      "outputs": []
    },
    {
      "cell_type": "code",
      "source": [
        "# Function to selectively impute missing values in a DataFrame using KNNImputer.\n",
        "# The imputation is applied only to columns with missing values, and results are rounded to integers.\n",
        "\n",
        "\n",
        "from sklearn.impute import KNNImputer\n",
        "\n",
        "def impute_missing_values_knn(df, n_neighbors=5):\n",
        "    cols_with_missing = df.columns[df.isnull().any()]\n",
        "    numeric_cols_with_missing = df[cols_with_missing].select_dtypes(include=[np.number]).columns\n",
        "\n",
        "    imputer = KNNImputer(n_neighbors=n_neighbors)\n",
        "\n",
        "    df_numeric_imputed = df.copy()\n",
        "    if len(numeric_cols_with_missing) > 0:\n",
        "        imputed_data = imputer.fit_transform(df[numeric_cols_with_missing])\n",
        "        df_imputed = pd.DataFrame(imputed_data, columns=numeric_cols_with_missing, index=df.index)\n",
        "\n",
        "        for col in numeric_cols_with_missing:\n",
        "            df_numeric_imputed[col] = df_numeric_imputed[col].fillna(np.round(df_imputed[col]))\n",
        "\n",
        "    return df_numeric_imputed"
      ],
      "metadata": {
        "id": "Xy4wO_KgXOlg"
      },
      "execution_count": null,
      "outputs": []
    },
    {
      "cell_type": "markdown",
      "source": [
        "  Function to preprocess football data and create new features:\n",
        "   \n",
        "  * Home and Away Team Win Rates\n",
        "  * Home and Away Team Goals Average\n",
        "  * Winning probabilities from Brokers's Betting Odds\n",
        "  * goal ratio if the shot hits the target (total goal/ total shots on target)\n",
        "  * remove rows where the home team is the same as away team"
      ],
      "metadata": {
        "id": "MSQgeh_0l__l"
      }
    },
    {
      "cell_type": "code",
      "source": [
        "def preprocess_football_data(df):\n",
        "\n",
        "\n",
        "    # Calculating win rates and average goals\n",
        "    home_win_rate = df.groupby('HomeTeam')['FTR'].apply(lambda x: round((x == 'H').mean(), 2)).to_dict()\n",
        "    away_win_rate = df.groupby('AwayTeam')['FTR'].apply(lambda x: round((x == 'A').mean(), 2)).to_dict()\n",
        "    home_goals_avg = df.groupby('HomeTeam')['FTHG'].mean().apply(lambda x: round(x, 2)).to_dict()\n",
        "    away_goals_avg = df.groupby('AwayTeam')['FTAG'].mean().apply(lambda x: round(x, 2)).to_dict()\n",
        "    home_goals_conceded_avg = df.groupby('HomeTeam')['FTAG'].mean().apply(lambda x: round(x, 2)).to_dict()\n",
        "    away_goals_conceded_avg = df.groupby('AwayTeam')['FTHG'].mean().apply(lambda x: round(x, 2)).to_dict()\n",
        "    goal_ratio_H = df.groupby('HomeTeam').apply(lambda x: round(x['FTHG'].sum() / x['HST'].sum(),2) if x['HST'].sum() > 0 else 0)\n",
        "    goal_ratio_A = df.groupby('AwayTeam').apply(lambda x: round(x['FTAG'].sum() / x['AST'].sum(),2) if x['AST'].sum() > 0 else 0)\n",
        "\n",
        "\n",
        "    # Mapping the win rates and average goals to the main DataFrame\n",
        "    df['HomeTeam_WinRate'] = df['HomeTeam'].map(home_win_rate)\n",
        "    df['AwayTeam_WinRate'] = df['AwayTeam'].map(away_win_rate)\n",
        "    df['HomeTeam_GoalsAvg'] = df['HomeTeam'].map(home_goals_avg)\n",
        "    df['AwayTeam_GoalsAvg'] = df['AwayTeam'].map(away_goals_avg)\n",
        "    df['HomeTeam_goals_conceded_avg'] = df['HomeTeam'].map(home_goals_conceded_avg)\n",
        "    df['AwayTeam_goals_conceded_avg'] = df['AwayTeam'].map(away_goals_conceded_avg)\n",
        "\n",
        "\n",
        "    # Calculating implied probabilities from betting odds\n",
        "    df['Broker_prob_H'] = round(1 / df['B365H'], 2)\n",
        "    df['Broker_prob_D'] = round(1 / df['B365D'], 2)\n",
        "    df['Broker_prob_A'] = round(1 / df['B365A'], 2)\n",
        "\n",
        "     # Calculate the total goals for each match\n",
        "    df['total_goal'] = df['FTHG'] + df['FTAG']\n",
        "\n",
        "\n",
        "    # Map the conversion rates back to the original DataFrame\n",
        "    df['H_goal_ratio'] = df['HomeTeam'].map(goal_ratio_H)\n",
        "    df['A_goal_ratio'] = df['AwayTeam'].map(goal_ratio_A)\n",
        "\n",
        "    clean_df = df[df['HomeTeam'] != df['AwayTeam']]\n",
        "\n",
        "\n",
        "\n",
        "\n",
        "    return clean_df"
      ],
      "metadata": {
        "id": "NVjr23_xmBqz"
      },
      "execution_count": null,
      "outputs": []
    },
    {
      "cell_type": "markdown",
      "source": [
        "This function below  analyzes soccer matches by taking into account the historical performance of teams against each other, rather than looking at their overall performance. This can provide insights into how teams perform against specific opponents, which might be different from their general performance trends.\n",
        "\n",
        "A team might generally be strong but consistently struggle against a particular rival.\n",
        "\n",
        "The formula used is ((3*wins + draws) - losses) / total_matches\n",
        "\n",
        "It awards 3 points for a win, 1 point for a draw, and subtracts points for losses.\n",
        "\n",
        "For example: Barcelona vs Getafe 4 times in season 2018\n",
        "Barcelona won all the matches and Getafe lost all, so the adjusted winrate ratio of Barcelona, when plays againts Getafe is:\n",
        "((3*4 + 0) - 0) / 4 = 3\n",
        "\n",
        "And because Getafe lost all when played agiants Barcelona, its adjusted winrate ratio, when Getafe plays againts Barcelona is -1\n",
        "\n",
        "this would change if Barcelona played againts strong rival such as Real Madrid\n",
        "\n",
        "So this feature is a Head-to-Head Performance Indicator\n",
        "\n"
      ],
      "metadata": {
        "id": "ShaWlqu8kOPm"
      }
    },
    {
      "cell_type": "code",
      "source": [
        "def add_adjusted_win_loss_ratio(df):\n",
        "    def adjusted_win_loss_ratio(wins, draws, losses, total_matches):\n",
        "        return ((3*wins + draws) - losses) / total_matches if total_matches > 0 else 0\n",
        "\n",
        "    # Initialize a dictionary to track head-to-head stats\n",
        "    head_to_head_stats = {}\n",
        "\n",
        "    # Update head-to-head stats\n",
        "    for index, row in df.iterrows():\n",
        "        teams = tuple(sorted([row['HomeTeam'], row['AwayTeam']]))\n",
        "        if teams not in head_to_head_stats:\n",
        "            head_to_head_stats[teams] = {'wins': {teams[0]: 0, teams[1]: 0},\n",
        "                                         'draws': 0,\n",
        "                                         'total_matches': 0}\n",
        "\n",
        "        head_to_head_stats[teams]['total_matches'] += 1\n",
        "        if row['FTR'] == 'H':\n",
        "            head_to_head_stats[teams]['wins'][row['HomeTeam']] += 1\n",
        "        elif row['FTR'] == 'D':\n",
        "            head_to_head_stats[teams]['draws'] += 1\n",
        "        elif row['FTR'] == 'A':\n",
        "            head_to_head_stats[teams]['wins'][row['AwayTeam']] += 1\n",
        "\n",
        "    # Calculate and add the adjusted win-loss ratio to the DataFrame\n",
        "    def calculate_ratio_for_match(row):\n",
        "        teams = tuple(sorted([row['HomeTeam'], row['AwayTeam']]))\n",
        "        stats = head_to_head_stats[teams]\n",
        "        home_wins = stats['wins'][row['HomeTeam']]\n",
        "        away_wins = stats['wins'][row['AwayTeam']]\n",
        "        draws = stats['draws']\n",
        "        total_matches = stats['total_matches']\n",
        "        home_ratio = adjusted_win_loss_ratio(home_wins, draws, total_matches - home_wins - draws, total_matches)\n",
        "        away_ratio = adjusted_win_loss_ratio(away_wins, draws, total_matches - away_wins - draws, total_matches)\n",
        "        return pd.Series([home_ratio, away_ratio])\n",
        "\n",
        "    df[['adjusted_win_lost_ratio_H', 'adjusted_win_lost_ratio_A']] = df.apply(calculate_ratio_for_match, axis=1)\n",
        "\n",
        "    return df"
      ],
      "metadata": {
        "id": "RxV4kwNTIU63"
      },
      "execution_count": null,
      "outputs": []
    },
    {
      "cell_type": "markdown",
      "source": [
        "I developed the features 'attack_strength_home_team' and 'attack_strength_away_team' for every team in the league.\n",
        "\n",
        "calculate_attack_strength is designed to evaluate the offensive capabilities of soccer teams within a league, specifically by calculating their \"attack strength.\" This is done by comparing the goal-scoring performance of each team to the league average, separately for home and away matches.\n"
      ],
      "metadata": {
        "id": "rpjSkIEAnI09"
      }
    },
    {
      "cell_type": "code",
      "source": [
        "def calculate_attack_strength(df):\n",
        "    # Calculate total goals for each team\n",
        "    total_home_goals = df.groupby('HomeTeam')['FTHG'].sum()\n",
        "    total_away_goals = df.groupby('AwayTeam')['FTAG'].sum()\n",
        "\n",
        "    # Calculate league averages for home and away goals\n",
        "    average_home_goals = df['FTHG'].mean()\n",
        "    average_away_goals = df['FTAG'].mean()\n",
        "\n",
        "    # Calculate attack strength\n",
        "    df['attack_strength_home_team'] = df['HomeTeam'].apply(lambda x: round(total_home_goals[x] / average_home_goals,2))\n",
        "    df['attack_strength_away_team'] = df['AwayTeam'].apply(lambda x: round(total_away_goals[x] / average_away_goals,2))\n",
        "\n",
        "    return df\n"
      ],
      "metadata": {
        "id": "Jdjd-Uz5mGbJ"
      },
      "execution_count": null,
      "outputs": []
    },
    {
      "cell_type": "code",
      "source": [
        "df2016 =  preprocess_football_data(df2016)\n",
        "df2017 =  preprocess_football_data(df2017)\n",
        "df2018 =  preprocess_football_data(df2018)\n",
        "df2019 =  preprocess_football_data(df2019)\n",
        "df2020 =  preprocess_football_data(df2020)\n",
        "df2021 =  preprocess_football_data(df2021)\n",
        "df2022 =  preprocess_football_data(df2022)"
      ],
      "metadata": {
        "id": "MnPnFbRnmK6z"
      },
      "execution_count": null,
      "outputs": []
    },
    {
      "cell_type": "code",
      "source": [
        "df2016 = calculate_attack_strength(df2016)\n",
        "df2017 = calculate_attack_strength(df2017)\n",
        "df2018 = calculate_attack_strength(df2018)\n",
        "df2019 = calculate_attack_strength(df2019)\n",
        "df2020 = calculate_attack_strength(df2020)\n",
        "df2021 = calculate_attack_strength(df2021)\n",
        "df2022 = calculate_attack_strength(df2022)"
      ],
      "metadata": {
        "id": "3AyxWKAwmLBj"
      },
      "execution_count": null,
      "outputs": []
    },
    {
      "cell_type": "code",
      "source": [
        "df2016 =  add_adjusted_win_loss_ratio(df2016)\n",
        "df2017 =  add_adjusted_win_loss_ratio(df2017)\n",
        "df2018 =  add_adjusted_win_loss_ratio(df2018)\n",
        "df2019 =  add_adjusted_win_loss_ratio(df2019)\n",
        "df2020 =  add_adjusted_win_loss_ratio(df2020)\n",
        "df2021 =  add_adjusted_win_loss_ratio(df2021)\n",
        "df2022 =  add_adjusted_win_loss_ratio(df2022)"
      ],
      "metadata": {
        "id": "3NMi-oUaIaej"
      },
      "execution_count": null,
      "outputs": []
    },
    {
      "cell_type": "code",
      "source": [
        "def process_time_data(df, target_year):\n",
        "    # Convert 'Date' column to datetime\n",
        "    df['Date'] = pd.to_datetime(df['Date'])\n",
        "\n",
        "    # Extract 'Day', 'Month', and 'Year' from 'Date'\n",
        "    df['Day'] = df['Date'].dt.day\n",
        "    df['Month'] = df['Date'].dt.month\n",
        "    df['Year'] = df['Date'].dt.year\n",
        "\n",
        "    # Adjust 'Year' values\n",
        "    df['Year'] = df['Year'].apply(lambda x: target_year if x != target_year else x)\n",
        "\n",
        "    # Drop 'Day' and 'Month' columns\n",
        "    df.drop(['Day', 'Month', 'Date'], axis=1, inplace=True)\n",
        "\n",
        "    return df\n"
      ],
      "metadata": {
        "id": "q08BwfbnL81a"
      },
      "execution_count": null,
      "outputs": []
    },
    {
      "cell_type": "code",
      "source": [
        "df2016 = process_time_data(df2016, 2016)\n",
        "df2017 = process_time_data(df2017, 2017)\n",
        "df2018 = process_time_data(df2018, 2018)\n",
        "df2019 = process_time_data(df2019, 2019)\n",
        "df2020 = process_time_data(df2020, 2020)\n",
        "df2021 = process_time_data(df2021, 2021)\n",
        "df2022 = process_time_data(df2022, 2022)"
      ],
      "metadata": {
        "colab": {
          "base_uri": "https://localhost:8080/"
        },
        "id": "lDmtNVsQL838",
        "outputId": "e49b1d9f-8c9b-45e5-a98f-89e9c296f22c"
      },
      "execution_count": null,
      "outputs": [
        {
          "output_type": "stream",
          "name": "stderr",
          "text": [
            "<ipython-input-23-43f5887e43f7>:3: UserWarning: Parsing dates in DD/MM/YYYY format when dayfirst=False (the default) was specified. This may lead to inconsistently parsed dates! Specify a format to ensure consistent parsing.\n",
            "  df['Date'] = pd.to_datetime(df['Date'])\n",
            "<ipython-input-23-43f5887e43f7>:3: UserWarning: Parsing dates in DD/MM/YYYY format when dayfirst=False (the default) was specified. This may lead to inconsistently parsed dates! Specify a format to ensure consistent parsing.\n",
            "  df['Date'] = pd.to_datetime(df['Date'])\n",
            "<ipython-input-23-43f5887e43f7>:3: UserWarning: Parsing dates in DD/MM/YYYY format when dayfirst=False (the default) was specified. This may lead to inconsistently parsed dates! Specify a format to ensure consistent parsing.\n",
            "  df['Date'] = pd.to_datetime(df['Date'])\n",
            "<ipython-input-23-43f5887e43f7>:3: UserWarning: Parsing dates in DD/MM/YYYY format when dayfirst=False (the default) was specified. This may lead to inconsistently parsed dates! Specify a format to ensure consistent parsing.\n",
            "  df['Date'] = pd.to_datetime(df['Date'])\n"
          ]
        }
      ]
    },
    {
      "cell_type": "code",
      "source": [
        "columns_to_drop = ['FTHG', 'FTAG', 'HTR', 'HC', 'AC', 'HST', 'AST', 'HS', 'AS'] # these columns would not be available in test set"
      ],
      "metadata": {
        "id": "O_xD5Ff_L86m"
      },
      "execution_count": null,
      "outputs": []
    },
    {
      "cell_type": "code",
      "source": [
        "spn1 = pd.concat( [df2016, df2017, df2018, df2019, df2020, df2021, df2022], ignore_index=True)"
      ],
      "metadata": {
        "id": "zz48woFXmRfw"
      },
      "execution_count": null,
      "outputs": []
    },
    {
      "cell_type": "code",
      "source": [
        "spn1 = spn1.drop(columns=columns_to_drop, errors='ignore')"
      ],
      "metadata": {
        "id": "oPAWnsIum32y"
      },
      "execution_count": null,
      "outputs": []
    },
    {
      "cell_type": "code",
      "source": [
        "spn1.head()"
      ],
      "metadata": {
        "id": "JFQbFcRXnAkF",
        "colab": {
          "base_uri": "https://localhost:8080/",
          "height": 290
        },
        "outputId": "1dc544dd-c339-4401-851d-8d2e8edaa82c"
      },
      "execution_count": null,
      "outputs": [
        {
          "output_type": "execute_result",
          "data": {
            "text/plain": [
              "     HomeTeam    AwayTeam FTR  B365H  B365D  B365A  HomeTeam_WinRate  \\\n",
              "0       Eibar       Celta   D   3.75   3.40   2.05              0.39   \n",
              "1     Levante  Las Palmas   H   2.38   3.10   3.25              0.39   \n",
              "2    Valencia  Villarreal   A   2.20   3.30   3.40              0.32   \n",
              "3    Valencia    Sp Gijon   A   1.75   3.75   4.75              0.32   \n",
              "4  Las Palmas     Sevilla   H   3.30   3.40   2.20              0.42   \n",
              "\n",
              "   AwayTeam_WinRate  HomeTeam_GoalsAvg  AwayTeam_GoalsAvg  ...  Broker_prob_D  \\\n",
              "0              0.42               1.28               1.16  ...           0.29   \n",
              "1              0.21               1.22               1.05  ...           0.32   \n",
              "2              0.32               1.32               0.95  ...           0.30   \n",
              "3              0.17               1.32               0.67  ...           0.27   \n",
              "4              0.00               1.32               0.65  ...           0.29   \n",
              "\n",
              "   Broker_prob_A  total_goal  H_goal_ratio  A_goal_ratio  \\\n",
              "0           0.49           2          0.30          0.34   \n",
              "1           0.31           5          0.30          0.23   \n",
              "2           0.29           2          0.32          0.32   \n",
              "3           0.21           1          0.32          0.33   \n",
              "4           0.45           2          0.32          0.17   \n",
              "\n",
              "   attack_strength_home_team  attack_strength_away_team  \\\n",
              "0                      14.21                      19.49   \n",
              "1                      13.59                      17.71   \n",
              "2                      15.45                      15.94   \n",
              "3                      15.45                      10.63   \n",
              "4                      15.45                       9.74   \n",
              "\n",
              "   adjusted_win_lost_ratio_H  adjusted_win_lost_ratio_A  Year  \n",
              "0                        0.0                        2.0  2016  \n",
              "1                        2.0                        0.0  2016  \n",
              "2                       -1.0                        3.0  2016  \n",
              "3                        1.0                        1.0  2016  \n",
              "4                        1.0                        1.0  2016  \n",
              "\n",
              "[5 rows x 23 columns]"
            ],
            "text/html": [
              "\n",
              "  <div id=\"df-6d6b9c98-32da-463c-aa01-59e061bdb2c6\" class=\"colab-df-container\">\n",
              "    <div>\n",
              "<style scoped>\n",
              "    .dataframe tbody tr th:only-of-type {\n",
              "        vertical-align: middle;\n",
              "    }\n",
              "\n",
              "    .dataframe tbody tr th {\n",
              "        vertical-align: top;\n",
              "    }\n",
              "\n",
              "    .dataframe thead th {\n",
              "        text-align: right;\n",
              "    }\n",
              "</style>\n",
              "<table border=\"1\" class=\"dataframe\">\n",
              "  <thead>\n",
              "    <tr style=\"text-align: right;\">\n",
              "      <th></th>\n",
              "      <th>HomeTeam</th>\n",
              "      <th>AwayTeam</th>\n",
              "      <th>FTR</th>\n",
              "      <th>B365H</th>\n",
              "      <th>B365D</th>\n",
              "      <th>B365A</th>\n",
              "      <th>HomeTeam_WinRate</th>\n",
              "      <th>AwayTeam_WinRate</th>\n",
              "      <th>HomeTeam_GoalsAvg</th>\n",
              "      <th>AwayTeam_GoalsAvg</th>\n",
              "      <th>...</th>\n",
              "      <th>Broker_prob_D</th>\n",
              "      <th>Broker_prob_A</th>\n",
              "      <th>total_goal</th>\n",
              "      <th>H_goal_ratio</th>\n",
              "      <th>A_goal_ratio</th>\n",
              "      <th>attack_strength_home_team</th>\n",
              "      <th>attack_strength_away_team</th>\n",
              "      <th>adjusted_win_lost_ratio_H</th>\n",
              "      <th>adjusted_win_lost_ratio_A</th>\n",
              "      <th>Year</th>\n",
              "    </tr>\n",
              "  </thead>\n",
              "  <tbody>\n",
              "    <tr>\n",
              "      <th>0</th>\n",
              "      <td>Eibar</td>\n",
              "      <td>Celta</td>\n",
              "      <td>D</td>\n",
              "      <td>3.75</td>\n",
              "      <td>3.40</td>\n",
              "      <td>2.05</td>\n",
              "      <td>0.39</td>\n",
              "      <td>0.42</td>\n",
              "      <td>1.28</td>\n",
              "      <td>1.16</td>\n",
              "      <td>...</td>\n",
              "      <td>0.29</td>\n",
              "      <td>0.49</td>\n",
              "      <td>2</td>\n",
              "      <td>0.30</td>\n",
              "      <td>0.34</td>\n",
              "      <td>14.21</td>\n",
              "      <td>19.49</td>\n",
              "      <td>0.0</td>\n",
              "      <td>2.0</td>\n",
              "      <td>2016</td>\n",
              "    </tr>\n",
              "    <tr>\n",
              "      <th>1</th>\n",
              "      <td>Levante</td>\n",
              "      <td>Las Palmas</td>\n",
              "      <td>H</td>\n",
              "      <td>2.38</td>\n",
              "      <td>3.10</td>\n",
              "      <td>3.25</td>\n",
              "      <td>0.39</td>\n",
              "      <td>0.21</td>\n",
              "      <td>1.22</td>\n",
              "      <td>1.05</td>\n",
              "      <td>...</td>\n",
              "      <td>0.32</td>\n",
              "      <td>0.31</td>\n",
              "      <td>5</td>\n",
              "      <td>0.30</td>\n",
              "      <td>0.23</td>\n",
              "      <td>13.59</td>\n",
              "      <td>17.71</td>\n",
              "      <td>2.0</td>\n",
              "      <td>0.0</td>\n",
              "      <td>2016</td>\n",
              "    </tr>\n",
              "    <tr>\n",
              "      <th>2</th>\n",
              "      <td>Valencia</td>\n",
              "      <td>Villarreal</td>\n",
              "      <td>A</td>\n",
              "      <td>2.20</td>\n",
              "      <td>3.30</td>\n",
              "      <td>3.40</td>\n",
              "      <td>0.32</td>\n",
              "      <td>0.32</td>\n",
              "      <td>1.32</td>\n",
              "      <td>0.95</td>\n",
              "      <td>...</td>\n",
              "      <td>0.30</td>\n",
              "      <td>0.29</td>\n",
              "      <td>2</td>\n",
              "      <td>0.32</td>\n",
              "      <td>0.32</td>\n",
              "      <td>15.45</td>\n",
              "      <td>15.94</td>\n",
              "      <td>-1.0</td>\n",
              "      <td>3.0</td>\n",
              "      <td>2016</td>\n",
              "    </tr>\n",
              "    <tr>\n",
              "      <th>3</th>\n",
              "      <td>Valencia</td>\n",
              "      <td>Sp Gijon</td>\n",
              "      <td>A</td>\n",
              "      <td>1.75</td>\n",
              "      <td>3.75</td>\n",
              "      <td>4.75</td>\n",
              "      <td>0.32</td>\n",
              "      <td>0.17</td>\n",
              "      <td>1.32</td>\n",
              "      <td>0.67</td>\n",
              "      <td>...</td>\n",
              "      <td>0.27</td>\n",
              "      <td>0.21</td>\n",
              "      <td>1</td>\n",
              "      <td>0.32</td>\n",
              "      <td>0.33</td>\n",
              "      <td>15.45</td>\n",
              "      <td>10.63</td>\n",
              "      <td>1.0</td>\n",
              "      <td>1.0</td>\n",
              "      <td>2016</td>\n",
              "    </tr>\n",
              "    <tr>\n",
              "      <th>4</th>\n",
              "      <td>Las Palmas</td>\n",
              "      <td>Sevilla</td>\n",
              "      <td>H</td>\n",
              "      <td>3.30</td>\n",
              "      <td>3.40</td>\n",
              "      <td>2.20</td>\n",
              "      <td>0.42</td>\n",
              "      <td>0.00</td>\n",
              "      <td>1.32</td>\n",
              "      <td>0.65</td>\n",
              "      <td>...</td>\n",
              "      <td>0.29</td>\n",
              "      <td>0.45</td>\n",
              "      <td>2</td>\n",
              "      <td>0.32</td>\n",
              "      <td>0.17</td>\n",
              "      <td>15.45</td>\n",
              "      <td>9.74</td>\n",
              "      <td>1.0</td>\n",
              "      <td>1.0</td>\n",
              "      <td>2016</td>\n",
              "    </tr>\n",
              "  </tbody>\n",
              "</table>\n",
              "<p>5 rows × 23 columns</p>\n",
              "</div>\n",
              "    <div class=\"colab-df-buttons\">\n",
              "\n",
              "  <div class=\"colab-df-container\">\n",
              "    <button class=\"colab-df-convert\" onclick=\"convertToInteractive('df-6d6b9c98-32da-463c-aa01-59e061bdb2c6')\"\n",
              "            title=\"Convert this dataframe to an interactive table.\"\n",
              "            style=\"display:none;\">\n",
              "\n",
              "  <svg xmlns=\"http://www.w3.org/2000/svg\" height=\"24px\" viewBox=\"0 -960 960 960\">\n",
              "    <path d=\"M120-120v-720h720v720H120Zm60-500h600v-160H180v160Zm220 220h160v-160H400v160Zm0 220h160v-160H400v160ZM180-400h160v-160H180v160Zm440 0h160v-160H620v160ZM180-180h160v-160H180v160Zm440 0h160v-160H620v160Z\"/>\n",
              "  </svg>\n",
              "    </button>\n",
              "\n",
              "  <style>\n",
              "    .colab-df-container {\n",
              "      display:flex;\n",
              "      gap: 12px;\n",
              "    }\n",
              "\n",
              "    .colab-df-convert {\n",
              "      background-color: #E8F0FE;\n",
              "      border: none;\n",
              "      border-radius: 50%;\n",
              "      cursor: pointer;\n",
              "      display: none;\n",
              "      fill: #1967D2;\n",
              "      height: 32px;\n",
              "      padding: 0 0 0 0;\n",
              "      width: 32px;\n",
              "    }\n",
              "\n",
              "    .colab-df-convert:hover {\n",
              "      background-color: #E2EBFA;\n",
              "      box-shadow: 0px 1px 2px rgba(60, 64, 67, 0.3), 0px 1px 3px 1px rgba(60, 64, 67, 0.15);\n",
              "      fill: #174EA6;\n",
              "    }\n",
              "\n",
              "    .colab-df-buttons div {\n",
              "      margin-bottom: 4px;\n",
              "    }\n",
              "\n",
              "    [theme=dark] .colab-df-convert {\n",
              "      background-color: #3B4455;\n",
              "      fill: #D2E3FC;\n",
              "    }\n",
              "\n",
              "    [theme=dark] .colab-df-convert:hover {\n",
              "      background-color: #434B5C;\n",
              "      box-shadow: 0px 1px 3px 1px rgba(0, 0, 0, 0.15);\n",
              "      filter: drop-shadow(0px 1px 2px rgba(0, 0, 0, 0.3));\n",
              "      fill: #FFFFFF;\n",
              "    }\n",
              "  </style>\n",
              "\n",
              "    <script>\n",
              "      const buttonEl =\n",
              "        document.querySelector('#df-6d6b9c98-32da-463c-aa01-59e061bdb2c6 button.colab-df-convert');\n",
              "      buttonEl.style.display =\n",
              "        google.colab.kernel.accessAllowed ? 'block' : 'none';\n",
              "\n",
              "      async function convertToInteractive(key) {\n",
              "        const element = document.querySelector('#df-6d6b9c98-32da-463c-aa01-59e061bdb2c6');\n",
              "        const dataTable =\n",
              "          await google.colab.kernel.invokeFunction('convertToInteractive',\n",
              "                                                    [key], {});\n",
              "        if (!dataTable) return;\n",
              "\n",
              "        const docLinkHtml = 'Like what you see? Visit the ' +\n",
              "          '<a target=\"_blank\" href=https://colab.research.google.com/notebooks/data_table.ipynb>data table notebook</a>'\n",
              "          + ' to learn more about interactive tables.';\n",
              "        element.innerHTML = '';\n",
              "        dataTable['output_type'] = 'display_data';\n",
              "        await google.colab.output.renderOutput(dataTable, element);\n",
              "        const docLink = document.createElement('div');\n",
              "        docLink.innerHTML = docLinkHtml;\n",
              "        element.appendChild(docLink);\n",
              "      }\n",
              "    </script>\n",
              "  </div>\n",
              "\n",
              "\n",
              "<div id=\"df-f3faf493-f7b8-4baf-817d-fb72e8b8abf4\">\n",
              "  <button class=\"colab-df-quickchart\" onclick=\"quickchart('df-f3faf493-f7b8-4baf-817d-fb72e8b8abf4')\"\n",
              "            title=\"Suggest charts\"\n",
              "            style=\"display:none;\">\n",
              "\n",
              "<svg xmlns=\"http://www.w3.org/2000/svg\" height=\"24px\"viewBox=\"0 0 24 24\"\n",
              "     width=\"24px\">\n",
              "    <g>\n",
              "        <path d=\"M19 3H5c-1.1 0-2 .9-2 2v14c0 1.1.9 2 2 2h14c1.1 0 2-.9 2-2V5c0-1.1-.9-2-2-2zM9 17H7v-7h2v7zm4 0h-2V7h2v10zm4 0h-2v-4h2v4z\"/>\n",
              "    </g>\n",
              "</svg>\n",
              "  </button>\n",
              "\n",
              "<style>\n",
              "  .colab-df-quickchart {\n",
              "      --bg-color: #E8F0FE;\n",
              "      --fill-color: #1967D2;\n",
              "      --hover-bg-color: #E2EBFA;\n",
              "      --hover-fill-color: #174EA6;\n",
              "      --disabled-fill-color: #AAA;\n",
              "      --disabled-bg-color: #DDD;\n",
              "  }\n",
              "\n",
              "  [theme=dark] .colab-df-quickchart {\n",
              "      --bg-color: #3B4455;\n",
              "      --fill-color: #D2E3FC;\n",
              "      --hover-bg-color: #434B5C;\n",
              "      --hover-fill-color: #FFFFFF;\n",
              "      --disabled-bg-color: #3B4455;\n",
              "      --disabled-fill-color: #666;\n",
              "  }\n",
              "\n",
              "  .colab-df-quickchart {\n",
              "    background-color: var(--bg-color);\n",
              "    border: none;\n",
              "    border-radius: 50%;\n",
              "    cursor: pointer;\n",
              "    display: none;\n",
              "    fill: var(--fill-color);\n",
              "    height: 32px;\n",
              "    padding: 0;\n",
              "    width: 32px;\n",
              "  }\n",
              "\n",
              "  .colab-df-quickchart:hover {\n",
              "    background-color: var(--hover-bg-color);\n",
              "    box-shadow: 0 1px 2px rgba(60, 64, 67, 0.3), 0 1px 3px 1px rgba(60, 64, 67, 0.15);\n",
              "    fill: var(--button-hover-fill-color);\n",
              "  }\n",
              "\n",
              "  .colab-df-quickchart-complete:disabled,\n",
              "  .colab-df-quickchart-complete:disabled:hover {\n",
              "    background-color: var(--disabled-bg-color);\n",
              "    fill: var(--disabled-fill-color);\n",
              "    box-shadow: none;\n",
              "  }\n",
              "\n",
              "  .colab-df-spinner {\n",
              "    border: 2px solid var(--fill-color);\n",
              "    border-color: transparent;\n",
              "    border-bottom-color: var(--fill-color);\n",
              "    animation:\n",
              "      spin 1s steps(1) infinite;\n",
              "  }\n",
              "\n",
              "  @keyframes spin {\n",
              "    0% {\n",
              "      border-color: transparent;\n",
              "      border-bottom-color: var(--fill-color);\n",
              "      border-left-color: var(--fill-color);\n",
              "    }\n",
              "    20% {\n",
              "      border-color: transparent;\n",
              "      border-left-color: var(--fill-color);\n",
              "      border-top-color: var(--fill-color);\n",
              "    }\n",
              "    30% {\n",
              "      border-color: transparent;\n",
              "      border-left-color: var(--fill-color);\n",
              "      border-top-color: var(--fill-color);\n",
              "      border-right-color: var(--fill-color);\n",
              "    }\n",
              "    40% {\n",
              "      border-color: transparent;\n",
              "      border-right-color: var(--fill-color);\n",
              "      border-top-color: var(--fill-color);\n",
              "    }\n",
              "    60% {\n",
              "      border-color: transparent;\n",
              "      border-right-color: var(--fill-color);\n",
              "    }\n",
              "    80% {\n",
              "      border-color: transparent;\n",
              "      border-right-color: var(--fill-color);\n",
              "      border-bottom-color: var(--fill-color);\n",
              "    }\n",
              "    90% {\n",
              "      border-color: transparent;\n",
              "      border-bottom-color: var(--fill-color);\n",
              "    }\n",
              "  }\n",
              "</style>\n",
              "\n",
              "  <script>\n",
              "    async function quickchart(key) {\n",
              "      const quickchartButtonEl =\n",
              "        document.querySelector('#' + key + ' button');\n",
              "      quickchartButtonEl.disabled = true;  // To prevent multiple clicks.\n",
              "      quickchartButtonEl.classList.add('colab-df-spinner');\n",
              "      try {\n",
              "        const charts = await google.colab.kernel.invokeFunction(\n",
              "            'suggestCharts', [key], {});\n",
              "      } catch (error) {\n",
              "        console.error('Error during call to suggestCharts:', error);\n",
              "      }\n",
              "      quickchartButtonEl.classList.remove('colab-df-spinner');\n",
              "      quickchartButtonEl.classList.add('colab-df-quickchart-complete');\n",
              "    }\n",
              "    (() => {\n",
              "      let quickchartButtonEl =\n",
              "        document.querySelector('#df-f3faf493-f7b8-4baf-817d-fb72e8b8abf4 button');\n",
              "      quickchartButtonEl.style.display =\n",
              "        google.colab.kernel.accessAllowed ? 'block' : 'none';\n",
              "    })();\n",
              "  </script>\n",
              "</div>\n",
              "    </div>\n",
              "  </div>\n"
            ]
          },
          "metadata": {},
          "execution_count": 28
        }
      ]
    },
    {
      "cell_type": "code",
      "source": [
        "spn1.info()"
      ],
      "metadata": {
        "colab": {
          "base_uri": "https://localhost:8080/"
        },
        "id": "W4NLs8y0McEh",
        "outputId": "2aa5e7c7-0278-4ca4-9c94-b3112801adf6"
      },
      "execution_count": null,
      "outputs": [
        {
          "output_type": "stream",
          "name": "stdout",
          "text": [
            "<class 'pandas.core.frame.DataFrame'>\n",
            "RangeIndex: 2602 entries, 0 to 2601\n",
            "Data columns (total 23 columns):\n",
            " #   Column                       Non-Null Count  Dtype  \n",
            "---  ------                       --------------  -----  \n",
            " 0   HomeTeam                     2602 non-null   object \n",
            " 1   AwayTeam                     2602 non-null   object \n",
            " 2   FTR                          2602 non-null   object \n",
            " 3   B365H                        2602 non-null   float64\n",
            " 4   B365D                        2602 non-null   float64\n",
            " 5   B365A                        2602 non-null   float64\n",
            " 6   HomeTeam_WinRate             2602 non-null   float64\n",
            " 7   AwayTeam_WinRate             2602 non-null   float64\n",
            " 8   HomeTeam_GoalsAvg            2602 non-null   float64\n",
            " 9   AwayTeam_GoalsAvg            2602 non-null   float64\n",
            " 10  HomeTeam_goals_conceded_avg  2602 non-null   float64\n",
            " 11  AwayTeam_goals_conceded_avg  2602 non-null   float64\n",
            " 12  Broker_prob_H                2602 non-null   float64\n",
            " 13  Broker_prob_D                2602 non-null   float64\n",
            " 14  Broker_prob_A                2602 non-null   float64\n",
            " 15  total_goal                   2602 non-null   int64  \n",
            " 16  H_goal_ratio                 2602 non-null   float64\n",
            " 17  A_goal_ratio                 2602 non-null   float64\n",
            " 18  attack_strength_home_team    2602 non-null   float64\n",
            " 19  attack_strength_away_team    2602 non-null   float64\n",
            " 20  adjusted_win_lost_ratio_H    2602 non-null   float64\n",
            " 21  adjusted_win_lost_ratio_A    2602 non-null   float64\n",
            " 22  Year                         2602 non-null   int64  \n",
            "dtypes: float64(18), int64(2), object(3)\n",
            "memory usage: 467.7+ KB\n"
          ]
        }
      ]
    },
    {
      "cell_type": "code",
      "source": [],
      "metadata": {
        "id": "dLE-qlGKMcHC"
      },
      "execution_count": null,
      "outputs": []
    },
    {
      "cell_type": "markdown",
      "source": [
        "Apply the same process for the Spaind second divison"
      ],
      "metadata": {
        "id": "Ua40ViuToQ-j"
      }
    },
    {
      "cell_type": "markdown",
      "source": [
        "Load the 2.tier spain"
      ],
      "metadata": {
        "id": "4LwtSStVMlxG"
      }
    },
    {
      "cell_type": "code",
      "source": [
        "base_path = \"/content/drive/MyDrive/train\"\n",
        "country = \"spain\"\n",
        "league = \"2\"\n",
        "seasonal_datasets = load_seasonal_data(base_path, country, league, 1, 22)"
      ],
      "metadata": {
        "id": "EKzo7zKkMcJq"
      },
      "execution_count": null,
      "outputs": []
    },
    {
      "cell_type": "code",
      "source": [
        "\n",
        "spn21718 = seasonal_datasets['21718']\n",
        "spn21819 = seasonal_datasets['21819']\n",
        "spn21920 = seasonal_datasets['21920']\n",
        "spn22021 = seasonal_datasets['22021']\n",
        "spn22122 = seasonal_datasets['22122']"
      ],
      "metadata": {
        "id": "FsZQuTbEMcMT"
      },
      "execution_count": null,
      "outputs": []
    },
    {
      "cell_type": "code",
      "source": [
        "df20182 = spn21718[columns]\n",
        "df20192 = spn21819[columns]\n",
        "df20202 = spn21920[columns]\n",
        "df20212 = spn22021[columns]\n",
        "df20222 = spn22122[columns]"
      ],
      "metadata": {
        "id": "_E4fajEEMcO5"
      },
      "execution_count": null,
      "outputs": []
    },
    {
      "cell_type": "code",
      "source": [
        "summary = missing_values_summary(df20182)\n",
        "print(summary)"
      ],
      "metadata": {
        "colab": {
          "base_uri": "https://localhost:8080/"
        },
        "id": "OrtKTCOoMcRh",
        "outputId": "8d343583-361a-4474-8df4-3224dfb52d16"
      },
      "execution_count": null,
      "outputs": [
        {
          "output_type": "stream",
          "name": "stdout",
          "text": [
            "        Missing Values Count\n",
            "Column                      \n",
            "B365H                      1\n",
            "B365D                      1\n",
            "B365A                      1\n"
          ]
        }
      ]
    },
    {
      "cell_type": "code",
      "source": [
        "summary = missing_values_summary(df20192)\n",
        "print(summary)"
      ],
      "metadata": {
        "colab": {
          "base_uri": "https://localhost:8080/"
        },
        "id": "vC66TsqVMcUA",
        "outputId": "dcd790d8-bb42-4c4c-9646-a9ac96c0d2ba"
      },
      "execution_count": null,
      "outputs": [
        {
          "output_type": "stream",
          "name": "stdout",
          "text": [
            "        Missing Values Count\n",
            "Column                      \n",
            "HS                        21\n",
            "AS                        21\n",
            "HST                       21\n",
            "AST                       21\n",
            "HC                        21\n",
            "AC                        21\n",
            "B365H                     21\n",
            "B365D                     21\n",
            "B365A                     21\n"
          ]
        }
      ]
    },
    {
      "cell_type": "code",
      "source": [],
      "metadata": {
        "id": "gzv_3rknX-KL"
      },
      "execution_count": null,
      "outputs": []
    },
    {
      "cell_type": "code",
      "source": [
        "summary = missing_values_summary(df20202)\n",
        "print(summary)"
      ],
      "metadata": {
        "colab": {
          "base_uri": "https://localhost:8080/"
        },
        "id": "6UtWI9mAMcWi",
        "outputId": "875a08a6-6cf5-4a97-ecae-82b8a0d0fd1d"
      },
      "execution_count": null,
      "outputs": [
        {
          "output_type": "stream",
          "name": "stdout",
          "text": [
            "        Missing Values Count\n",
            "Column                      \n",
            "B365H                      2\n",
            "B365D                      2\n",
            "B365A                      2\n"
          ]
        }
      ]
    },
    {
      "cell_type": "code",
      "source": [
        "summary = missing_values_summary(df20212)\n",
        "print(summary)"
      ],
      "metadata": {
        "colab": {
          "base_uri": "https://localhost:8080/"
        },
        "id": "P-YvBW1sMcZA",
        "outputId": "d255645e-4e86-4578-9062-1bd0a6e28d04"
      },
      "execution_count": null,
      "outputs": [
        {
          "output_type": "stream",
          "name": "stdout",
          "text": [
            "        Missing Values Count\n",
            "Column                      \n",
            "B365H                      8\n",
            "B365D                      8\n",
            "B365A                      8\n"
          ]
        }
      ]
    },
    {
      "cell_type": "code",
      "source": [
        "summary = missing_values_summary(df20222)\n",
        "print(summary)"
      ],
      "metadata": {
        "colab": {
          "base_uri": "https://localhost:8080/"
        },
        "id": "JHCFwM7OMcbo",
        "outputId": "015eccf6-db10-4942-e0f9-09d1b8da4793"
      },
      "execution_count": null,
      "outputs": [
        {
          "output_type": "stream",
          "name": "stdout",
          "text": [
            "        Missing Values Count\n",
            "Column                      \n",
            "B365H                      2\n",
            "B365D                      2\n",
            "B365A                      2\n"
          ]
        }
      ]
    },
    {
      "cell_type": "code",
      "source": [
        "df20182 = transform_goals_to_absolute(df20182)\n",
        "df20192 = transform_goals_to_absolute(df20192)\n",
        "df20202 = transform_goals_to_absolute(df20202)\n",
        "df20212 = transform_goals_to_absolute(df20212)\n",
        "df20222 = transform_goals_to_absolute(df20222)"
      ],
      "metadata": {
        "id": "uEmmAkwHQrCu",
        "colab": {
          "base_uri": "https://localhost:8080/"
        },
        "outputId": "fd89dab7-ead4-4096-ed81-96f445f42066"
      },
      "execution_count": null,
      "outputs": [
        {
          "output_type": "stream",
          "name": "stderr",
          "text": [
            "<ipython-input-10-93fbbefbe36c>:13: SettingWithCopyWarning: \n",
            "A value is trying to be set on a copy of a slice from a DataFrame.\n",
            "Try using .loc[row_indexer,col_indexer] = value instead\n",
            "\n",
            "See the caveats in the documentation: https://pandas.pydata.org/pandas-docs/stable/user_guide/indexing.html#returning-a-view-versus-a-copy\n",
            "  df['FTHG'] = df['FTHG'].abs()\n",
            "<ipython-input-10-93fbbefbe36c>:14: SettingWithCopyWarning: \n",
            "A value is trying to be set on a copy of a slice from a DataFrame.\n",
            "Try using .loc[row_indexer,col_indexer] = value instead\n",
            "\n",
            "See the caveats in the documentation: https://pandas.pydata.org/pandas-docs/stable/user_guide/indexing.html#returning-a-view-versus-a-copy\n",
            "  df['FTAG'] = df['FTAG'].abs()\n"
          ]
        }
      ]
    },
    {
      "cell_type": "code",
      "source": [
        "df20182 = filter_goals_under_30(df20182)\n",
        "df20192 = filter_goals_under_30(df20192)\n",
        "df20202 = filter_goals_under_30(df20202)\n",
        "df20212 = filter_goals_under_30(df20212)\n",
        "df20222 = filter_goals_under_30(df20222)"
      ],
      "metadata": {
        "id": "8Gne-OpQYaAr"
      },
      "execution_count": null,
      "outputs": []
    },
    {
      "cell_type": "code",
      "source": [
        "df20182 = process_time_data(df20182, 2018)\n",
        "df20192 = process_time_data(df20192, 2019)\n",
        "df20202 = process_time_data(df20202, 2020)\n",
        "df20212 = process_time_data(df20212, 2021)\n",
        "df20222 = process_time_data(df20222, 2022)"
      ],
      "metadata": {
        "id": "Nlo-9Pm0QrFl",
        "colab": {
          "base_uri": "https://localhost:8080/"
        },
        "outputId": "69219d84-99d6-488f-8859-d8d9e06c3ae0"
      },
      "execution_count": null,
      "outputs": [
        {
          "output_type": "stream",
          "name": "stderr",
          "text": [
            "<ipython-input-23-43f5887e43f7>:3: UserWarning: Parsing dates in DD/MM/YYYY format when dayfirst=False (the default) was specified. This may lead to inconsistently parsed dates! Specify a format to ensure consistent parsing.\n",
            "  df['Date'] = pd.to_datetime(df['Date'])\n",
            "<ipython-input-23-43f5887e43f7>:3: UserWarning: Parsing dates in DD/MM/YYYY format when dayfirst=False (the default) was specified. This may lead to inconsistently parsed dates! Specify a format to ensure consistent parsing.\n",
            "  df['Date'] = pd.to_datetime(df['Date'])\n",
            "<ipython-input-23-43f5887e43f7>:3: UserWarning: Parsing dates in DD/MM/YYYY format when dayfirst=False (the default) was specified. This may lead to inconsistently parsed dates! Specify a format to ensure consistent parsing.\n",
            "  df['Date'] = pd.to_datetime(df['Date'])\n",
            "<ipython-input-23-43f5887e43f7>:3: UserWarning: Parsing dates in DD/MM/YYYY format when dayfirst=False (the default) was specified. This may lead to inconsistently parsed dates! Specify a format to ensure consistent parsing.\n",
            "  df['Date'] = pd.to_datetime(df['Date'])\n"
          ]
        }
      ]
    },
    {
      "cell_type": "code",
      "source": [
        "\n",
        "df20182 = impute_missing_values_knn(df20182)\n",
        "df20192 = impute_missing_values_knn(df20192)\n",
        "df20202 = impute_missing_values_knn(df20202)\n",
        "df20212 = impute_missing_values_knn(df20212)\n",
        "df20222 = impute_missing_values_knn(df20222)"
      ],
      "metadata": {
        "id": "1J3DbQH6QrIc"
      },
      "execution_count": null,
      "outputs": []
    },
    {
      "cell_type": "code",
      "source": [
        "df20182 =  preprocess_football_data(df20182)\n",
        "df20192 =  preprocess_football_data(df20192)\n",
        "df20202 =  preprocess_football_data(df20202)\n",
        "df20212 =  preprocess_football_data(df20212)\n",
        "df20222 =  preprocess_football_data(df20222)"
      ],
      "metadata": {
        "id": "HhTNVtsrQrLk"
      },
      "execution_count": null,
      "outputs": []
    },
    {
      "cell_type": "code",
      "source": [
        "df20182 = calculate_attack_strength(df20182)\n",
        "df20192 = calculate_attack_strength(df20192)\n",
        "df20202 = calculate_attack_strength(df20202)\n",
        "df20212 = calculate_attack_strength(df20212)\n",
        "df20222 = calculate_attack_strength(df20222)"
      ],
      "metadata": {
        "id": "FX6JhiK3QrOM"
      },
      "execution_count": null,
      "outputs": []
    },
    {
      "cell_type": "code",
      "source": [
        "df20182 =  add_adjusted_win_loss_ratio(df20182)\n",
        "df20192 =  add_adjusted_win_loss_ratio(df20192)\n",
        "df20202 =  add_adjusted_win_loss_ratio(df20202)\n",
        "df20212 =  add_adjusted_win_loss_ratio(df20212)\n",
        "df20222 =  add_adjusted_win_loss_ratio(df20222)"
      ],
      "metadata": {
        "id": "5OdDlS0IQrRE"
      },
      "execution_count": null,
      "outputs": []
    },
    {
      "cell_type": "code",
      "source": [
        "spn2 = pd.concat([df20182, df20192, df20202, df20212, df20222], ignore_index=True)"
      ],
      "metadata": {
        "id": "-aehZQezQrTj"
      },
      "execution_count": null,
      "outputs": []
    },
    {
      "cell_type": "code",
      "source": [
        "spn2 = spn2.drop(columns=columns_to_drop, errors='ignore')"
      ],
      "metadata": {
        "id": "kVcettd-RHF3"
      },
      "execution_count": null,
      "outputs": []
    },
    {
      "cell_type": "code",
      "source": [
        "spn2.head()"
      ],
      "metadata": {
        "colab": {
          "base_uri": "https://localhost:8080/",
          "height": 273
        },
        "id": "SLrWxt2zRHIQ",
        "outputId": "7398057f-1325-42fd-9329-782466d8f214"
      },
      "execution_count": null,
      "outputs": [
        {
          "output_type": "execute_result",
          "data": {
            "text/plain": [
              "        HomeTeam    AwayTeam FTR  B365H  B365D  B365A  Year  HomeTeam_WinRate  \\\n",
              "0  Reus Deportiu  Valladolid   D   3.20   3.00   2.39  2018              0.35   \n",
              "1       Sp Gijon   Sevilla B   H   1.57   3.75   6.25  2018              0.71   \n",
              "2       Tenerife     Granada   D   1.95   3.30   4.00  2018              0.55   \n",
              "3          Cadiz       Lorca   D   1.50   3.60   9.00  2018              0.48   \n",
              "4           Lugo      Huesca   A   4.50   3.00   1.95  2018              0.48   \n",
              "\n",
              "   AwayTeam_WinRate  HomeTeam_GoalsAvg  ...  Broker_prob_H  Broker_prob_D  \\\n",
              "0              0.25               1.00  ...           0.31           0.33   \n",
              "1              0.10               1.86  ...           0.64           0.27   \n",
              "2              0.15               1.85  ...           0.51           0.30   \n",
              "3              0.05               1.19  ...           0.67           0.28   \n",
              "4              0.38               1.10  ...           0.22           0.33   \n",
              "\n",
              "   Broker_prob_A  total_goal  H_goal_ratio  A_goal_ratio  \\\n",
              "0           0.42           4          0.28          0.31   \n",
              "1           0.16           3          0.38          0.15   \n",
              "2           0.25           4          0.33          0.26   \n",
              "3           0.11           0          0.32          0.17   \n",
              "4           0.51           2          0.26          0.34   \n",
              "\n",
              "   attack_strength_home_team  attack_strength_away_team  \\\n",
              "0                      14.45                      27.16   \n",
              "1                      28.18                      11.95   \n",
              "2                      26.73                      19.55   \n",
              "3                      18.06                      13.04   \n",
              "4                      16.62                      32.59   \n",
              "\n",
              "   adjusted_win_lost_ratio_H  adjusted_win_lost_ratio_A  \n",
              "0                        0.0                        2.0  \n",
              "1                        3.0                       -1.0  \n",
              "2                        0.0                        2.0  \n",
              "3                        0.0                        2.0  \n",
              "4                       -1.0                        3.0  \n",
              "\n",
              "[5 rows x 23 columns]"
            ],
            "text/html": [
              "\n",
              "  <div id=\"df-ac2f26bc-729b-445b-aae5-31f4da6e1b2e\" class=\"colab-df-container\">\n",
              "    <div>\n",
              "<style scoped>\n",
              "    .dataframe tbody tr th:only-of-type {\n",
              "        vertical-align: middle;\n",
              "    }\n",
              "\n",
              "    .dataframe tbody tr th {\n",
              "        vertical-align: top;\n",
              "    }\n",
              "\n",
              "    .dataframe thead th {\n",
              "        text-align: right;\n",
              "    }\n",
              "</style>\n",
              "<table border=\"1\" class=\"dataframe\">\n",
              "  <thead>\n",
              "    <tr style=\"text-align: right;\">\n",
              "      <th></th>\n",
              "      <th>HomeTeam</th>\n",
              "      <th>AwayTeam</th>\n",
              "      <th>FTR</th>\n",
              "      <th>B365H</th>\n",
              "      <th>B365D</th>\n",
              "      <th>B365A</th>\n",
              "      <th>Year</th>\n",
              "      <th>HomeTeam_WinRate</th>\n",
              "      <th>AwayTeam_WinRate</th>\n",
              "      <th>HomeTeam_GoalsAvg</th>\n",
              "      <th>...</th>\n",
              "      <th>Broker_prob_H</th>\n",
              "      <th>Broker_prob_D</th>\n",
              "      <th>Broker_prob_A</th>\n",
              "      <th>total_goal</th>\n",
              "      <th>H_goal_ratio</th>\n",
              "      <th>A_goal_ratio</th>\n",
              "      <th>attack_strength_home_team</th>\n",
              "      <th>attack_strength_away_team</th>\n",
              "      <th>adjusted_win_lost_ratio_H</th>\n",
              "      <th>adjusted_win_lost_ratio_A</th>\n",
              "    </tr>\n",
              "  </thead>\n",
              "  <tbody>\n",
              "    <tr>\n",
              "      <th>0</th>\n",
              "      <td>Reus Deportiu</td>\n",
              "      <td>Valladolid</td>\n",
              "      <td>D</td>\n",
              "      <td>3.20</td>\n",
              "      <td>3.00</td>\n",
              "      <td>2.39</td>\n",
              "      <td>2018</td>\n",
              "      <td>0.35</td>\n",
              "      <td>0.25</td>\n",
              "      <td>1.00</td>\n",
              "      <td>...</td>\n",
              "      <td>0.31</td>\n",
              "      <td>0.33</td>\n",
              "      <td>0.42</td>\n",
              "      <td>4</td>\n",
              "      <td>0.28</td>\n",
              "      <td>0.31</td>\n",
              "      <td>14.45</td>\n",
              "      <td>27.16</td>\n",
              "      <td>0.0</td>\n",
              "      <td>2.0</td>\n",
              "    </tr>\n",
              "    <tr>\n",
              "      <th>1</th>\n",
              "      <td>Sp Gijon</td>\n",
              "      <td>Sevilla B</td>\n",
              "      <td>H</td>\n",
              "      <td>1.57</td>\n",
              "      <td>3.75</td>\n",
              "      <td>6.25</td>\n",
              "      <td>2018</td>\n",
              "      <td>0.71</td>\n",
              "      <td>0.10</td>\n",
              "      <td>1.86</td>\n",
              "      <td>...</td>\n",
              "      <td>0.64</td>\n",
              "      <td>0.27</td>\n",
              "      <td>0.16</td>\n",
              "      <td>3</td>\n",
              "      <td>0.38</td>\n",
              "      <td>0.15</td>\n",
              "      <td>28.18</td>\n",
              "      <td>11.95</td>\n",
              "      <td>3.0</td>\n",
              "      <td>-1.0</td>\n",
              "    </tr>\n",
              "    <tr>\n",
              "      <th>2</th>\n",
              "      <td>Tenerife</td>\n",
              "      <td>Granada</td>\n",
              "      <td>D</td>\n",
              "      <td>1.95</td>\n",
              "      <td>3.30</td>\n",
              "      <td>4.00</td>\n",
              "      <td>2018</td>\n",
              "      <td>0.55</td>\n",
              "      <td>0.15</td>\n",
              "      <td>1.85</td>\n",
              "      <td>...</td>\n",
              "      <td>0.51</td>\n",
              "      <td>0.30</td>\n",
              "      <td>0.25</td>\n",
              "      <td>4</td>\n",
              "      <td>0.33</td>\n",
              "      <td>0.26</td>\n",
              "      <td>26.73</td>\n",
              "      <td>19.55</td>\n",
              "      <td>0.0</td>\n",
              "      <td>2.0</td>\n",
              "    </tr>\n",
              "    <tr>\n",
              "      <th>3</th>\n",
              "      <td>Cadiz</td>\n",
              "      <td>Lorca</td>\n",
              "      <td>D</td>\n",
              "      <td>1.50</td>\n",
              "      <td>3.60</td>\n",
              "      <td>9.00</td>\n",
              "      <td>2018</td>\n",
              "      <td>0.48</td>\n",
              "      <td>0.05</td>\n",
              "      <td>1.19</td>\n",
              "      <td>...</td>\n",
              "      <td>0.67</td>\n",
              "      <td>0.28</td>\n",
              "      <td>0.11</td>\n",
              "      <td>0</td>\n",
              "      <td>0.32</td>\n",
              "      <td>0.17</td>\n",
              "      <td>18.06</td>\n",
              "      <td>13.04</td>\n",
              "      <td>0.0</td>\n",
              "      <td>2.0</td>\n",
              "    </tr>\n",
              "    <tr>\n",
              "      <th>4</th>\n",
              "      <td>Lugo</td>\n",
              "      <td>Huesca</td>\n",
              "      <td>A</td>\n",
              "      <td>4.50</td>\n",
              "      <td>3.00</td>\n",
              "      <td>1.95</td>\n",
              "      <td>2018</td>\n",
              "      <td>0.48</td>\n",
              "      <td>0.38</td>\n",
              "      <td>1.10</td>\n",
              "      <td>...</td>\n",
              "      <td>0.22</td>\n",
              "      <td>0.33</td>\n",
              "      <td>0.51</td>\n",
              "      <td>2</td>\n",
              "      <td>0.26</td>\n",
              "      <td>0.34</td>\n",
              "      <td>16.62</td>\n",
              "      <td>32.59</td>\n",
              "      <td>-1.0</td>\n",
              "      <td>3.0</td>\n",
              "    </tr>\n",
              "  </tbody>\n",
              "</table>\n",
              "<p>5 rows × 23 columns</p>\n",
              "</div>\n",
              "    <div class=\"colab-df-buttons\">\n",
              "\n",
              "  <div class=\"colab-df-container\">\n",
              "    <button class=\"colab-df-convert\" onclick=\"convertToInteractive('df-ac2f26bc-729b-445b-aae5-31f4da6e1b2e')\"\n",
              "            title=\"Convert this dataframe to an interactive table.\"\n",
              "            style=\"display:none;\">\n",
              "\n",
              "  <svg xmlns=\"http://www.w3.org/2000/svg\" height=\"24px\" viewBox=\"0 -960 960 960\">\n",
              "    <path d=\"M120-120v-720h720v720H120Zm60-500h600v-160H180v160Zm220 220h160v-160H400v160Zm0 220h160v-160H400v160ZM180-400h160v-160H180v160Zm440 0h160v-160H620v160ZM180-180h160v-160H180v160Zm440 0h160v-160H620v160Z\"/>\n",
              "  </svg>\n",
              "    </button>\n",
              "\n",
              "  <style>\n",
              "    .colab-df-container {\n",
              "      display:flex;\n",
              "      gap: 12px;\n",
              "    }\n",
              "\n",
              "    .colab-df-convert {\n",
              "      background-color: #E8F0FE;\n",
              "      border: none;\n",
              "      border-radius: 50%;\n",
              "      cursor: pointer;\n",
              "      display: none;\n",
              "      fill: #1967D2;\n",
              "      height: 32px;\n",
              "      padding: 0 0 0 0;\n",
              "      width: 32px;\n",
              "    }\n",
              "\n",
              "    .colab-df-convert:hover {\n",
              "      background-color: #E2EBFA;\n",
              "      box-shadow: 0px 1px 2px rgba(60, 64, 67, 0.3), 0px 1px 3px 1px rgba(60, 64, 67, 0.15);\n",
              "      fill: #174EA6;\n",
              "    }\n",
              "\n",
              "    .colab-df-buttons div {\n",
              "      margin-bottom: 4px;\n",
              "    }\n",
              "\n",
              "    [theme=dark] .colab-df-convert {\n",
              "      background-color: #3B4455;\n",
              "      fill: #D2E3FC;\n",
              "    }\n",
              "\n",
              "    [theme=dark] .colab-df-convert:hover {\n",
              "      background-color: #434B5C;\n",
              "      box-shadow: 0px 1px 3px 1px rgba(0, 0, 0, 0.15);\n",
              "      filter: drop-shadow(0px 1px 2px rgba(0, 0, 0, 0.3));\n",
              "      fill: #FFFFFF;\n",
              "    }\n",
              "  </style>\n",
              "\n",
              "    <script>\n",
              "      const buttonEl =\n",
              "        document.querySelector('#df-ac2f26bc-729b-445b-aae5-31f4da6e1b2e button.colab-df-convert');\n",
              "      buttonEl.style.display =\n",
              "        google.colab.kernel.accessAllowed ? 'block' : 'none';\n",
              "\n",
              "      async function convertToInteractive(key) {\n",
              "        const element = document.querySelector('#df-ac2f26bc-729b-445b-aae5-31f4da6e1b2e');\n",
              "        const dataTable =\n",
              "          await google.colab.kernel.invokeFunction('convertToInteractive',\n",
              "                                                    [key], {});\n",
              "        if (!dataTable) return;\n",
              "\n",
              "        const docLinkHtml = 'Like what you see? Visit the ' +\n",
              "          '<a target=\"_blank\" href=https://colab.research.google.com/notebooks/data_table.ipynb>data table notebook</a>'\n",
              "          + ' to learn more about interactive tables.';\n",
              "        element.innerHTML = '';\n",
              "        dataTable['output_type'] = 'display_data';\n",
              "        await google.colab.output.renderOutput(dataTable, element);\n",
              "        const docLink = document.createElement('div');\n",
              "        docLink.innerHTML = docLinkHtml;\n",
              "        element.appendChild(docLink);\n",
              "      }\n",
              "    </script>\n",
              "  </div>\n",
              "\n",
              "\n",
              "<div id=\"df-23f6ff13-d781-4c8c-9a65-b872247d2031\">\n",
              "  <button class=\"colab-df-quickchart\" onclick=\"quickchart('df-23f6ff13-d781-4c8c-9a65-b872247d2031')\"\n",
              "            title=\"Suggest charts\"\n",
              "            style=\"display:none;\">\n",
              "\n",
              "<svg xmlns=\"http://www.w3.org/2000/svg\" height=\"24px\"viewBox=\"0 0 24 24\"\n",
              "     width=\"24px\">\n",
              "    <g>\n",
              "        <path d=\"M19 3H5c-1.1 0-2 .9-2 2v14c0 1.1.9 2 2 2h14c1.1 0 2-.9 2-2V5c0-1.1-.9-2-2-2zM9 17H7v-7h2v7zm4 0h-2V7h2v10zm4 0h-2v-4h2v4z\"/>\n",
              "    </g>\n",
              "</svg>\n",
              "  </button>\n",
              "\n",
              "<style>\n",
              "  .colab-df-quickchart {\n",
              "      --bg-color: #E8F0FE;\n",
              "      --fill-color: #1967D2;\n",
              "      --hover-bg-color: #E2EBFA;\n",
              "      --hover-fill-color: #174EA6;\n",
              "      --disabled-fill-color: #AAA;\n",
              "      --disabled-bg-color: #DDD;\n",
              "  }\n",
              "\n",
              "  [theme=dark] .colab-df-quickchart {\n",
              "      --bg-color: #3B4455;\n",
              "      --fill-color: #D2E3FC;\n",
              "      --hover-bg-color: #434B5C;\n",
              "      --hover-fill-color: #FFFFFF;\n",
              "      --disabled-bg-color: #3B4455;\n",
              "      --disabled-fill-color: #666;\n",
              "  }\n",
              "\n",
              "  .colab-df-quickchart {\n",
              "    background-color: var(--bg-color);\n",
              "    border: none;\n",
              "    border-radius: 50%;\n",
              "    cursor: pointer;\n",
              "    display: none;\n",
              "    fill: var(--fill-color);\n",
              "    height: 32px;\n",
              "    padding: 0;\n",
              "    width: 32px;\n",
              "  }\n",
              "\n",
              "  .colab-df-quickchart:hover {\n",
              "    background-color: var(--hover-bg-color);\n",
              "    box-shadow: 0 1px 2px rgba(60, 64, 67, 0.3), 0 1px 3px 1px rgba(60, 64, 67, 0.15);\n",
              "    fill: var(--button-hover-fill-color);\n",
              "  }\n",
              "\n",
              "  .colab-df-quickchart-complete:disabled,\n",
              "  .colab-df-quickchart-complete:disabled:hover {\n",
              "    background-color: var(--disabled-bg-color);\n",
              "    fill: var(--disabled-fill-color);\n",
              "    box-shadow: none;\n",
              "  }\n",
              "\n",
              "  .colab-df-spinner {\n",
              "    border: 2px solid var(--fill-color);\n",
              "    border-color: transparent;\n",
              "    border-bottom-color: var(--fill-color);\n",
              "    animation:\n",
              "      spin 1s steps(1) infinite;\n",
              "  }\n",
              "\n",
              "  @keyframes spin {\n",
              "    0% {\n",
              "      border-color: transparent;\n",
              "      border-bottom-color: var(--fill-color);\n",
              "      border-left-color: var(--fill-color);\n",
              "    }\n",
              "    20% {\n",
              "      border-color: transparent;\n",
              "      border-left-color: var(--fill-color);\n",
              "      border-top-color: var(--fill-color);\n",
              "    }\n",
              "    30% {\n",
              "      border-color: transparent;\n",
              "      border-left-color: var(--fill-color);\n",
              "      border-top-color: var(--fill-color);\n",
              "      border-right-color: var(--fill-color);\n",
              "    }\n",
              "    40% {\n",
              "      border-color: transparent;\n",
              "      border-right-color: var(--fill-color);\n",
              "      border-top-color: var(--fill-color);\n",
              "    }\n",
              "    60% {\n",
              "      border-color: transparent;\n",
              "      border-right-color: var(--fill-color);\n",
              "    }\n",
              "    80% {\n",
              "      border-color: transparent;\n",
              "      border-right-color: var(--fill-color);\n",
              "      border-bottom-color: var(--fill-color);\n",
              "    }\n",
              "    90% {\n",
              "      border-color: transparent;\n",
              "      border-bottom-color: var(--fill-color);\n",
              "    }\n",
              "  }\n",
              "</style>\n",
              "\n",
              "  <script>\n",
              "    async function quickchart(key) {\n",
              "      const quickchartButtonEl =\n",
              "        document.querySelector('#' + key + ' button');\n",
              "      quickchartButtonEl.disabled = true;  // To prevent multiple clicks.\n",
              "      quickchartButtonEl.classList.add('colab-df-spinner');\n",
              "      try {\n",
              "        const charts = await google.colab.kernel.invokeFunction(\n",
              "            'suggestCharts', [key], {});\n",
              "      } catch (error) {\n",
              "        console.error('Error during call to suggestCharts:', error);\n",
              "      }\n",
              "      quickchartButtonEl.classList.remove('colab-df-spinner');\n",
              "      quickchartButtonEl.classList.add('colab-df-quickchart-complete');\n",
              "    }\n",
              "    (() => {\n",
              "      let quickchartButtonEl =\n",
              "        document.querySelector('#df-23f6ff13-d781-4c8c-9a65-b872247d2031 button');\n",
              "      quickchartButtonEl.style.display =\n",
              "        google.colab.kernel.accessAllowed ? 'block' : 'none';\n",
              "    })();\n",
              "  </script>\n",
              "</div>\n",
              "    </div>\n",
              "  </div>\n"
            ]
          },
          "metadata": {},
          "execution_count": 47
        }
      ]
    },
    {
      "cell_type": "code",
      "source": [
        "spn2.info()"
      ],
      "metadata": {
        "colab": {
          "base_uri": "https://localhost:8080/"
        },
        "id": "P-kKMnDHRHLH",
        "outputId": "6ed25cca-5876-4105-e314-01dff7bc72f3"
      },
      "execution_count": null,
      "outputs": [
        {
          "output_type": "stream",
          "name": "stdout",
          "text": [
            "<class 'pandas.core.frame.DataFrame'>\n",
            "RangeIndex: 2263 entries, 0 to 2262\n",
            "Data columns (total 23 columns):\n",
            " #   Column                       Non-Null Count  Dtype  \n",
            "---  ------                       --------------  -----  \n",
            " 0   HomeTeam                     2263 non-null   object \n",
            " 1   AwayTeam                     2263 non-null   object \n",
            " 2   FTR                          2263 non-null   object \n",
            " 3   B365H                        2263 non-null   float64\n",
            " 4   B365D                        2263 non-null   float64\n",
            " 5   B365A                        2263 non-null   float64\n",
            " 6   Year                         2263 non-null   int64  \n",
            " 7   HomeTeam_WinRate             2263 non-null   float64\n",
            " 8   AwayTeam_WinRate             2263 non-null   float64\n",
            " 9   HomeTeam_GoalsAvg            2263 non-null   float64\n",
            " 10  AwayTeam_GoalsAvg            2263 non-null   float64\n",
            " 11  HomeTeam_goals_conceded_avg  2263 non-null   float64\n",
            " 12  AwayTeam_goals_conceded_avg  2263 non-null   float64\n",
            " 13  Broker_prob_H                2263 non-null   float64\n",
            " 14  Broker_prob_D                2263 non-null   float64\n",
            " 15  Broker_prob_A                2263 non-null   float64\n",
            " 16  total_goal                   2263 non-null   int64  \n",
            " 17  H_goal_ratio                 2263 non-null   float64\n",
            " 18  A_goal_ratio                 2263 non-null   float64\n",
            " 19  attack_strength_home_team    2263 non-null   float64\n",
            " 20  attack_strength_away_team    2263 non-null   float64\n",
            " 21  adjusted_win_lost_ratio_H    2263 non-null   float64\n",
            " 22  adjusted_win_lost_ratio_A    2263 non-null   float64\n",
            "dtypes: float64(18), int64(2), object(3)\n",
            "memory usage: 406.8+ KB\n"
          ]
        }
      ]
    },
    {
      "cell_type": "code",
      "source": [],
      "metadata": {
        "id": "nQMRKfehRHUD"
      },
      "execution_count": null,
      "outputs": []
    },
    {
      "cell_type": "markdown",
      "source": [
        "Merge 2 season together"
      ],
      "metadata": {
        "id": "RmdicWIlSGV1"
      }
    },
    {
      "cell_type": "code",
      "source": [
        "data2018 = pd.concat([df2018, df20182,], ignore_index=True)\n",
        "data2019 = pd.concat([df2019, df20192,], ignore_index=True)\n",
        "data2020 = pd.concat([df2020, df20202,], ignore_index=True)\n",
        "data2021 = pd.concat([df2021, df20212,], ignore_index=True)\n",
        "data2022 = pd.concat([df2022, df20222,], ignore_index=True)"
      ],
      "metadata": {
        "id": "hwXQZxciMceM"
      },
      "execution_count": null,
      "outputs": []
    },
    {
      "cell_type": "markdown",
      "source": [
        "The issue with the 2023 test set is the promotion of new teams from the second division to the first, information that isn't included in my first division training set. Therefore, I need to merge data from both divisions to incorporate details about the promoted teams. Note that this merged data is exclusively for reference and not used in training."
      ],
      "metadata": {
        "id": "VgrLvxj0plEX"
      }
    },
    {
      "cell_type": "code",
      "source": [],
      "metadata": {
        "id": "fX_jtOtFYwQY"
      },
      "execution_count": null,
      "outputs": []
    },
    {
      "cell_type": "code",
      "source": [
        "file_path = '/content/drive/My Drive/test/spain/1/2223.csv'\n",
        "df2023 = pd.read_csv(file_path)"
      ],
      "metadata": {
        "id": "hHSiCDHlSRN4"
      },
      "execution_count": null,
      "outputs": []
    },
    {
      "cell_type": "code",
      "source": [
        "columns_test = ['Date', 'HomeTeam', 'AwayTeam',\"B365H\", \"B365D\", \"B365A\" ]"
      ],
      "metadata": {
        "id": "bY02HmexSRQY"
      },
      "execution_count": null,
      "outputs": []
    },
    {
      "cell_type": "code",
      "source": [
        "df2023 = df2023[columns_test]"
      ],
      "metadata": {
        "id": "DyBDp1c0SRTn"
      },
      "execution_count": null,
      "outputs": []
    },
    {
      "cell_type": "code",
      "source": [
        "df2023.info()"
      ],
      "metadata": {
        "colab": {
          "base_uri": "https://localhost:8080/"
        },
        "id": "RIJv2twYYzQt",
        "outputId": "53f4f51f-e42a-4c28-92f1-b6ffda0dcb66"
      },
      "execution_count": null,
      "outputs": [
        {
          "output_type": "stream",
          "name": "stdout",
          "text": [
            "<class 'pandas.core.frame.DataFrame'>\n",
            "RangeIndex: 380 entries, 0 to 379\n",
            "Data columns (total 6 columns):\n",
            " #   Column    Non-Null Count  Dtype  \n",
            "---  ------    --------------  -----  \n",
            " 0   Date      380 non-null    object \n",
            " 1   HomeTeam  380 non-null    object \n",
            " 2   AwayTeam  380 non-null    object \n",
            " 3   B365H     380 non-null    float64\n",
            " 4   B365D     380 non-null    float64\n",
            " 5   B365A     380 non-null    float64\n",
            "dtypes: float64(3), object(3)\n",
            "memory usage: 17.9+ KB\n"
          ]
        }
      ]
    },
    {
      "cell_type": "markdown",
      "source": [
        "The primary aim of this function is to enhance the new season's data with past performance metrics, aiding in analysis or prediction of team performances in the upcoming season.\n",
        "\n",
        "\n",
        "For example, if Manchester United's average goals from 2018 to 2022 were 1.8, 2.0, 2.1, 1.9, and 2.0 goals per game, respectively, I would calculate the average as follows: 1.81 + 2.0 + 2.13 + 1.94 + 2.0 / 5 = 1.92. So, for the 2023 season, Manchester United's \"Average Goals Scored at Home\" feature would be set at 1.92."
      ],
      "metadata": {
        "id": "kPqJOnXeqeFH"
      }
    },
    {
      "cell_type": "code",
      "source": [
        "def calculate_and_apply_overall_averages(season_dfs, new_season_df):\n",
        "    # Initialize dictionaries for each metric\n",
        "    metrics = {\n",
        "        'HomeTeam_WinRate': 'HomeTeam', 'AwayTeam_WinRate': 'AwayTeam',\n",
        "        'HomeTeam_GoalsAvg': 'HomeTeam', 'AwayTeam_GoalsAvg': 'AwayTeam',\n",
        "        'HomeTeam_goals_conceded_avg': 'HomeTeam', 'AwayTeam_goals_conceded_avg': 'AwayTeam',\n",
        "        'H_goal_ratio': 'HomeTeam', 'A_goal_ratio': 'AwayTeam',\n",
        "        'attack_strength_home_team': 'HomeTeam', 'attack_strength_away_team': 'AwayTeam'\n",
        "    }\n",
        "    averages_dict = {metric: {} for metric in metrics}\n",
        "\n",
        "    # Calculate the overall average for each team across all seasons\n",
        "    for df in season_dfs:\n",
        "        for metric, team_col in metrics.items():\n",
        "            for team in df[team_col].unique():\n",
        "                averages_dict[metric][team] = df[df[team_col] == team][metric].mean()\n",
        "\n",
        "    # Apply the overall averages to df2023\n",
        "    for metric, team_col in metrics.items():\n",
        "        if metric not in new_season_df:\n",
        "            new_season_df[metric] = pd.NA\n",
        "        new_season_df[metric] = new_season_df[team_col].map(averages_dict[metric])\n",
        "\n",
        "    return new_season_df\n",
        "\n",
        "# List of DataFrames from 2016 to 2022\n",
        "season_dfs = [df2016, df2017, data2018, data2019, data2020, data2021, data2022]\n"
      ],
      "metadata": {
        "id": "0QjwIR6kSRWv"
      },
      "execution_count": null,
      "outputs": []
    },
    {
      "cell_type": "code",
      "source": [
        "df2023 = calculate_and_apply_overall_averages(season_dfs, df2023)"
      ],
      "metadata": {
        "id": "NTQwUclvSRZh"
      },
      "execution_count": null,
      "outputs": []
    },
    {
      "cell_type": "markdown",
      "source": [
        "This function below  analyzes soccer matches by taking into account the historical performance of teams against each other, rather than looking at their overall performance. It would analyze all record from 2016 to 2022 (train set), not like the same one before (the first one analyzes only in a specific season)"
      ],
      "metadata": {
        "id": "OzBvcUuKrnQ3"
      }
    },
    {
      "cell_type": "code",
      "source": [
        "\n",
        "def calculate_head_to_head_stats(merged_df):\n",
        "    # Initialize a dictionary to track head-to-head stats\n",
        "    head_to_head_stats = {}\n",
        "\n",
        "    # Update head-to-head stats using merged_df\n",
        "    for index, row in merged_df.iterrows():\n",
        "        teams = tuple(sorted([row['HomeTeam'], row['AwayTeam']]))\n",
        "        if teams not in head_to_head_stats:\n",
        "            head_to_head_stats[teams] = {'wins': {teams[0]: 0, teams[1]: 0},\n",
        "                                         'draws': 0,\n",
        "                                         'total_matches': 0}\n",
        "\n",
        "        head_to_head_stats[teams]['total_matches'] += 1\n",
        "        if row['FTR'] == 'H':\n",
        "            head_to_head_stats[teams]['wins'][row['HomeTeam']] += 1\n",
        "        elif row['FTR'] == 'D':\n",
        "            head_to_head_stats[teams]['draws'] += 1\n",
        "        elif row['FTR'] == 'A':\n",
        "            head_to_head_stats[teams]['wins'][row['AwayTeam']] += 1\n",
        "\n",
        "    return head_to_head_stats\n",
        "\n",
        "def adjusted_win_loss_ratio(wins, draws, losses, total_matches):\n",
        "    ratio = ((3*wins + draws) - losses) / total_matches if total_matches > 0 else 0\n",
        "    return round(ratio, 1)\n",
        "\n",
        "def apply_adjusted_win_loss_ratio_to_2023(df2023, head_to_head_stats):\n",
        "    def calculate_ratio_for_match(row):\n",
        "        teams = tuple(sorted([row['HomeTeam'], row['AwayTeam']]))\n",
        "        stats = head_to_head_stats.get(teams, {'wins': {row['HomeTeam']: 0, row['AwayTeam']: 0}, 'draws': 0, 'total_matches': 0})\n",
        "        home_wins = stats['wins'].get(row['HomeTeam'], 0)\n",
        "        away_wins = stats['wins'].get(row['AwayTeam'], 0)\n",
        "        draws = stats['draws']\n",
        "        total_matches = stats['total_matches']\n",
        "        home_ratio = adjusted_win_loss_ratio(home_wins, draws, total_matches - home_wins - draws, total_matches)\n",
        "        away_ratio = adjusted_win_loss_ratio(away_wins, draws, total_matches - away_wins - draws, total_matches)\n",
        "        return pd.Series([home_ratio, away_ratio])\n",
        "\n",
        "    df2023[['adjusted_win_lost_ratio_H', 'adjusted_win_lost_ratio_A']] = df2023.apply(calculate_ratio_for_match, axis=1)\n",
        "    return df2023\n",
        "\n",
        "\n",
        "merged_df = spn1.copy()\n",
        "\n",
        "\n",
        "head_to_head_stats = calculate_head_to_head_stats(merged_df)\n",
        "\n",
        "# Apply the adjusted win-loss ratio to df2023\n",
        "df2023 = apply_adjusted_win_loss_ratio_to_2023(df2023, head_to_head_stats)"
      ],
      "metadata": {
        "id": "YQ8veeL_SRcb"
      },
      "execution_count": null,
      "outputs": []
    },
    {
      "cell_type": "code",
      "source": [
        "df2023.head()"
      ],
      "metadata": {
        "colab": {
          "base_uri": "https://localhost:8080/",
          "height": 226
        },
        "id": "fpl4pouSS1b5",
        "outputId": "3094dc95-fbe1-477e-a34a-461d69c5878a"
      },
      "execution_count": null,
      "outputs": [
        {
          "output_type": "execute_result",
          "data": {
            "text/plain": [
              "         Date    HomeTeam    AwayTeam  B365H  B365D  B365A  HomeTeam_WinRate  \\\n",
              "0  12/08/2022     Osasuna     Sevilla   3.20   3.10   2.40              0.26   \n",
              "1  13/08/2022       Celta     Espanol   1.80   3.75   4.75              0.37   \n",
              "2  13/08/2022  Valladolid  Villarreal   3.90   3.60   1.90              0.65   \n",
              "3  13/08/2022   Barcelona   Vallecano   1.22   7.00  12.00              0.63   \n",
              "4  14/08/2022       Cadiz    Sociedad   3.60   3.20   2.20              0.17   \n",
              "\n",
              "   AwayTeam_WinRate  HomeTeam_GoalsAvg  AwayTeam_GoalsAvg  \\\n",
              "0              0.32               0.89               0.89   \n",
              "1              0.06               1.37               0.82   \n",
              "2              0.32               1.85               1.21   \n",
              "3              0.16               1.95               0.68   \n",
              "4              0.37               1.06               1.26   \n",
              "\n",
              "   HomeTeam_goals_conceded_avg  AwayTeam_goals_conceded_avg  H_goal_ratio  \\\n",
              "0                         1.37                         0.68          0.26   \n",
              "1                         1.21                         1.88          0.34   \n",
              "2                         0.75                         1.00          0.32   \n",
              "3                         1.00                         1.47          0.35   \n",
              "4                         1.33                         1.47          0.28   \n",
              "\n",
              "   A_goal_ratio  attack_strength_home_team  attack_strength_away_team  \\\n",
              "0          0.27                      11.93                      15.61   \n",
              "1          0.22                      18.25                      12.86   \n",
              "2          0.33                      26.48                      21.13   \n",
              "3          0.23                      25.97                      11.94   \n",
              "4          0.30                      13.34                      22.04   \n",
              "\n",
              "   adjusted_win_lost_ratio_H  adjusted_win_lost_ratio_A  \n",
              "0                       -0.5                        2.5  \n",
              "1                        1.2                        0.8  \n",
              "2                        0.3                        1.7  \n",
              "3                        1.7                        0.3  \n",
              "4                       -1.0                        3.0  "
            ],
            "text/html": [
              "\n",
              "  <div id=\"df-6e5b4a26-1358-4e52-9295-022a01b302ce\" class=\"colab-df-container\">\n",
              "    <div>\n",
              "<style scoped>\n",
              "    .dataframe tbody tr th:only-of-type {\n",
              "        vertical-align: middle;\n",
              "    }\n",
              "\n",
              "    .dataframe tbody tr th {\n",
              "        vertical-align: top;\n",
              "    }\n",
              "\n",
              "    .dataframe thead th {\n",
              "        text-align: right;\n",
              "    }\n",
              "</style>\n",
              "<table border=\"1\" class=\"dataframe\">\n",
              "  <thead>\n",
              "    <tr style=\"text-align: right;\">\n",
              "      <th></th>\n",
              "      <th>Date</th>\n",
              "      <th>HomeTeam</th>\n",
              "      <th>AwayTeam</th>\n",
              "      <th>B365H</th>\n",
              "      <th>B365D</th>\n",
              "      <th>B365A</th>\n",
              "      <th>HomeTeam_WinRate</th>\n",
              "      <th>AwayTeam_WinRate</th>\n",
              "      <th>HomeTeam_GoalsAvg</th>\n",
              "      <th>AwayTeam_GoalsAvg</th>\n",
              "      <th>HomeTeam_goals_conceded_avg</th>\n",
              "      <th>AwayTeam_goals_conceded_avg</th>\n",
              "      <th>H_goal_ratio</th>\n",
              "      <th>A_goal_ratio</th>\n",
              "      <th>attack_strength_home_team</th>\n",
              "      <th>attack_strength_away_team</th>\n",
              "      <th>adjusted_win_lost_ratio_H</th>\n",
              "      <th>adjusted_win_lost_ratio_A</th>\n",
              "    </tr>\n",
              "  </thead>\n",
              "  <tbody>\n",
              "    <tr>\n",
              "      <th>0</th>\n",
              "      <td>12/08/2022</td>\n",
              "      <td>Osasuna</td>\n",
              "      <td>Sevilla</td>\n",
              "      <td>3.20</td>\n",
              "      <td>3.10</td>\n",
              "      <td>2.40</td>\n",
              "      <td>0.26</td>\n",
              "      <td>0.32</td>\n",
              "      <td>0.89</td>\n",
              "      <td>0.89</td>\n",
              "      <td>1.37</td>\n",
              "      <td>0.68</td>\n",
              "      <td>0.26</td>\n",
              "      <td>0.27</td>\n",
              "      <td>11.93</td>\n",
              "      <td>15.61</td>\n",
              "      <td>-0.5</td>\n",
              "      <td>2.5</td>\n",
              "    </tr>\n",
              "    <tr>\n",
              "      <th>1</th>\n",
              "      <td>13/08/2022</td>\n",
              "      <td>Celta</td>\n",
              "      <td>Espanol</td>\n",
              "      <td>1.80</td>\n",
              "      <td>3.75</td>\n",
              "      <td>4.75</td>\n",
              "      <td>0.37</td>\n",
              "      <td>0.06</td>\n",
              "      <td>1.37</td>\n",
              "      <td>0.82</td>\n",
              "      <td>1.21</td>\n",
              "      <td>1.88</td>\n",
              "      <td>0.34</td>\n",
              "      <td>0.22</td>\n",
              "      <td>18.25</td>\n",
              "      <td>12.86</td>\n",
              "      <td>1.2</td>\n",
              "      <td>0.8</td>\n",
              "    </tr>\n",
              "    <tr>\n",
              "      <th>2</th>\n",
              "      <td>13/08/2022</td>\n",
              "      <td>Valladolid</td>\n",
              "      <td>Villarreal</td>\n",
              "      <td>3.90</td>\n",
              "      <td>3.60</td>\n",
              "      <td>1.90</td>\n",
              "      <td>0.65</td>\n",
              "      <td>0.32</td>\n",
              "      <td>1.85</td>\n",
              "      <td>1.21</td>\n",
              "      <td>0.75</td>\n",
              "      <td>1.00</td>\n",
              "      <td>0.32</td>\n",
              "      <td>0.33</td>\n",
              "      <td>26.48</td>\n",
              "      <td>21.13</td>\n",
              "      <td>0.3</td>\n",
              "      <td>1.7</td>\n",
              "    </tr>\n",
              "    <tr>\n",
              "      <th>3</th>\n",
              "      <td>13/08/2022</td>\n",
              "      <td>Barcelona</td>\n",
              "      <td>Vallecano</td>\n",
              "      <td>1.22</td>\n",
              "      <td>7.00</td>\n",
              "      <td>12.00</td>\n",
              "      <td>0.63</td>\n",
              "      <td>0.16</td>\n",
              "      <td>1.95</td>\n",
              "      <td>0.68</td>\n",
              "      <td>1.00</td>\n",
              "      <td>1.47</td>\n",
              "      <td>0.35</td>\n",
              "      <td>0.23</td>\n",
              "      <td>25.97</td>\n",
              "      <td>11.94</td>\n",
              "      <td>1.7</td>\n",
              "      <td>0.3</td>\n",
              "    </tr>\n",
              "    <tr>\n",
              "      <th>4</th>\n",
              "      <td>14/08/2022</td>\n",
              "      <td>Cadiz</td>\n",
              "      <td>Sociedad</td>\n",
              "      <td>3.60</td>\n",
              "      <td>3.20</td>\n",
              "      <td>2.20</td>\n",
              "      <td>0.17</td>\n",
              "      <td>0.37</td>\n",
              "      <td>1.06</td>\n",
              "      <td>1.26</td>\n",
              "      <td>1.33</td>\n",
              "      <td>1.47</td>\n",
              "      <td>0.28</td>\n",
              "      <td>0.30</td>\n",
              "      <td>13.34</td>\n",
              "      <td>22.04</td>\n",
              "      <td>-1.0</td>\n",
              "      <td>3.0</td>\n",
              "    </tr>\n",
              "  </tbody>\n",
              "</table>\n",
              "</div>\n",
              "    <div class=\"colab-df-buttons\">\n",
              "\n",
              "  <div class=\"colab-df-container\">\n",
              "    <button class=\"colab-df-convert\" onclick=\"convertToInteractive('df-6e5b4a26-1358-4e52-9295-022a01b302ce')\"\n",
              "            title=\"Convert this dataframe to an interactive table.\"\n",
              "            style=\"display:none;\">\n",
              "\n",
              "  <svg xmlns=\"http://www.w3.org/2000/svg\" height=\"24px\" viewBox=\"0 -960 960 960\">\n",
              "    <path d=\"M120-120v-720h720v720H120Zm60-500h600v-160H180v160Zm220 220h160v-160H400v160Zm0 220h160v-160H400v160ZM180-400h160v-160H180v160Zm440 0h160v-160H620v160ZM180-180h160v-160H180v160Zm440 0h160v-160H620v160Z\"/>\n",
              "  </svg>\n",
              "    </button>\n",
              "\n",
              "  <style>\n",
              "    .colab-df-container {\n",
              "      display:flex;\n",
              "      gap: 12px;\n",
              "    }\n",
              "\n",
              "    .colab-df-convert {\n",
              "      background-color: #E8F0FE;\n",
              "      border: none;\n",
              "      border-radius: 50%;\n",
              "      cursor: pointer;\n",
              "      display: none;\n",
              "      fill: #1967D2;\n",
              "      height: 32px;\n",
              "      padding: 0 0 0 0;\n",
              "      width: 32px;\n",
              "    }\n",
              "\n",
              "    .colab-df-convert:hover {\n",
              "      background-color: #E2EBFA;\n",
              "      box-shadow: 0px 1px 2px rgba(60, 64, 67, 0.3), 0px 1px 3px 1px rgba(60, 64, 67, 0.15);\n",
              "      fill: #174EA6;\n",
              "    }\n",
              "\n",
              "    .colab-df-buttons div {\n",
              "      margin-bottom: 4px;\n",
              "    }\n",
              "\n",
              "    [theme=dark] .colab-df-convert {\n",
              "      background-color: #3B4455;\n",
              "      fill: #D2E3FC;\n",
              "    }\n",
              "\n",
              "    [theme=dark] .colab-df-convert:hover {\n",
              "      background-color: #434B5C;\n",
              "      box-shadow: 0px 1px 3px 1px rgba(0, 0, 0, 0.15);\n",
              "      filter: drop-shadow(0px 1px 2px rgba(0, 0, 0, 0.3));\n",
              "      fill: #FFFFFF;\n",
              "    }\n",
              "  </style>\n",
              "\n",
              "    <script>\n",
              "      const buttonEl =\n",
              "        document.querySelector('#df-6e5b4a26-1358-4e52-9295-022a01b302ce button.colab-df-convert');\n",
              "      buttonEl.style.display =\n",
              "        google.colab.kernel.accessAllowed ? 'block' : 'none';\n",
              "\n",
              "      async function convertToInteractive(key) {\n",
              "        const element = document.querySelector('#df-6e5b4a26-1358-4e52-9295-022a01b302ce');\n",
              "        const dataTable =\n",
              "          await google.colab.kernel.invokeFunction('convertToInteractive',\n",
              "                                                    [key], {});\n",
              "        if (!dataTable) return;\n",
              "\n",
              "        const docLinkHtml = 'Like what you see? Visit the ' +\n",
              "          '<a target=\"_blank\" href=https://colab.research.google.com/notebooks/data_table.ipynb>data table notebook</a>'\n",
              "          + ' to learn more about interactive tables.';\n",
              "        element.innerHTML = '';\n",
              "        dataTable['output_type'] = 'display_data';\n",
              "        await google.colab.output.renderOutput(dataTable, element);\n",
              "        const docLink = document.createElement('div');\n",
              "        docLink.innerHTML = docLinkHtml;\n",
              "        element.appendChild(docLink);\n",
              "      }\n",
              "    </script>\n",
              "  </div>\n",
              "\n",
              "\n",
              "<div id=\"df-50e72e56-1f46-41eb-858a-fcf978706014\">\n",
              "  <button class=\"colab-df-quickchart\" onclick=\"quickchart('df-50e72e56-1f46-41eb-858a-fcf978706014')\"\n",
              "            title=\"Suggest charts\"\n",
              "            style=\"display:none;\">\n",
              "\n",
              "<svg xmlns=\"http://www.w3.org/2000/svg\" height=\"24px\"viewBox=\"0 0 24 24\"\n",
              "     width=\"24px\">\n",
              "    <g>\n",
              "        <path d=\"M19 3H5c-1.1 0-2 .9-2 2v14c0 1.1.9 2 2 2h14c1.1 0 2-.9 2-2V5c0-1.1-.9-2-2-2zM9 17H7v-7h2v7zm4 0h-2V7h2v10zm4 0h-2v-4h2v4z\"/>\n",
              "    </g>\n",
              "</svg>\n",
              "  </button>\n",
              "\n",
              "<style>\n",
              "  .colab-df-quickchart {\n",
              "      --bg-color: #E8F0FE;\n",
              "      --fill-color: #1967D2;\n",
              "      --hover-bg-color: #E2EBFA;\n",
              "      --hover-fill-color: #174EA6;\n",
              "      --disabled-fill-color: #AAA;\n",
              "      --disabled-bg-color: #DDD;\n",
              "  }\n",
              "\n",
              "  [theme=dark] .colab-df-quickchart {\n",
              "      --bg-color: #3B4455;\n",
              "      --fill-color: #D2E3FC;\n",
              "      --hover-bg-color: #434B5C;\n",
              "      --hover-fill-color: #FFFFFF;\n",
              "      --disabled-bg-color: #3B4455;\n",
              "      --disabled-fill-color: #666;\n",
              "  }\n",
              "\n",
              "  .colab-df-quickchart {\n",
              "    background-color: var(--bg-color);\n",
              "    border: none;\n",
              "    border-radius: 50%;\n",
              "    cursor: pointer;\n",
              "    display: none;\n",
              "    fill: var(--fill-color);\n",
              "    height: 32px;\n",
              "    padding: 0;\n",
              "    width: 32px;\n",
              "  }\n",
              "\n",
              "  .colab-df-quickchart:hover {\n",
              "    background-color: var(--hover-bg-color);\n",
              "    box-shadow: 0 1px 2px rgba(60, 64, 67, 0.3), 0 1px 3px 1px rgba(60, 64, 67, 0.15);\n",
              "    fill: var(--button-hover-fill-color);\n",
              "  }\n",
              "\n",
              "  .colab-df-quickchart-complete:disabled,\n",
              "  .colab-df-quickchart-complete:disabled:hover {\n",
              "    background-color: var(--disabled-bg-color);\n",
              "    fill: var(--disabled-fill-color);\n",
              "    box-shadow: none;\n",
              "  }\n",
              "\n",
              "  .colab-df-spinner {\n",
              "    border: 2px solid var(--fill-color);\n",
              "    border-color: transparent;\n",
              "    border-bottom-color: var(--fill-color);\n",
              "    animation:\n",
              "      spin 1s steps(1) infinite;\n",
              "  }\n",
              "\n",
              "  @keyframes spin {\n",
              "    0% {\n",
              "      border-color: transparent;\n",
              "      border-bottom-color: var(--fill-color);\n",
              "      border-left-color: var(--fill-color);\n",
              "    }\n",
              "    20% {\n",
              "      border-color: transparent;\n",
              "      border-left-color: var(--fill-color);\n",
              "      border-top-color: var(--fill-color);\n",
              "    }\n",
              "    30% {\n",
              "      border-color: transparent;\n",
              "      border-left-color: var(--fill-color);\n",
              "      border-top-color: var(--fill-color);\n",
              "      border-right-color: var(--fill-color);\n",
              "    }\n",
              "    40% {\n",
              "      border-color: transparent;\n",
              "      border-right-color: var(--fill-color);\n",
              "      border-top-color: var(--fill-color);\n",
              "    }\n",
              "    60% {\n",
              "      border-color: transparent;\n",
              "      border-right-color: var(--fill-color);\n",
              "    }\n",
              "    80% {\n",
              "      border-color: transparent;\n",
              "      border-right-color: var(--fill-color);\n",
              "      border-bottom-color: var(--fill-color);\n",
              "    }\n",
              "    90% {\n",
              "      border-color: transparent;\n",
              "      border-bottom-color: var(--fill-color);\n",
              "    }\n",
              "  }\n",
              "</style>\n",
              "\n",
              "  <script>\n",
              "    async function quickchart(key) {\n",
              "      const quickchartButtonEl =\n",
              "        document.querySelector('#' + key + ' button');\n",
              "      quickchartButtonEl.disabled = true;  // To prevent multiple clicks.\n",
              "      quickchartButtonEl.classList.add('colab-df-spinner');\n",
              "      try {\n",
              "        const charts = await google.colab.kernel.invokeFunction(\n",
              "            'suggestCharts', [key], {});\n",
              "      } catch (error) {\n",
              "        console.error('Error during call to suggestCharts:', error);\n",
              "      }\n",
              "      quickchartButtonEl.classList.remove('colab-df-spinner');\n",
              "      quickchartButtonEl.classList.add('colab-df-quickchart-complete');\n",
              "    }\n",
              "    (() => {\n",
              "      let quickchartButtonEl =\n",
              "        document.querySelector('#df-50e72e56-1f46-41eb-858a-fcf978706014 button');\n",
              "      quickchartButtonEl.style.display =\n",
              "        google.colab.kernel.accessAllowed ? 'block' : 'none';\n",
              "    })();\n",
              "  </script>\n",
              "</div>\n",
              "    </div>\n",
              "  </div>\n"
            ]
          },
          "metadata": {},
          "execution_count": 65
        }
      ]
    },
    {
      "cell_type": "code",
      "source": [
        "df2023.info()"
      ],
      "metadata": {
        "colab": {
          "base_uri": "https://localhost:8080/"
        },
        "id": "UdOV5sCbZAWT",
        "outputId": "e7d0bcc9-cf19-4c7b-a527-1dfa86e1cb14"
      },
      "execution_count": null,
      "outputs": [
        {
          "output_type": "stream",
          "name": "stdout",
          "text": [
            "<class 'pandas.core.frame.DataFrame'>\n",
            "RangeIndex: 380 entries, 0 to 379\n",
            "Data columns (total 18 columns):\n",
            " #   Column                       Non-Null Count  Dtype  \n",
            "---  ------                       --------------  -----  \n",
            " 0   Date                         380 non-null    object \n",
            " 1   HomeTeam                     380 non-null    object \n",
            " 2   AwayTeam                     380 non-null    object \n",
            " 3   B365H                        380 non-null    float64\n",
            " 4   B365D                        380 non-null    float64\n",
            " 5   B365A                        380 non-null    float64\n",
            " 6   HomeTeam_WinRate             380 non-null    float64\n",
            " 7   AwayTeam_WinRate             380 non-null    float64\n",
            " 8   HomeTeam_GoalsAvg            380 non-null    float64\n",
            " 9   AwayTeam_GoalsAvg            380 non-null    float64\n",
            " 10  HomeTeam_goals_conceded_avg  380 non-null    float64\n",
            " 11  AwayTeam_goals_conceded_avg  380 non-null    float64\n",
            " 12  H_goal_ratio                 380 non-null    float64\n",
            " 13  A_goal_ratio                 380 non-null    float64\n",
            " 14  attack_strength_home_team    380 non-null    float64\n",
            " 15  attack_strength_away_team    380 non-null    float64\n",
            " 16  adjusted_win_lost_ratio_H    380 non-null    float64\n",
            " 17  adjusted_win_lost_ratio_A    380 non-null    float64\n",
            "dtypes: float64(15), object(3)\n",
            "memory usage: 53.6+ KB\n"
          ]
        }
      ]
    },
    {
      "cell_type": "code",
      "source": [
        "df2023 = process_time_data(df2023, 2023)"
      ],
      "metadata": {
        "colab": {
          "base_uri": "https://localhost:8080/"
        },
        "id": "76AclrOMS1eh",
        "outputId": "43318368-9bc1-4acd-8020-a03ee9de8b62"
      },
      "execution_count": null,
      "outputs": [
        {
          "output_type": "stream",
          "name": "stderr",
          "text": [
            "<ipython-input-23-43f5887e43f7>:3: UserWarning: Parsing dates in DD/MM/YYYY format when dayfirst=False (the default) was specified. This may lead to inconsistently parsed dates! Specify a format to ensure consistent parsing.\n",
            "  df['Date'] = pd.to_datetime(df['Date'])\n"
          ]
        }
      ]
    },
    {
      "cell_type": "code",
      "source": [
        "def add_probability_B365(df):\n",
        "\n",
        "    df['Broker_prob_H'] = round(1 / df['B365H'], 2)\n",
        "    df['Broker_prob_D'] = round(1 / df['B365D'], 2)\n",
        "    df['Broker_prob_A'] = round(1 / df['B365A'], 2)\n",
        "    return df"
      ],
      "metadata": {
        "id": "fv3uNk_mSRfd"
      },
      "execution_count": null,
      "outputs": []
    },
    {
      "cell_type": "code",
      "source": [
        "df2023 = add_probability_B365(df2023)"
      ],
      "metadata": {
        "id": "vDusx_RpTNPH"
      },
      "execution_count": null,
      "outputs": []
    },
    {
      "cell_type": "code",
      "source": [
        "df2023.info()"
      ],
      "metadata": {
        "colab": {
          "base_uri": "https://localhost:8080/"
        },
        "id": "0bLmJan2TNXB",
        "outputId": "46eceb63-af44-4064-e091-cc248f424672"
      },
      "execution_count": null,
      "outputs": [
        {
          "output_type": "stream",
          "name": "stdout",
          "text": [
            "<class 'pandas.core.frame.DataFrame'>\n",
            "RangeIndex: 380 entries, 0 to 379\n",
            "Data columns (total 21 columns):\n",
            " #   Column                       Non-Null Count  Dtype  \n",
            "---  ------                       --------------  -----  \n",
            " 0   HomeTeam                     380 non-null    object \n",
            " 1   AwayTeam                     380 non-null    object \n",
            " 2   B365H                        380 non-null    float64\n",
            " 3   B365D                        380 non-null    float64\n",
            " 4   B365A                        380 non-null    float64\n",
            " 5   HomeTeam_WinRate             380 non-null    float64\n",
            " 6   AwayTeam_WinRate             380 non-null    float64\n",
            " 7   HomeTeam_GoalsAvg            380 non-null    float64\n",
            " 8   AwayTeam_GoalsAvg            380 non-null    float64\n",
            " 9   HomeTeam_goals_conceded_avg  380 non-null    float64\n",
            " 10  AwayTeam_goals_conceded_avg  380 non-null    float64\n",
            " 11  H_goal_ratio                 380 non-null    float64\n",
            " 12  A_goal_ratio                 380 non-null    float64\n",
            " 13  attack_strength_home_team    380 non-null    float64\n",
            " 14  attack_strength_away_team    380 non-null    float64\n",
            " 15  adjusted_win_lost_ratio_H    380 non-null    float64\n",
            " 16  adjusted_win_lost_ratio_A    380 non-null    float64\n",
            " 17  Year                         380 non-null    int64  \n",
            " 18  Broker_prob_H                380 non-null    float64\n",
            " 19  Broker_prob_D                380 non-null    float64\n",
            " 20  Broker_prob_A                380 non-null    float64\n",
            "dtypes: float64(18), int64(1), object(2)\n",
            "memory usage: 62.5+ KB\n"
          ]
        }
      ]
    },
    {
      "cell_type": "code",
      "source": [],
      "metadata": {
        "id": "e9x2I3uYTNZ4"
      },
      "execution_count": null,
      "outputs": []
    },
    {
      "cell_type": "markdown",
      "source": [
        "Classification task"
      ],
      "metadata": {
        "id": "EWuKpc51sGu9"
      }
    },
    {
      "cell_type": "markdown",
      "source": [
        "I use 2022 season ass validation set"
      ],
      "metadata": {
        "id": "9UbzEqYisJhD"
      }
    },
    {
      "cell_type": "code",
      "source": [
        "train = spn1[spn1['Year'] < 2022]\n",
        "validation = spn1[spn1['Year'] == 2022]"
      ],
      "metadata": {
        "id": "IxeKhAoeBaDU"
      },
      "execution_count": null,
      "outputs": []
    },
    {
      "cell_type": "code",
      "source": [
        "X_train = train.drop(['FTR', 'total_goal'], axis=1)\n",
        "y_train = train['FTR']\n",
        "X_validation = validation.drop(['FTR', 'total_goal'], axis=1)\n",
        "y_validation = validation['FTR']"
      ],
      "metadata": {
        "id": "MAImV14vBaGD"
      },
      "execution_count": null,
      "outputs": []
    },
    {
      "cell_type": "code",
      "source": [
        "X_test = df2023.copy()\n",
        "X_test = X_test[X_train.columns]"
      ],
      "metadata": {
        "id": "F95_EDqiBaIs"
      },
      "execution_count": null,
      "outputs": []
    },
    {
      "cell_type": "code",
      "source": [
        "X_train.shape , y_train.shape, X_validation.shape, y_validation.shape, X_test.shape"
      ],
      "metadata": {
        "colab": {
          "base_uri": "https://localhost:8080/"
        },
        "id": "3e3VYN1lBaK_",
        "outputId": "19b3fb70-3935-4332-9e6b-7c4394b26cbe"
      },
      "execution_count": null,
      "outputs": [
        {
          "output_type": "execute_result",
          "data": {
            "text/plain": [
              "((2230, 21), (2230,), (372, 21), (372,), (380, 21))"
            ]
          },
          "metadata": {},
          "execution_count": 75
        }
      ]
    },
    {
      "cell_type": "code",
      "source": [
        "y_train_enc = y_train.map({'H': 1, 'D': 0, 'A': 2})\n",
        "y_validation_enc = y_validation.map({'H': 1, 'D': 0, 'A': 2})"
      ],
      "metadata": {
        "id": "wKQbPNZ7BaNY"
      },
      "execution_count": null,
      "outputs": []
    },
    {
      "cell_type": "code",
      "source": [
        "\n",
        "from sklearn.preprocessing import LabelEncoder\n",
        "# Update the set of all teams to include teams from X_test\n",
        "all_teams = set(X_train['HomeTeam'].unique()).union(set(X_train['AwayTeam'].unique()))\n",
        "all_teams = all_teams.union(set(X_validation['HomeTeam'].unique())).union(set(X_validation['AwayTeam'].unique()))\n",
        "all_teams = all_teams.union(set(X_test['HomeTeam'].unique())).union(set(X_test['AwayTeam'].unique()))\n",
        "\n",
        "# Convert the set to a list\n",
        "all_teams_list = list(all_teams)\n",
        "\n",
        "# Fit the LabelEncoder with the updated list of all teams\n",
        "encoder = LabelEncoder()\n",
        "encoder.fit(all_teams_list)\n",
        "\n",
        "# Transform 'HomeTeam' and 'AwayTeam' in all datasets\n",
        "X_train['HomeTeam'] = encoder.transform(X_train['HomeTeam'])\n",
        "X_train['AwayTeam'] = encoder.transform(X_train['AwayTeam'])\n",
        "X_validation['HomeTeam'] = encoder.transform(X_validation['HomeTeam'])\n",
        "X_validation['AwayTeam'] = encoder.transform(X_validation['AwayTeam'])\n",
        "X_test['HomeTeam'] = encoder.transform(X_test['HomeTeam'])\n",
        "X_test['AwayTeam'] = encoder.transform(X_test['AwayTeam'])"
      ],
      "metadata": {
        "id": "bSAPGbb9BaP5"
      },
      "execution_count": null,
      "outputs": []
    },
    {
      "cell_type": "markdown",
      "source": [
        "I utilize LazyPredict to gain an overview of various models, helping me identify which ones are most promising. Based on this analysis, I will select the five best models."
      ],
      "metadata": {
        "id": "AZsZ109Bsdrw"
      }
    },
    {
      "cell_type": "code",
      "source": [
        "!pip install lazypredict"
      ],
      "metadata": {
        "colab": {
          "base_uri": "https://localhost:8080/"
        },
        "id": "G06PkG25BaSl",
        "outputId": "6215034a-dadf-4981-84b2-6b341512c76c"
      },
      "execution_count": null,
      "outputs": [
        {
          "output_type": "stream",
          "name": "stdout",
          "text": [
            "Collecting lazypredict\n",
            "  Downloading lazypredict-0.2.12-py2.py3-none-any.whl (12 kB)\n",
            "Requirement already satisfied: click in /usr/local/lib/python3.10/dist-packages (from lazypredict) (8.1.7)\n",
            "Requirement already satisfied: scikit-learn in /usr/local/lib/python3.10/dist-packages (from lazypredict) (1.2.2)\n",
            "Requirement already satisfied: pandas in /usr/local/lib/python3.10/dist-packages (from lazypredict) (1.5.3)\n",
            "Requirement already satisfied: tqdm in /usr/local/lib/python3.10/dist-packages (from lazypredict) (4.66.1)\n",
            "Requirement already satisfied: joblib in /usr/local/lib/python3.10/dist-packages (from lazypredict) (1.3.2)\n",
            "Requirement already satisfied: lightgbm in /usr/local/lib/python3.10/dist-packages (from lazypredict) (4.1.0)\n",
            "Requirement already satisfied: xgboost in /usr/local/lib/python3.10/dist-packages (from lazypredict) (2.0.3)\n",
            "Requirement already satisfied: numpy in /usr/local/lib/python3.10/dist-packages (from lightgbm->lazypredict) (1.23.5)\n",
            "Requirement already satisfied: scipy in /usr/local/lib/python3.10/dist-packages (from lightgbm->lazypredict) (1.11.4)\n",
            "Requirement already satisfied: python-dateutil>=2.8.1 in /usr/local/lib/python3.10/dist-packages (from pandas->lazypredict) (2.8.2)\n",
            "Requirement already satisfied: pytz>=2020.1 in /usr/local/lib/python3.10/dist-packages (from pandas->lazypredict) (2023.3.post1)\n",
            "Requirement already satisfied: threadpoolctl>=2.0.0 in /usr/local/lib/python3.10/dist-packages (from scikit-learn->lazypredict) (3.2.0)\n",
            "Requirement already satisfied: six>=1.5 in /usr/local/lib/python3.10/dist-packages (from python-dateutil>=2.8.1->pandas->lazypredict) (1.16.0)\n",
            "Installing collected packages: lazypredict\n",
            "Successfully installed lazypredict-0.2.12\n"
          ]
        }
      ]
    },
    {
      "cell_type": "code",
      "source": [
        "from lazypredict.Supervised import LazyClassifier\n",
        "clf = LazyClassifier(verbose = 0, ignore_warnings = False, custom_metric = None)\n",
        "models,pred = clf.fit(X_train, X_validation, y_train_enc, y_validation_enc)"
      ],
      "metadata": {
        "colab": {
          "base_uri": "https://localhost:8080/"
        },
        "id": "Eie6iPIaCYAv",
        "outputId": "bc43cc43-b962-4e75-e9cf-2ee1c93c3976"
      },
      "execution_count": null,
      "outputs": [
        {
          "output_type": "stream",
          "name": "stderr",
          "text": [
            "  7%|▋         | 2/29 [00:00<00:05,  5.26it/s]"
          ]
        },
        {
          "output_type": "stream",
          "name": "stdout",
          "text": [
            "ROC AUC couldn't be calculated for AdaBoostClassifier\n",
            "multi_class must be in ('ovo', 'ovr')\n",
            "ROC AUC couldn't be calculated for BaggingClassifier\n",
            "multi_class must be in ('ovo', 'ovr')\n",
            "ROC AUC couldn't be calculated for BernoulliNB\n",
            "multi_class must be in ('ovo', 'ovr')\n"
          ]
        },
        {
          "output_type": "stream",
          "name": "stderr",
          "text": [
            "\r 14%|█▍        | 4/29 [00:02<00:16,  1.50it/s]"
          ]
        },
        {
          "output_type": "stream",
          "name": "stdout",
          "text": [
            "ROC AUC couldn't be calculated for CalibratedClassifierCV\n",
            "multi_class must be in ('ovo', 'ovr')\n",
            "CategoricalNB model failed to execute\n",
            "Negative values in data passed to CategoricalNB (input X)\n",
            "ROC AUC couldn't be calculated for DecisionTreeClassifier\n",
            "multi_class must be in ('ovo', 'ovr')\n",
            "ROC AUC couldn't be calculated for DummyClassifier\n",
            "multi_class must be in ('ovo', 'ovr')\n",
            "ROC AUC couldn't be calculated for ExtraTreeClassifier\n",
            "multi_class must be in ('ovo', 'ovr')\n"
          ]
        },
        {
          "output_type": "stream",
          "name": "stderr",
          "text": [
            "\r 31%|███       | 9/29 [00:02<00:05,  3.79it/s]"
          ]
        },
        {
          "output_type": "stream",
          "name": "stdout",
          "text": [
            "ROC AUC couldn't be calculated for ExtraTreesClassifier\n",
            "multi_class must be in ('ovo', 'ovr')\n",
            "ROC AUC couldn't be calculated for GaussianNB\n",
            "multi_class must be in ('ovo', 'ovr')\n",
            "ROC AUC couldn't be calculated for KNeighborsClassifier\n",
            "multi_class must be in ('ovo', 'ovr')\n"
          ]
        },
        {
          "output_type": "stream",
          "name": "stderr",
          "text": [
            "\r 41%|████▏     | 12/29 [00:03<00:03,  4.79it/s]"
          ]
        },
        {
          "output_type": "stream",
          "name": "stdout",
          "text": [
            "ROC AUC couldn't be calculated for LabelPropagation\n",
            "multi_class must be in ('ovo', 'ovr')\n"
          ]
        },
        {
          "output_type": "stream",
          "name": "stderr",
          "text": [
            "\r 45%|████▍     | 13/29 [00:03<00:03,  4.48it/s]"
          ]
        },
        {
          "output_type": "stream",
          "name": "stdout",
          "text": [
            "ROC AUC couldn't be calculated for LabelSpreading\n",
            "multi_class must be in ('ovo', 'ovr')\n",
            "ROC AUC couldn't be calculated for LinearDiscriminantAnalysis\n",
            "multi_class must be in ('ovo', 'ovr')\n"
          ]
        },
        {
          "output_type": "stream",
          "name": "stderr",
          "text": [
            " 59%|█████▊    | 17/29 [00:04<00:02,  5.27it/s]"
          ]
        },
        {
          "output_type": "stream",
          "name": "stdout",
          "text": [
            "ROC AUC couldn't be calculated for LinearSVC\n",
            "multi_class must be in ('ovo', 'ovr')\n",
            "ROC AUC couldn't be calculated for LogisticRegression\n",
            "multi_class must be in ('ovo', 'ovr')\n",
            "ROC AUC couldn't be calculated for NearestCentroid\n",
            "multi_class must be in ('ovo', 'ovr')\n"
          ]
        },
        {
          "output_type": "stream",
          "name": "stderr",
          "text": [
            "\r 62%|██████▏   | 18/29 [00:04<00:02,  4.66it/s]"
          ]
        },
        {
          "output_type": "stream",
          "name": "stdout",
          "text": [
            "ROC AUC couldn't be calculated for NuSVC\n",
            "multi_class must be in ('ovo', 'ovr')\n",
            "ROC AUC couldn't be calculated for PassiveAggressiveClassifier\n",
            "multi_class must be in ('ovo', 'ovr')\n",
            "ROC AUC couldn't be calculated for Perceptron\n",
            "multi_class must be in ('ovo', 'ovr')\n",
            "ROC AUC couldn't be calculated for QuadraticDiscriminantAnalysis\n",
            "multi_class must be in ('ovo', 'ovr')\n"
          ]
        },
        {
          "output_type": "stream",
          "name": "stderr",
          "text": [
            " 86%|████████▌ | 25/29 [00:05<00:00,  7.41it/s]"
          ]
        },
        {
          "output_type": "stream",
          "name": "stdout",
          "text": [
            "ROC AUC couldn't be calculated for RandomForestClassifier\n",
            "multi_class must be in ('ovo', 'ovr')\n",
            "ROC AUC couldn't be calculated for RidgeClassifier\n",
            "multi_class must be in ('ovo', 'ovr')\n",
            "ROC AUC couldn't be calculated for RidgeClassifierCV\n",
            "multi_class must be in ('ovo', 'ovr')\n",
            "ROC AUC couldn't be calculated for SGDClassifier\n",
            "multi_class must be in ('ovo', 'ovr')\n"
          ]
        },
        {
          "output_type": "stream",
          "name": "stderr",
          "text": [
            "\r 93%|█████████▎| 27/29 [00:05<00:00,  7.51it/s]"
          ]
        },
        {
          "output_type": "stream",
          "name": "stdout",
          "text": [
            "ROC AUC couldn't be calculated for SVC\n",
            "multi_class must be in ('ovo', 'ovr')\n",
            "StackingClassifier model failed to execute\n",
            "StackingClassifier.__init__() missing 1 required positional argument: 'estimators'\n",
            "ROC AUC couldn't be calculated for XGBClassifier\n",
            "multi_class must be in ('ovo', 'ovr')\n",
            "[LightGBM] [Info] Auto-choosing col-wise multi-threading, the overhead of testing was 0.000477 seconds.\n",
            "You can set `force_col_wise=true` to remove the overhead.\n",
            "[LightGBM] [Info] Total Bins 1026\n",
            "[LightGBM] [Info] Number of data points in the train set: 2230, number of used features: 21\n",
            "[LightGBM] [Info] Start training from score -1.351915\n",
            "[LightGBM] [Info] Start training from score -0.782199\n",
            "[LightGBM] [Info] Start training from score -1.259286\n"
          ]
        },
        {
          "output_type": "stream",
          "name": "stderr",
          "text": [
            "100%|██████████| 29/29 [00:05<00:00,  4.91it/s]"
          ]
        },
        {
          "output_type": "stream",
          "name": "stdout",
          "text": [
            "ROC AUC couldn't be calculated for LGBMClassifier\n",
            "multi_class must be in ('ovo', 'ovr')\n"
          ]
        },
        {
          "output_type": "stream",
          "name": "stderr",
          "text": [
            "\n"
          ]
        }
      ]
    },
    {
      "cell_type": "code",
      "source": [
        "models"
      ],
      "metadata": {
        "colab": {
          "base_uri": "https://localhost:8080/",
          "height": 927
        },
        "id": "SSuZQANiCYF1",
        "outputId": "3b4492e8-b29b-4e37-861d-73d523cd0b24"
      },
      "execution_count": null,
      "outputs": [
        {
          "output_type": "execute_result",
          "data": {
            "text/plain": [
              "                               Accuracy  Balanced Accuracy ROC AUC  F1 Score  \\\n",
              "Model                                                                          \n",
              "XGBClassifier                      0.72               0.70    None      0.72   \n",
              "SVC                                0.73               0.68    None      0.71   \n",
              "RandomForestClassifier             0.72               0.68    None      0.71   \n",
              "ExtraTreesClassifier               0.71               0.68    None      0.70   \n",
              "BaggingClassifier                  0.69               0.67    None      0.69   \n",
              "LGBMClassifier                     0.69               0.67    None      0.69   \n",
              "NuSVC                              0.70               0.66    None      0.69   \n",
              "SGDClassifier                      0.70               0.66    None      0.68   \n",
              "LogisticRegression                 0.68               0.65    None      0.67   \n",
              "Perceptron                         0.68               0.65    None      0.67   \n",
              "KNeighborsClassifier               0.67               0.65    None      0.67   \n",
              "CalibratedClassifierCV             0.69               0.64    None      0.65   \n",
              "LinearDiscriminantAnalysis         0.66               0.64    None      0.65   \n",
              "DecisionTreeClassifier             0.63               0.63    None      0.64   \n",
              "AdaBoostClassifier                 0.66               0.61    None      0.63   \n",
              "LinearSVC                          0.66               0.61    None      0.60   \n",
              "RidgeClassifierCV                  0.66               0.60    None      0.59   \n",
              "GaussianNB                         0.60               0.60    None      0.62   \n",
              "RidgeClassifier                    0.66               0.60    None      0.59   \n",
              "QuadraticDiscriminantAnalysis      0.57               0.58    None      0.58   \n",
              "ExtraTreeClassifier                0.60               0.58    None      0.60   \n",
              "LabelSpreading                     0.60               0.58    None      0.60   \n",
              "LabelPropagation                   0.60               0.58    None      0.60   \n",
              "NearestCentroid                    0.56               0.56    None      0.57   \n",
              "BernoulliNB                        0.57               0.55    None      0.56   \n",
              "PassiveAggressiveClassifier        0.55               0.51    None      0.50   \n",
              "DummyClassifier                    0.44               0.33    None      0.27   \n",
              "\n",
              "                               Time Taken  \n",
              "Model                                      \n",
              "XGBClassifier                        0.26  \n",
              "SVC                                  0.25  \n",
              "RandomForestClassifier               0.50  \n",
              "ExtraTreesClassifier                 0.35  \n",
              "BaggingClassifier                    0.16  \n",
              "LGBMClassifier                       0.23  \n",
              "NuSVC                                0.33  \n",
              "SGDClassifier                        0.07  \n",
              "LogisticRegression                   0.08  \n",
              "Perceptron                           0.02  \n",
              "KNeighborsClassifier                 0.06  \n",
              "CalibratedClassifierCV               1.87  \n",
              "LinearDiscriminantAnalysis           0.08  \n",
              "DecisionTreeClassifier               0.03  \n",
              "AdaBoostClassifier                   0.23  \n",
              "LinearSVC                            0.54  \n",
              "RidgeClassifierCV                    0.05  \n",
              "GaussianNB                           0.02  \n",
              "RidgeClassifier                      0.03  \n",
              "QuadraticDiscriminantAnalysis        0.03  \n",
              "ExtraTreeClassifier                  0.02  \n",
              "LabelSpreading                       0.30  \n",
              "LabelPropagation                     0.27  \n",
              "NearestCentroid                      0.01  \n",
              "BernoulliNB                          0.02  \n",
              "PassiveAggressiveClassifier          0.03  \n",
              "DummyClassifier                      0.01  "
            ],
            "text/html": [
              "\n",
              "  <div id=\"df-59e00ab1-17cf-4fbf-b01b-e7ff4af6dc08\" class=\"colab-df-container\">\n",
              "    <div>\n",
              "<style scoped>\n",
              "    .dataframe tbody tr th:only-of-type {\n",
              "        vertical-align: middle;\n",
              "    }\n",
              "\n",
              "    .dataframe tbody tr th {\n",
              "        vertical-align: top;\n",
              "    }\n",
              "\n",
              "    .dataframe thead th {\n",
              "        text-align: right;\n",
              "    }\n",
              "</style>\n",
              "<table border=\"1\" class=\"dataframe\">\n",
              "  <thead>\n",
              "    <tr style=\"text-align: right;\">\n",
              "      <th></th>\n",
              "      <th>Accuracy</th>\n",
              "      <th>Balanced Accuracy</th>\n",
              "      <th>ROC AUC</th>\n",
              "      <th>F1 Score</th>\n",
              "      <th>Time Taken</th>\n",
              "    </tr>\n",
              "    <tr>\n",
              "      <th>Model</th>\n",
              "      <th></th>\n",
              "      <th></th>\n",
              "      <th></th>\n",
              "      <th></th>\n",
              "      <th></th>\n",
              "    </tr>\n",
              "  </thead>\n",
              "  <tbody>\n",
              "    <tr>\n",
              "      <th>XGBClassifier</th>\n",
              "      <td>0.72</td>\n",
              "      <td>0.70</td>\n",
              "      <td>None</td>\n",
              "      <td>0.72</td>\n",
              "      <td>0.26</td>\n",
              "    </tr>\n",
              "    <tr>\n",
              "      <th>SVC</th>\n",
              "      <td>0.73</td>\n",
              "      <td>0.68</td>\n",
              "      <td>None</td>\n",
              "      <td>0.71</td>\n",
              "      <td>0.25</td>\n",
              "    </tr>\n",
              "    <tr>\n",
              "      <th>RandomForestClassifier</th>\n",
              "      <td>0.72</td>\n",
              "      <td>0.68</td>\n",
              "      <td>None</td>\n",
              "      <td>0.71</td>\n",
              "      <td>0.50</td>\n",
              "    </tr>\n",
              "    <tr>\n",
              "      <th>ExtraTreesClassifier</th>\n",
              "      <td>0.71</td>\n",
              "      <td>0.68</td>\n",
              "      <td>None</td>\n",
              "      <td>0.70</td>\n",
              "      <td>0.35</td>\n",
              "    </tr>\n",
              "    <tr>\n",
              "      <th>BaggingClassifier</th>\n",
              "      <td>0.69</td>\n",
              "      <td>0.67</td>\n",
              "      <td>None</td>\n",
              "      <td>0.69</td>\n",
              "      <td>0.16</td>\n",
              "    </tr>\n",
              "    <tr>\n",
              "      <th>LGBMClassifier</th>\n",
              "      <td>0.69</td>\n",
              "      <td>0.67</td>\n",
              "      <td>None</td>\n",
              "      <td>0.69</td>\n",
              "      <td>0.23</td>\n",
              "    </tr>\n",
              "    <tr>\n",
              "      <th>NuSVC</th>\n",
              "      <td>0.70</td>\n",
              "      <td>0.66</td>\n",
              "      <td>None</td>\n",
              "      <td>0.69</td>\n",
              "      <td>0.33</td>\n",
              "    </tr>\n",
              "    <tr>\n",
              "      <th>SGDClassifier</th>\n",
              "      <td>0.70</td>\n",
              "      <td>0.66</td>\n",
              "      <td>None</td>\n",
              "      <td>0.68</td>\n",
              "      <td>0.07</td>\n",
              "    </tr>\n",
              "    <tr>\n",
              "      <th>LogisticRegression</th>\n",
              "      <td>0.68</td>\n",
              "      <td>0.65</td>\n",
              "      <td>None</td>\n",
              "      <td>0.67</td>\n",
              "      <td>0.08</td>\n",
              "    </tr>\n",
              "    <tr>\n",
              "      <th>Perceptron</th>\n",
              "      <td>0.68</td>\n",
              "      <td>0.65</td>\n",
              "      <td>None</td>\n",
              "      <td>0.67</td>\n",
              "      <td>0.02</td>\n",
              "    </tr>\n",
              "    <tr>\n",
              "      <th>KNeighborsClassifier</th>\n",
              "      <td>0.67</td>\n",
              "      <td>0.65</td>\n",
              "      <td>None</td>\n",
              "      <td>0.67</td>\n",
              "      <td>0.06</td>\n",
              "    </tr>\n",
              "    <tr>\n",
              "      <th>CalibratedClassifierCV</th>\n",
              "      <td>0.69</td>\n",
              "      <td>0.64</td>\n",
              "      <td>None</td>\n",
              "      <td>0.65</td>\n",
              "      <td>1.87</td>\n",
              "    </tr>\n",
              "    <tr>\n",
              "      <th>LinearDiscriminantAnalysis</th>\n",
              "      <td>0.66</td>\n",
              "      <td>0.64</td>\n",
              "      <td>None</td>\n",
              "      <td>0.65</td>\n",
              "      <td>0.08</td>\n",
              "    </tr>\n",
              "    <tr>\n",
              "      <th>DecisionTreeClassifier</th>\n",
              "      <td>0.63</td>\n",
              "      <td>0.63</td>\n",
              "      <td>None</td>\n",
              "      <td>0.64</td>\n",
              "      <td>0.03</td>\n",
              "    </tr>\n",
              "    <tr>\n",
              "      <th>AdaBoostClassifier</th>\n",
              "      <td>0.66</td>\n",
              "      <td>0.61</td>\n",
              "      <td>None</td>\n",
              "      <td>0.63</td>\n",
              "      <td>0.23</td>\n",
              "    </tr>\n",
              "    <tr>\n",
              "      <th>LinearSVC</th>\n",
              "      <td>0.66</td>\n",
              "      <td>0.61</td>\n",
              "      <td>None</td>\n",
              "      <td>0.60</td>\n",
              "      <td>0.54</td>\n",
              "    </tr>\n",
              "    <tr>\n",
              "      <th>RidgeClassifierCV</th>\n",
              "      <td>0.66</td>\n",
              "      <td>0.60</td>\n",
              "      <td>None</td>\n",
              "      <td>0.59</td>\n",
              "      <td>0.05</td>\n",
              "    </tr>\n",
              "    <tr>\n",
              "      <th>GaussianNB</th>\n",
              "      <td>0.60</td>\n",
              "      <td>0.60</td>\n",
              "      <td>None</td>\n",
              "      <td>0.62</td>\n",
              "      <td>0.02</td>\n",
              "    </tr>\n",
              "    <tr>\n",
              "      <th>RidgeClassifier</th>\n",
              "      <td>0.66</td>\n",
              "      <td>0.60</td>\n",
              "      <td>None</td>\n",
              "      <td>0.59</td>\n",
              "      <td>0.03</td>\n",
              "    </tr>\n",
              "    <tr>\n",
              "      <th>QuadraticDiscriminantAnalysis</th>\n",
              "      <td>0.57</td>\n",
              "      <td>0.58</td>\n",
              "      <td>None</td>\n",
              "      <td>0.58</td>\n",
              "      <td>0.03</td>\n",
              "    </tr>\n",
              "    <tr>\n",
              "      <th>ExtraTreeClassifier</th>\n",
              "      <td>0.60</td>\n",
              "      <td>0.58</td>\n",
              "      <td>None</td>\n",
              "      <td>0.60</td>\n",
              "      <td>0.02</td>\n",
              "    </tr>\n",
              "    <tr>\n",
              "      <th>LabelSpreading</th>\n",
              "      <td>0.60</td>\n",
              "      <td>0.58</td>\n",
              "      <td>None</td>\n",
              "      <td>0.60</td>\n",
              "      <td>0.30</td>\n",
              "    </tr>\n",
              "    <tr>\n",
              "      <th>LabelPropagation</th>\n",
              "      <td>0.60</td>\n",
              "      <td>0.58</td>\n",
              "      <td>None</td>\n",
              "      <td>0.60</td>\n",
              "      <td>0.27</td>\n",
              "    </tr>\n",
              "    <tr>\n",
              "      <th>NearestCentroid</th>\n",
              "      <td>0.56</td>\n",
              "      <td>0.56</td>\n",
              "      <td>None</td>\n",
              "      <td>0.57</td>\n",
              "      <td>0.01</td>\n",
              "    </tr>\n",
              "    <tr>\n",
              "      <th>BernoulliNB</th>\n",
              "      <td>0.57</td>\n",
              "      <td>0.55</td>\n",
              "      <td>None</td>\n",
              "      <td>0.56</td>\n",
              "      <td>0.02</td>\n",
              "    </tr>\n",
              "    <tr>\n",
              "      <th>PassiveAggressiveClassifier</th>\n",
              "      <td>0.55</td>\n",
              "      <td>0.51</td>\n",
              "      <td>None</td>\n",
              "      <td>0.50</td>\n",
              "      <td>0.03</td>\n",
              "    </tr>\n",
              "    <tr>\n",
              "      <th>DummyClassifier</th>\n",
              "      <td>0.44</td>\n",
              "      <td>0.33</td>\n",
              "      <td>None</td>\n",
              "      <td>0.27</td>\n",
              "      <td>0.01</td>\n",
              "    </tr>\n",
              "  </tbody>\n",
              "</table>\n",
              "</div>\n",
              "    <div class=\"colab-df-buttons\">\n",
              "\n",
              "  <div class=\"colab-df-container\">\n",
              "    <button class=\"colab-df-convert\" onclick=\"convertToInteractive('df-59e00ab1-17cf-4fbf-b01b-e7ff4af6dc08')\"\n",
              "            title=\"Convert this dataframe to an interactive table.\"\n",
              "            style=\"display:none;\">\n",
              "\n",
              "  <svg xmlns=\"http://www.w3.org/2000/svg\" height=\"24px\" viewBox=\"0 -960 960 960\">\n",
              "    <path d=\"M120-120v-720h720v720H120Zm60-500h600v-160H180v160Zm220 220h160v-160H400v160Zm0 220h160v-160H400v160ZM180-400h160v-160H180v160Zm440 0h160v-160H620v160ZM180-180h160v-160H180v160Zm440 0h160v-160H620v160Z\"/>\n",
              "  </svg>\n",
              "    </button>\n",
              "\n",
              "  <style>\n",
              "    .colab-df-container {\n",
              "      display:flex;\n",
              "      gap: 12px;\n",
              "    }\n",
              "\n",
              "    .colab-df-convert {\n",
              "      background-color: #E8F0FE;\n",
              "      border: none;\n",
              "      border-radius: 50%;\n",
              "      cursor: pointer;\n",
              "      display: none;\n",
              "      fill: #1967D2;\n",
              "      height: 32px;\n",
              "      padding: 0 0 0 0;\n",
              "      width: 32px;\n",
              "    }\n",
              "\n",
              "    .colab-df-convert:hover {\n",
              "      background-color: #E2EBFA;\n",
              "      box-shadow: 0px 1px 2px rgba(60, 64, 67, 0.3), 0px 1px 3px 1px rgba(60, 64, 67, 0.15);\n",
              "      fill: #174EA6;\n",
              "    }\n",
              "\n",
              "    .colab-df-buttons div {\n",
              "      margin-bottom: 4px;\n",
              "    }\n",
              "\n",
              "    [theme=dark] .colab-df-convert {\n",
              "      background-color: #3B4455;\n",
              "      fill: #D2E3FC;\n",
              "    }\n",
              "\n",
              "    [theme=dark] .colab-df-convert:hover {\n",
              "      background-color: #434B5C;\n",
              "      box-shadow: 0px 1px 3px 1px rgba(0, 0, 0, 0.15);\n",
              "      filter: drop-shadow(0px 1px 2px rgba(0, 0, 0, 0.3));\n",
              "      fill: #FFFFFF;\n",
              "    }\n",
              "  </style>\n",
              "\n",
              "    <script>\n",
              "      const buttonEl =\n",
              "        document.querySelector('#df-59e00ab1-17cf-4fbf-b01b-e7ff4af6dc08 button.colab-df-convert');\n",
              "      buttonEl.style.display =\n",
              "        google.colab.kernel.accessAllowed ? 'block' : 'none';\n",
              "\n",
              "      async function convertToInteractive(key) {\n",
              "        const element = document.querySelector('#df-59e00ab1-17cf-4fbf-b01b-e7ff4af6dc08');\n",
              "        const dataTable =\n",
              "          await google.colab.kernel.invokeFunction('convertToInteractive',\n",
              "                                                    [key], {});\n",
              "        if (!dataTable) return;\n",
              "\n",
              "        const docLinkHtml = 'Like what you see? Visit the ' +\n",
              "          '<a target=\"_blank\" href=https://colab.research.google.com/notebooks/data_table.ipynb>data table notebook</a>'\n",
              "          + ' to learn more about interactive tables.';\n",
              "        element.innerHTML = '';\n",
              "        dataTable['output_type'] = 'display_data';\n",
              "        await google.colab.output.renderOutput(dataTable, element);\n",
              "        const docLink = document.createElement('div');\n",
              "        docLink.innerHTML = docLinkHtml;\n",
              "        element.appendChild(docLink);\n",
              "      }\n",
              "    </script>\n",
              "  </div>\n",
              "\n",
              "\n",
              "<div id=\"df-c72f0e9d-8b64-40aa-a676-662fc81d0269\">\n",
              "  <button class=\"colab-df-quickchart\" onclick=\"quickchart('df-c72f0e9d-8b64-40aa-a676-662fc81d0269')\"\n",
              "            title=\"Suggest charts\"\n",
              "            style=\"display:none;\">\n",
              "\n",
              "<svg xmlns=\"http://www.w3.org/2000/svg\" height=\"24px\"viewBox=\"0 0 24 24\"\n",
              "     width=\"24px\">\n",
              "    <g>\n",
              "        <path d=\"M19 3H5c-1.1 0-2 .9-2 2v14c0 1.1.9 2 2 2h14c1.1 0 2-.9 2-2V5c0-1.1-.9-2-2-2zM9 17H7v-7h2v7zm4 0h-2V7h2v10zm4 0h-2v-4h2v4z\"/>\n",
              "    </g>\n",
              "</svg>\n",
              "  </button>\n",
              "\n",
              "<style>\n",
              "  .colab-df-quickchart {\n",
              "      --bg-color: #E8F0FE;\n",
              "      --fill-color: #1967D2;\n",
              "      --hover-bg-color: #E2EBFA;\n",
              "      --hover-fill-color: #174EA6;\n",
              "      --disabled-fill-color: #AAA;\n",
              "      --disabled-bg-color: #DDD;\n",
              "  }\n",
              "\n",
              "  [theme=dark] .colab-df-quickchart {\n",
              "      --bg-color: #3B4455;\n",
              "      --fill-color: #D2E3FC;\n",
              "      --hover-bg-color: #434B5C;\n",
              "      --hover-fill-color: #FFFFFF;\n",
              "      --disabled-bg-color: #3B4455;\n",
              "      --disabled-fill-color: #666;\n",
              "  }\n",
              "\n",
              "  .colab-df-quickchart {\n",
              "    background-color: var(--bg-color);\n",
              "    border: none;\n",
              "    border-radius: 50%;\n",
              "    cursor: pointer;\n",
              "    display: none;\n",
              "    fill: var(--fill-color);\n",
              "    height: 32px;\n",
              "    padding: 0;\n",
              "    width: 32px;\n",
              "  }\n",
              "\n",
              "  .colab-df-quickchart:hover {\n",
              "    background-color: var(--hover-bg-color);\n",
              "    box-shadow: 0 1px 2px rgba(60, 64, 67, 0.3), 0 1px 3px 1px rgba(60, 64, 67, 0.15);\n",
              "    fill: var(--button-hover-fill-color);\n",
              "  }\n",
              "\n",
              "  .colab-df-quickchart-complete:disabled,\n",
              "  .colab-df-quickchart-complete:disabled:hover {\n",
              "    background-color: var(--disabled-bg-color);\n",
              "    fill: var(--disabled-fill-color);\n",
              "    box-shadow: none;\n",
              "  }\n",
              "\n",
              "  .colab-df-spinner {\n",
              "    border: 2px solid var(--fill-color);\n",
              "    border-color: transparent;\n",
              "    border-bottom-color: var(--fill-color);\n",
              "    animation:\n",
              "      spin 1s steps(1) infinite;\n",
              "  }\n",
              "\n",
              "  @keyframes spin {\n",
              "    0% {\n",
              "      border-color: transparent;\n",
              "      border-bottom-color: var(--fill-color);\n",
              "      border-left-color: var(--fill-color);\n",
              "    }\n",
              "    20% {\n",
              "      border-color: transparent;\n",
              "      border-left-color: var(--fill-color);\n",
              "      border-top-color: var(--fill-color);\n",
              "    }\n",
              "    30% {\n",
              "      border-color: transparent;\n",
              "      border-left-color: var(--fill-color);\n",
              "      border-top-color: var(--fill-color);\n",
              "      border-right-color: var(--fill-color);\n",
              "    }\n",
              "    40% {\n",
              "      border-color: transparent;\n",
              "      border-right-color: var(--fill-color);\n",
              "      border-top-color: var(--fill-color);\n",
              "    }\n",
              "    60% {\n",
              "      border-color: transparent;\n",
              "      border-right-color: var(--fill-color);\n",
              "    }\n",
              "    80% {\n",
              "      border-color: transparent;\n",
              "      border-right-color: var(--fill-color);\n",
              "      border-bottom-color: var(--fill-color);\n",
              "    }\n",
              "    90% {\n",
              "      border-color: transparent;\n",
              "      border-bottom-color: var(--fill-color);\n",
              "    }\n",
              "  }\n",
              "</style>\n",
              "\n",
              "  <script>\n",
              "    async function quickchart(key) {\n",
              "      const quickchartButtonEl =\n",
              "        document.querySelector('#' + key + ' button');\n",
              "      quickchartButtonEl.disabled = true;  // To prevent multiple clicks.\n",
              "      quickchartButtonEl.classList.add('colab-df-spinner');\n",
              "      try {\n",
              "        const charts = await google.colab.kernel.invokeFunction(\n",
              "            'suggestCharts', [key], {});\n",
              "      } catch (error) {\n",
              "        console.error('Error during call to suggestCharts:', error);\n",
              "      }\n",
              "      quickchartButtonEl.classList.remove('colab-df-spinner');\n",
              "      quickchartButtonEl.classList.add('colab-df-quickchart-complete');\n",
              "    }\n",
              "    (() => {\n",
              "      let quickchartButtonEl =\n",
              "        document.querySelector('#df-c72f0e9d-8b64-40aa-a676-662fc81d0269 button');\n",
              "      quickchartButtonEl.style.display =\n",
              "        google.colab.kernel.accessAllowed ? 'block' : 'none';\n",
              "    })();\n",
              "  </script>\n",
              "</div>\n",
              "    </div>\n",
              "  </div>\n"
            ]
          },
          "metadata": {},
          "execution_count": 80
        }
      ]
    },
    {
      "cell_type": "code",
      "source": [
        "from sklearn.ensemble import BaggingClassifier, RandomForestClassifier, ExtraTreesClassifier\n",
        "from sklearn.metrics import accuracy_score, f1_score\n",
        "from sklearn.tree import DecisionTreeClassifier\n",
        "from xgboost import XGBClassifier\n",
        "\n",
        "# Initialize the models\n",
        "bagging_clf = BaggingClassifier(n_estimators=100, random_state=42)\n",
        "extra_trees_clf = ExtraTreesClassifier(n_estimators=100, random_state=42)\n",
        "random_forest_clf = RandomForestClassifier(n_estimators=100, random_state=42)\n",
        "decision_tree_clf = DecisionTreeClassifier(random_state=42)\n",
        "xgb_clf = XGBClassifier(random_state=42)\n",
        "\n",
        "# Fit the models\n",
        "bagging_clf.fit(X_train, y_train_enc)\n",
        "extra_trees_clf.fit(X_train, y_train_enc)\n",
        "random_forest_clf.fit(X_train, y_train_enc)\n",
        "decision_tree_clf.fit(X_train, y_train_enc)\n",
        "xgb_clf.fit(X_train, y_train_enc)\n",
        "\n",
        "# Predict y_validation\n",
        "y_pred_bagging = bagging_clf.predict(X_validation)\n",
        "y_pred_extra_trees = extra_trees_clf.predict(X_validation)\n",
        "y_pred_random_forest = random_forest_clf.predict(X_validation)\n",
        "y_pred_decision_tree = decision_tree_clf.predict(X_validation)\n",
        "y_pred_xgb = xgb_clf.predict(X_validation)\n",
        "\n",
        "# Calculate accuracy and F1 score for each model\n",
        "accuracy_bagging = accuracy_score(y_validation_enc, y_pred_bagging)\n",
        "f1_bagging = f1_score(y_validation_enc, y_pred_bagging, average='macro')\n",
        "\n",
        "accuracy_extra_trees = accuracy_score(y_validation_enc, y_pred_extra_trees)\n",
        "f1_extra_trees = f1_score(y_validation_enc, y_pred_extra_trees, average='macro')\n",
        "\n",
        "accuracy_random_forest = accuracy_score(y_validation_enc, y_pred_random_forest)\n",
        "f1_random_forest = f1_score(y_validation_enc, y_pred_random_forest, average='macro')\n",
        "\n",
        "accuracy_decision_tree = accuracy_score(y_validation_enc, y_pred_decision_tree)\n",
        "f1_decision_tree = f1_score(y_validation_enc, y_pred_decision_tree, average='macro')\n",
        "\n",
        "accuracy_xgb = accuracy_score(y_validation_enc, y_pred_xgb)\n",
        "f1_xgb = f1_score(y_validation_enc, y_pred_xgb, average='macro')\n",
        "\n",
        "# Print out the performance\n",
        "print(f'Bagging Classifier - Accuracy: {accuracy_bagging}, F1 Score: {f1_bagging}')\n",
        "print(f'Extra Trees Classifier - Accuracy: {accuracy_extra_trees}, F1 Score: {f1_extra_trees}')\n",
        "print(f'Random Forest Classifier - Accuracy: {accuracy_random_forest}, F1 Score: {f1_random_forest}')\n",
        "print(f'Decision Tree Classifier - Accuracy: {accuracy_decision_tree}, F1 Score: {f1_decision_tree}')\n",
        "print(f'XGB Classifier - Accuracy: {accuracy_xgb}, F1 Score: {f1_xgb}')"
      ],
      "metadata": {
        "colab": {
          "base_uri": "https://localhost:8080/"
        },
        "id": "kfHmceaQCYJK",
        "outputId": "3ab91b26-5588-43c5-efd0-7b2dc2d160c6"
      },
      "execution_count": null,
      "outputs": [
        {
          "output_type": "stream",
          "name": "stdout",
          "text": [
            "Bagging Classifier - Accuracy: 0.6881720430107527, F1 Score: 0.6693389051561406\n",
            "Extra Trees Classifier - Accuracy: 0.706989247311828, F1 Score: 0.6904039625082244\n",
            "Random Forest Classifier - Accuracy: 0.7231182795698925, F1 Score: 0.7008498735818188\n",
            "Decision Tree Classifier - Accuracy: 0.6397849462365591, F1 Score: 0.6351089928922348\n",
            "XGB Classifier - Accuracy: 0.7204301075268817, F1 Score: 0.7106470772726663\n"
          ]
        }
      ]
    },
    {
      "cell_type": "markdown",
      "source": [
        "Based on the results I pick 3 best model from the top 5 for hyperparameters tunning using Gridsearch"
      ],
      "metadata": {
        "id": "2WKZ9R1dtuVq"
      }
    },
    {
      "cell_type": "code",
      "source": [
        "from sklearn.model_selection import GridSearchCV\n",
        "\n",
        "param_grid_xgb = {\n",
        "    'n_estimators': [50, 100, 200],\n",
        "    'max_depth': [3, 6, 10],\n",
        "    'learning_rate': [0.01, 0.1, 0.2],\n",
        "    'subsample': [0.5, 0.7, 1],\n",
        "    'colsample_bytree': [0.5, 0.7, 1]\n",
        "}\n",
        "\n",
        "param_grid_random_forest = {\n",
        "    'n_estimators': [50, 100, 200],\n",
        "    'max_depth': [None, 10, 20, 30],\n",
        "    'min_samples_split': [2, 5, 10],\n",
        "    'min_samples_leaf': [1, 2, 4]\n",
        "}\n",
        "\n",
        "param_grid_extra_trees = {\n",
        "    'n_estimators': [50, 100, 200],\n",
        "    'max_depth': [None, 10, 20, 30],\n",
        "    'min_samples_split': [2, 5, 10],\n",
        "    'min_samples_leaf': [1, 2, 4]\n",
        "}\n",
        "\n",
        "\n",
        "\n",
        "grid_search_xgb = GridSearchCV(xgb_clf, param_grid_xgb, cv=5, scoring='f1_macro', verbose=1, n_jobs=-1)\n",
        "grid_search_random_forest = GridSearchCV(random_forest_clf, param_grid_random_forest, cv=5, scoring='f1_macro', verbose=1, n_jobs=-1)\n",
        "grid_search_extra_trees = GridSearchCV(extra_trees_clf, param_grid_extra_trees, cv=5, scoring='f1_macro', verbose=1, n_jobs=-1)\n",
        "\n",
        "grid_search_xgb.fit(X_train, y_train_enc)\n",
        "grid_search_random_forest.fit(X_train, y_train_enc)\n",
        "grid_search_extra_trees.fit(X_train, y_train_enc)\n",
        "\n",
        "best_params_xgb = grid_search_xgb.best_params_\n",
        "best_score_xgb = grid_search_xgb.best_score_\n",
        "\n",
        "best_params_random_forest = grid_search_random_forest.best_params_\n",
        "best_score_random_forest = grid_search_random_forest.best_score_\n",
        "\n",
        "best_params_extra_trees = grid_search_extra_trees.best_params_\n",
        "best_score_extra_trees = grid_search_extra_trees.best_score_\n",
        "\n",
        "\n",
        "y_pred_xgb = grid_search_xgb.best_estimator_.predict(X_validation)\n",
        "f1_score_xgb = f1_score(y_validation_enc, y_pred_xgb, average='macro')\n",
        "\n",
        "y_pred_random_forest = grid_search_random_forest.best_estimator_.predict(X_validation)\n",
        "f1_score_random_forest = f1_score(y_validation_enc, y_pred_random_forest, average='macro')\n",
        "\n",
        "y_pred_extra_trees = grid_search_extra_trees.best_estimator_.predict(X_validation)\n",
        "f1_score_extra_trees = f1_score(y_validation_enc, y_pred_extra_trees, average='macro')\n",
        "\n",
        "\n",
        "results = {\n",
        "    \"XGB Classifier\": {\n",
        "        \"Best Parameters\": best_params_xgb,\n",
        "        \"Best Score\": best_score_xgb,\n",
        "        \"F1 Score on Validation\": f1_score_xgb\n",
        "    },\n",
        "    \"Random Forest Classifier\": {\n",
        "        \"Best Parameters\": best_params_random_forest,\n",
        "        \"Best Score\": best_score_random_forest,\n",
        "        \"F1 Score on Validation\": f1_score_random_forest\n",
        "    },\n",
        "    \"Extra Trees Classifier\": {\n",
        "        \"Best Parameters\": best_params_extra_trees,\n",
        "        \"Best Score\": best_score_extra_trees,\n",
        "        \"F1 Score on Validation\": f1_score_extra_trees\n",
        "    }\n",
        "}\n",
        "\n"
      ],
      "metadata": {
        "colab": {
          "base_uri": "https://localhost:8080/"
        },
        "id": "bSH5vSbCCYMW",
        "outputId": "78ddeb1c-1030-447a-f4fb-5deb3218cdb9"
      },
      "execution_count": null,
      "outputs": [
        {
          "output_type": "stream",
          "name": "stdout",
          "text": [
            "Fitting 5 folds for each of 243 candidates, totalling 1215 fits\n",
            "Fitting 5 folds for each of 108 candidates, totalling 540 fits\n",
            "Fitting 5 folds for each of 108 candidates, totalling 540 fits\n"
          ]
        }
      ]
    },
    {
      "cell_type": "code",
      "source": [
        "results"
      ],
      "metadata": {
        "colab": {
          "base_uri": "https://localhost:8080/"
        },
        "id": "avpGpE41CYPU",
        "outputId": "64a5283b-fabf-452f-a3d0-8fa22cad1bbc"
      },
      "execution_count": null,
      "outputs": [
        {
          "output_type": "execute_result",
          "data": {
            "text/plain": [
              "{'XGB Classifier': {'Best Parameters': {'colsample_bytree': 1,\n",
              "   'learning_rate': 0.1,\n",
              "   'max_depth': 3,\n",
              "   'n_estimators': 50,\n",
              "   'subsample': 0.5},\n",
              "  'Best Score': 0.6941905203729608,\n",
              "  'F1 Score on Validation': 0.6996657034392882},\n",
              " 'Random Forest Classifier': {'Best Parameters': {'max_depth': 10,\n",
              "   'min_samples_leaf': 1,\n",
              "   'min_samples_split': 10,\n",
              "   'n_estimators': 200},\n",
              "  'Best Score': 0.6741715360960414,\n",
              "  'F1 Score on Validation': 0.6901265113642401},\n",
              " 'Extra Trees Classifier': {'Best Parameters': {'max_depth': 10,\n",
              "   'min_samples_leaf': 4,\n",
              "   'min_samples_split': 2,\n",
              "   'n_estimators': 100},\n",
              "  'Best Score': 0.6869174550510095,\n",
              "  'F1 Score on Validation': 0.7002351044690635}}"
            ]
          },
          "metadata": {},
          "execution_count": 83
        }
      ]
    },
    {
      "cell_type": "markdown",
      "source": [
        "Based on result pick the final model with best hyperparameters to apply for the test set"
      ],
      "metadata": {
        "id": "XlMtiLwKt_t3"
      }
    },
    {
      "cell_type": "code",
      "source": [
        "optimal_xgb_clf = XGBClassifier(\n",
        "    colsample_bytree=1,\n",
        "    learning_rate=0.1,\n",
        "    max_depth=3,\n",
        "    n_estimators=50,\n",
        "    subsample=0.5,\n",
        "    random_state=42\n",
        ")"
      ],
      "metadata": {
        "id": "mgha2_aNCYSw"
      },
      "execution_count": null,
      "outputs": []
    },
    {
      "cell_type": "code",
      "source": [
        "optimal_xgb_clf.fit(X_train, y_train_enc)"
      ],
      "metadata": {
        "colab": {
          "base_uri": "https://localhost:8080/",
          "height": 248
        },
        "id": "y1a591eYEWdR",
        "outputId": "e61fbfd4-f2e5-4fd9-812d-1f7ea9834f13"
      },
      "execution_count": null,
      "outputs": [
        {
          "output_type": "execute_result",
          "data": {
            "text/plain": [
              "XGBClassifier(base_score=None, booster=None, callbacks=None,\n",
              "              colsample_bylevel=None, colsample_bynode=None, colsample_bytree=1,\n",
              "              device=None, early_stopping_rounds=None, enable_categorical=False,\n",
              "              eval_metric=None, feature_types=None, gamma=None,\n",
              "              grow_policy=None, importance_type=None,\n",
              "              interaction_constraints=None, learning_rate=0.1, max_bin=None,\n",
              "              max_cat_threshold=None, max_cat_to_onehot=None,\n",
              "              max_delta_step=None, max_depth=3, max_leaves=None,\n",
              "              min_child_weight=None, missing=nan, monotone_constraints=None,\n",
              "              multi_strategy=None, n_estimators=50, n_jobs=None,\n",
              "              num_parallel_tree=None, objective='multi:softprob', ...)"
            ],
            "text/html": [
              "<style>#sk-container-id-1 {color: black;background-color: white;}#sk-container-id-1 pre{padding: 0;}#sk-container-id-1 div.sk-toggleable {background-color: white;}#sk-container-id-1 label.sk-toggleable__label {cursor: pointer;display: block;width: 100%;margin-bottom: 0;padding: 0.3em;box-sizing: border-box;text-align: center;}#sk-container-id-1 label.sk-toggleable__label-arrow:before {content: \"▸\";float: left;margin-right: 0.25em;color: #696969;}#sk-container-id-1 label.sk-toggleable__label-arrow:hover:before {color: black;}#sk-container-id-1 div.sk-estimator:hover label.sk-toggleable__label-arrow:before {color: black;}#sk-container-id-1 div.sk-toggleable__content {max-height: 0;max-width: 0;overflow: hidden;text-align: left;background-color: #f0f8ff;}#sk-container-id-1 div.sk-toggleable__content pre {margin: 0.2em;color: black;border-radius: 0.25em;background-color: #f0f8ff;}#sk-container-id-1 input.sk-toggleable__control:checked~div.sk-toggleable__content {max-height: 200px;max-width: 100%;overflow: auto;}#sk-container-id-1 input.sk-toggleable__control:checked~label.sk-toggleable__label-arrow:before {content: \"▾\";}#sk-container-id-1 div.sk-estimator input.sk-toggleable__control:checked~label.sk-toggleable__label {background-color: #d4ebff;}#sk-container-id-1 div.sk-label input.sk-toggleable__control:checked~label.sk-toggleable__label {background-color: #d4ebff;}#sk-container-id-1 input.sk-hidden--visually {border: 0;clip: rect(1px 1px 1px 1px);clip: rect(1px, 1px, 1px, 1px);height: 1px;margin: -1px;overflow: hidden;padding: 0;position: absolute;width: 1px;}#sk-container-id-1 div.sk-estimator {font-family: monospace;background-color: #f0f8ff;border: 1px dotted black;border-radius: 0.25em;box-sizing: border-box;margin-bottom: 0.5em;}#sk-container-id-1 div.sk-estimator:hover {background-color: #d4ebff;}#sk-container-id-1 div.sk-parallel-item::after {content: \"\";width: 100%;border-bottom: 1px solid gray;flex-grow: 1;}#sk-container-id-1 div.sk-label:hover label.sk-toggleable__label {background-color: #d4ebff;}#sk-container-id-1 div.sk-serial::before {content: \"\";position: absolute;border-left: 1px solid gray;box-sizing: border-box;top: 0;bottom: 0;left: 50%;z-index: 0;}#sk-container-id-1 div.sk-serial {display: flex;flex-direction: column;align-items: center;background-color: white;padding-right: 0.2em;padding-left: 0.2em;position: relative;}#sk-container-id-1 div.sk-item {position: relative;z-index: 1;}#sk-container-id-1 div.sk-parallel {display: flex;align-items: stretch;justify-content: center;background-color: white;position: relative;}#sk-container-id-1 div.sk-item::before, #sk-container-id-1 div.sk-parallel-item::before {content: \"\";position: absolute;border-left: 1px solid gray;box-sizing: border-box;top: 0;bottom: 0;left: 50%;z-index: -1;}#sk-container-id-1 div.sk-parallel-item {display: flex;flex-direction: column;z-index: 1;position: relative;background-color: white;}#sk-container-id-1 div.sk-parallel-item:first-child::after {align-self: flex-end;width: 50%;}#sk-container-id-1 div.sk-parallel-item:last-child::after {align-self: flex-start;width: 50%;}#sk-container-id-1 div.sk-parallel-item:only-child::after {width: 0;}#sk-container-id-1 div.sk-dashed-wrapped {border: 1px dashed gray;margin: 0 0.4em 0.5em 0.4em;box-sizing: border-box;padding-bottom: 0.4em;background-color: white;}#sk-container-id-1 div.sk-label label {font-family: monospace;font-weight: bold;display: inline-block;line-height: 1.2em;}#sk-container-id-1 div.sk-label-container {text-align: center;}#sk-container-id-1 div.sk-container {/* jupyter's `normalize.less` sets `[hidden] { display: none; }` but bootstrap.min.css set `[hidden] { display: none !important; }` so we also need the `!important` here to be able to override the default hidden behavior on the sphinx rendered scikit-learn.org. See: https://github.com/scikit-learn/scikit-learn/issues/21755 */display: inline-block !important;position: relative;}#sk-container-id-1 div.sk-text-repr-fallback {display: none;}</style><div id=\"sk-container-id-1\" class=\"sk-top-container\"><div class=\"sk-text-repr-fallback\"><pre>XGBClassifier(base_score=None, booster=None, callbacks=None,\n",
              "              colsample_bylevel=None, colsample_bynode=None, colsample_bytree=1,\n",
              "              device=None, early_stopping_rounds=None, enable_categorical=False,\n",
              "              eval_metric=None, feature_types=None, gamma=None,\n",
              "              grow_policy=None, importance_type=None,\n",
              "              interaction_constraints=None, learning_rate=0.1, max_bin=None,\n",
              "              max_cat_threshold=None, max_cat_to_onehot=None,\n",
              "              max_delta_step=None, max_depth=3, max_leaves=None,\n",
              "              min_child_weight=None, missing=nan, monotone_constraints=None,\n",
              "              multi_strategy=None, n_estimators=50, n_jobs=None,\n",
              "              num_parallel_tree=None, objective=&#x27;multi:softprob&#x27;, ...)</pre><b>In a Jupyter environment, please rerun this cell to show the HTML representation or trust the notebook. <br />On GitHub, the HTML representation is unable to render, please try loading this page with nbviewer.org.</b></div><div class=\"sk-container\" hidden><div class=\"sk-item\"><div class=\"sk-estimator sk-toggleable\"><input class=\"sk-toggleable__control sk-hidden--visually\" id=\"sk-estimator-id-1\" type=\"checkbox\" checked><label for=\"sk-estimator-id-1\" class=\"sk-toggleable__label sk-toggleable__label-arrow\">XGBClassifier</label><div class=\"sk-toggleable__content\"><pre>XGBClassifier(base_score=None, booster=None, callbacks=None,\n",
              "              colsample_bylevel=None, colsample_bynode=None, colsample_bytree=1,\n",
              "              device=None, early_stopping_rounds=None, enable_categorical=False,\n",
              "              eval_metric=None, feature_types=None, gamma=None,\n",
              "              grow_policy=None, importance_type=None,\n",
              "              interaction_constraints=None, learning_rate=0.1, max_bin=None,\n",
              "              max_cat_threshold=None, max_cat_to_onehot=None,\n",
              "              max_delta_step=None, max_depth=3, max_leaves=None,\n",
              "              min_child_weight=None, missing=nan, monotone_constraints=None,\n",
              "              multi_strategy=None, n_estimators=50, n_jobs=None,\n",
              "              num_parallel_tree=None, objective=&#x27;multi:softprob&#x27;, ...)</pre></div></div></div></div></div>"
            ]
          },
          "metadata": {},
          "execution_count": 85
        }
      ]
    },
    {
      "cell_type": "code",
      "source": [
        "y_pred_test_xgb = optimal_xgb_clf.predict(X_test)"
      ],
      "metadata": {
        "id": "ZQTllqfXBaU1"
      },
      "execution_count": null,
      "outputs": []
    },
    {
      "cell_type": "code",
      "source": [
        "# Define the inverse mapping\n",
        "inverse_mapping = {1: 'H', 0: 'D', 2: 'A'}\n",
        "\n",
        "# Convert y_pred_test_xgb back to original form\n",
        "y_pred_test_xgb_original = [inverse_mapping[label] for label in y_pred_test_xgb]\n"
      ],
      "metadata": {
        "id": "qf_I1b-uFTzf"
      },
      "execution_count": null,
      "outputs": []
    },
    {
      "cell_type": "code",
      "source": [
        "predictions_df = pd.DataFrame(y_pred_test_xgb_original, columns=['Predictions'])"
      ],
      "metadata": {
        "id": "vMKL-V4hFT6t"
      },
      "execution_count": null,
      "outputs": []
    },
    {
      "cell_type": "code",
      "source": [
        "predictions_df.to_csv('spain_1.csv', index=False)"
      ],
      "metadata": {
        "id": "Akp4KBRmFT-5"
      },
      "execution_count": null,
      "outputs": []
    },
    {
      "cell_type": "code",
      "source": [],
      "metadata": {
        "id": "08AD86PYFUCS"
      },
      "execution_count": null,
      "outputs": []
    },
    {
      "cell_type": "code",
      "source": [],
      "metadata": {
        "id": "poiWPtaXFUGC"
      },
      "execution_count": null,
      "outputs": []
    },
    {
      "cell_type": "markdown",
      "source": [
        "Regression task"
      ],
      "metadata": {
        "id": "T9ul3NKitBsi"
      }
    },
    {
      "cell_type": "code",
      "source": [
        "train = spn1[spn1['Year'] < 2022]\n",
        "validation = spn1[spn1['Year'] == 2022]"
      ],
      "metadata": {
        "id": "76BatuijFUJX"
      },
      "execution_count": null,
      "outputs": []
    },
    {
      "cell_type": "code",
      "source": [
        "X_train = train.drop(['FTR', 'total_goal'], axis=1)\n",
        "y_train = train['total_goal']\n",
        "X_validation = validation.drop(['FTR', 'total_goal'], axis=1)\n",
        "y_validation = validation['total_goal']"
      ],
      "metadata": {
        "id": "6Duir-dh3DrN"
      },
      "execution_count": null,
      "outputs": []
    },
    {
      "cell_type": "code",
      "source": [
        "X_test = df2023.copy()\n",
        "X_test = X_test[X_train.columns]"
      ],
      "metadata": {
        "id": "T9ySgyvX3Dwy"
      },
      "execution_count": null,
      "outputs": []
    },
    {
      "cell_type": "code",
      "source": [
        "X_train.shape , y_train.shape, X_validation.shape, y_validation.shape, X_test.shape"
      ],
      "metadata": {
        "colab": {
          "base_uri": "https://localhost:8080/"
        },
        "id": "Hwdm51v43Dz9",
        "outputId": "6d86966b-dd56-4653-c3e4-501f8e77de70"
      },
      "execution_count": null,
      "outputs": [
        {
          "output_type": "execute_result",
          "data": {
            "text/plain": [
              "((2230, 21), (2230,), (372, 21), (372,), (380, 21))"
            ]
          },
          "metadata": {},
          "execution_count": 65
        }
      ]
    },
    {
      "cell_type": "code",
      "source": [
        "\n",
        "from sklearn.preprocessing import LabelEncoder\n",
        "# Update the set of all teams to include teams from X_test\n",
        "all_teams = set(X_train['HomeTeam'].unique()).union(set(X_train['AwayTeam'].unique()))\n",
        "all_teams = all_teams.union(set(X_validation['HomeTeam'].unique())).union(set(X_validation['AwayTeam'].unique()))\n",
        "all_teams = all_teams.union(set(X_test['HomeTeam'].unique())).union(set(X_test['AwayTeam'].unique()))\n",
        "\n",
        "# Convert the set to a list\n",
        "all_teams_list = list(all_teams)\n",
        "\n",
        "# Fit the LabelEncoder with the updated list of all teams\n",
        "encoder = LabelEncoder()\n",
        "encoder.fit(all_teams_list)\n",
        "\n",
        "# Transform 'HomeTeam' and 'AwayTeam' in all datasets\n",
        "X_train['HomeTeam'] = encoder.transform(X_train['HomeTeam'])\n",
        "X_train['AwayTeam'] = encoder.transform(X_train['AwayTeam'])\n",
        "X_validation['HomeTeam'] = encoder.transform(X_validation['HomeTeam'])\n",
        "X_validation['AwayTeam'] = encoder.transform(X_validation['AwayTeam'])\n",
        "X_test['HomeTeam'] = encoder.transform(X_test['HomeTeam'])\n",
        "X_test['AwayTeam'] = encoder.transform(X_test['AwayTeam'])"
      ],
      "metadata": {
        "id": "YIOxQhR93D20"
      },
      "execution_count": null,
      "outputs": []
    },
    {
      "cell_type": "code",
      "source": [
        "from lazypredict.Supervised import LazyRegressor\n",
        "\n",
        "\n",
        "reg = LazyRegressor(verbose=0, ignore_warnings=False, custom_metric=None)\n",
        "\n",
        "models, predictions = reg.fit(X_train, X_validation, y_train, y_validation)"
      ],
      "metadata": {
        "colab": {
          "base_uri": "https://localhost:8080/"
        },
        "id": "Xxs3Ugxy3D5f",
        "outputId": "d3d05e7c-b40d-45c6-8260-510f00854e24"
      },
      "execution_count": null,
      "outputs": [
        {
          "output_type": "stream",
          "name": "stderr",
          "text": [
            " 21%|██▏       | 9/42 [00:02<00:08,  3.78it/s]"
          ]
        },
        {
          "output_type": "stream",
          "name": "stdout",
          "text": [
            "GammaRegressor model failed to execute\n",
            "Some value(s) of y are out of the valid range of the loss 'HalfGammaLoss'.\n"
          ]
        },
        {
          "output_type": "stream",
          "name": "stderr",
          "text": [
            " 74%|███████▍  | 31/42 [00:16<00:04,  2.62it/s]"
          ]
        },
        {
          "output_type": "stream",
          "name": "stdout",
          "text": [
            "QuantileRegressor model failed to execute\n",
            "Solver interior-point is not anymore available in SciPy >= 1.11.0.\n"
          ]
        },
        {
          "output_type": "stream",
          "name": "stderr",
          "text": [
            "100%|██████████| 42/42 [00:21<00:00,  1.99it/s]"
          ]
        },
        {
          "output_type": "stream",
          "name": "stdout",
          "text": [
            "[LightGBM] [Info] Auto-choosing col-wise multi-threading, the overhead of testing was 0.000543 seconds.\n",
            "You can set `force_col_wise=true` to remove the overhead.\n",
            "[LightGBM] [Info] Total Bins 1026\n",
            "[LightGBM] [Info] Number of data points in the train set: 2230, number of used features: 21\n",
            "[LightGBM] [Info] Start training from score 2.658744\n"
          ]
        },
        {
          "output_type": "stream",
          "name": "stderr",
          "text": [
            "\n"
          ]
        }
      ]
    },
    {
      "cell_type": "code",
      "source": [
        "models"
      ],
      "metadata": {
        "colab": {
          "base_uri": "https://localhost:8080/",
          "height": 1000
        },
        "id": "krxIUF9T3D8D",
        "outputId": "25bc74e6-f3e9-40c5-992e-d7e6e83dcb31"
      },
      "execution_count": null,
      "outputs": [
        {
          "output_type": "execute_result",
          "data": {
            "text/plain": [
              "                               Adjusted R-Squared  R-Squared  RMSE  Time Taken\n",
              "Model                                                                         \n",
              "GradientBoostingRegressor                    0.13       0.18  1.56        0.56\n",
              "NuSVR                                        0.11       0.16  1.58        0.27\n",
              "RandomForestRegressor                        0.11       0.16  1.58        1.74\n",
              "LGBMRegressor                                0.10       0.15  1.58        0.14\n",
              "ExtraTreesRegressor                          0.10       0.15  1.59        1.02\n",
              "HistGradientBoostingRegressor                0.10       0.15  1.59        7.43\n",
              "MLPRegressor                                 0.10       0.15  1.59        3.45\n",
              "SVR                                          0.09       0.14  1.59        0.35\n",
              "LassoLarsCV                                  0.09       0.14  1.60        0.10\n",
              "LassoCV                                      0.09       0.14  1.60        0.37\n",
              "ElasticNetCV                                 0.09       0.14  1.60        0.30\n",
              "BayesianRidge                                0.09       0.14  1.60        0.06\n",
              "LassoLarsIC                                  0.09       0.14  1.60        0.08\n",
              "RidgeCV                                      0.09       0.14  1.60        0.05\n",
              "Ridge                                        0.09       0.14  1.60        0.01\n",
              "OrthogonalMatchingPursuitCV                  0.09       0.14  1.60        0.02\n",
              "SGDRegressor                                 0.09       0.14  1.60        0.04\n",
              "TransformedTargetRegressor                   0.09       0.14  1.60        0.02\n",
              "LinearRegression                             0.09       0.14  1.60        0.03\n",
              "HuberRegressor                               0.09       0.14  1.60        0.14\n",
              "LinearSVR                                    0.08       0.13  1.60        0.08\n",
              "PoissonRegressor                             0.07       0.12  1.61        0.51\n",
              "LarsCV                                       0.06       0.11  1.62        0.05\n",
              "TweedieRegressor                             0.05       0.10  1.63        0.72\n",
              "OrthogonalMatchingPursuit                    0.01       0.07  1.66        0.01\n",
              "BaggingRegressor                             0.01       0.06  1.67        0.18\n",
              "XGBRegressor                                -0.00       0.06  1.67        1.05\n",
              "AdaBoostRegressor                           -0.01       0.05  1.68        0.28\n",
              "KNeighborsRegressor                         -0.03       0.03  1.70        0.39\n",
              "ElasticNet                                  -0.07      -0.01  1.73        0.01\n",
              "DummyRegressor                              -0.07      -0.01  1.73        0.01\n",
              "LassoLars                                   -0.07      -0.01  1.73        0.03\n",
              "Lasso                                       -0.07      -0.01  1.73        0.03\n",
              "ExtraTreeRegressor                          -0.85      -0.75  2.28        0.04\n",
              "DecisionTreeRegressor                       -0.91      -0.80  2.31        0.11\n",
              "Lars                                        -1.17      -1.04  2.46        0.04\n",
              "GaussianProcessRegressor                    -1.21      -1.08  2.49        0.74\n",
              "RANSACRegressor                             -1.40      -1.27  2.59        0.26\n",
              "PassiveAggressiveRegressor                  -1.65      -1.50  2.72        0.02\n",
              "KernelRidge                                 -2.28      -2.09  3.03        0.27"
            ],
            "text/html": [
              "\n",
              "  <div id=\"df-5905a542-8e57-47af-9dbe-698a2ea3769d\" class=\"colab-df-container\">\n",
              "    <div>\n",
              "<style scoped>\n",
              "    .dataframe tbody tr th:only-of-type {\n",
              "        vertical-align: middle;\n",
              "    }\n",
              "\n",
              "    .dataframe tbody tr th {\n",
              "        vertical-align: top;\n",
              "    }\n",
              "\n",
              "    .dataframe thead th {\n",
              "        text-align: right;\n",
              "    }\n",
              "</style>\n",
              "<table border=\"1\" class=\"dataframe\">\n",
              "  <thead>\n",
              "    <tr style=\"text-align: right;\">\n",
              "      <th></th>\n",
              "      <th>Adjusted R-Squared</th>\n",
              "      <th>R-Squared</th>\n",
              "      <th>RMSE</th>\n",
              "      <th>Time Taken</th>\n",
              "    </tr>\n",
              "    <tr>\n",
              "      <th>Model</th>\n",
              "      <th></th>\n",
              "      <th></th>\n",
              "      <th></th>\n",
              "      <th></th>\n",
              "    </tr>\n",
              "  </thead>\n",
              "  <tbody>\n",
              "    <tr>\n",
              "      <th>GradientBoostingRegressor</th>\n",
              "      <td>0.13</td>\n",
              "      <td>0.18</td>\n",
              "      <td>1.56</td>\n",
              "      <td>0.56</td>\n",
              "    </tr>\n",
              "    <tr>\n",
              "      <th>NuSVR</th>\n",
              "      <td>0.11</td>\n",
              "      <td>0.16</td>\n",
              "      <td>1.58</td>\n",
              "      <td>0.27</td>\n",
              "    </tr>\n",
              "    <tr>\n",
              "      <th>RandomForestRegressor</th>\n",
              "      <td>0.11</td>\n",
              "      <td>0.16</td>\n",
              "      <td>1.58</td>\n",
              "      <td>1.74</td>\n",
              "    </tr>\n",
              "    <tr>\n",
              "      <th>LGBMRegressor</th>\n",
              "      <td>0.10</td>\n",
              "      <td>0.15</td>\n",
              "      <td>1.58</td>\n",
              "      <td>0.14</td>\n",
              "    </tr>\n",
              "    <tr>\n",
              "      <th>ExtraTreesRegressor</th>\n",
              "      <td>0.10</td>\n",
              "      <td>0.15</td>\n",
              "      <td>1.59</td>\n",
              "      <td>1.02</td>\n",
              "    </tr>\n",
              "    <tr>\n",
              "      <th>HistGradientBoostingRegressor</th>\n",
              "      <td>0.10</td>\n",
              "      <td>0.15</td>\n",
              "      <td>1.59</td>\n",
              "      <td>7.43</td>\n",
              "    </tr>\n",
              "    <tr>\n",
              "      <th>MLPRegressor</th>\n",
              "      <td>0.10</td>\n",
              "      <td>0.15</td>\n",
              "      <td>1.59</td>\n",
              "      <td>3.45</td>\n",
              "    </tr>\n",
              "    <tr>\n",
              "      <th>SVR</th>\n",
              "      <td>0.09</td>\n",
              "      <td>0.14</td>\n",
              "      <td>1.59</td>\n",
              "      <td>0.35</td>\n",
              "    </tr>\n",
              "    <tr>\n",
              "      <th>LassoLarsCV</th>\n",
              "      <td>0.09</td>\n",
              "      <td>0.14</td>\n",
              "      <td>1.60</td>\n",
              "      <td>0.10</td>\n",
              "    </tr>\n",
              "    <tr>\n",
              "      <th>LassoCV</th>\n",
              "      <td>0.09</td>\n",
              "      <td>0.14</td>\n",
              "      <td>1.60</td>\n",
              "      <td>0.37</td>\n",
              "    </tr>\n",
              "    <tr>\n",
              "      <th>ElasticNetCV</th>\n",
              "      <td>0.09</td>\n",
              "      <td>0.14</td>\n",
              "      <td>1.60</td>\n",
              "      <td>0.30</td>\n",
              "    </tr>\n",
              "    <tr>\n",
              "      <th>BayesianRidge</th>\n",
              "      <td>0.09</td>\n",
              "      <td>0.14</td>\n",
              "      <td>1.60</td>\n",
              "      <td>0.06</td>\n",
              "    </tr>\n",
              "    <tr>\n",
              "      <th>LassoLarsIC</th>\n",
              "      <td>0.09</td>\n",
              "      <td>0.14</td>\n",
              "      <td>1.60</td>\n",
              "      <td>0.08</td>\n",
              "    </tr>\n",
              "    <tr>\n",
              "      <th>RidgeCV</th>\n",
              "      <td>0.09</td>\n",
              "      <td>0.14</td>\n",
              "      <td>1.60</td>\n",
              "      <td>0.05</td>\n",
              "    </tr>\n",
              "    <tr>\n",
              "      <th>Ridge</th>\n",
              "      <td>0.09</td>\n",
              "      <td>0.14</td>\n",
              "      <td>1.60</td>\n",
              "      <td>0.01</td>\n",
              "    </tr>\n",
              "    <tr>\n",
              "      <th>OrthogonalMatchingPursuitCV</th>\n",
              "      <td>0.09</td>\n",
              "      <td>0.14</td>\n",
              "      <td>1.60</td>\n",
              "      <td>0.02</td>\n",
              "    </tr>\n",
              "    <tr>\n",
              "      <th>SGDRegressor</th>\n",
              "      <td>0.09</td>\n",
              "      <td>0.14</td>\n",
              "      <td>1.60</td>\n",
              "      <td>0.04</td>\n",
              "    </tr>\n",
              "    <tr>\n",
              "      <th>TransformedTargetRegressor</th>\n",
              "      <td>0.09</td>\n",
              "      <td>0.14</td>\n",
              "      <td>1.60</td>\n",
              "      <td>0.02</td>\n",
              "    </tr>\n",
              "    <tr>\n",
              "      <th>LinearRegression</th>\n",
              "      <td>0.09</td>\n",
              "      <td>0.14</td>\n",
              "      <td>1.60</td>\n",
              "      <td>0.03</td>\n",
              "    </tr>\n",
              "    <tr>\n",
              "      <th>HuberRegressor</th>\n",
              "      <td>0.09</td>\n",
              "      <td>0.14</td>\n",
              "      <td>1.60</td>\n",
              "      <td>0.14</td>\n",
              "    </tr>\n",
              "    <tr>\n",
              "      <th>LinearSVR</th>\n",
              "      <td>0.08</td>\n",
              "      <td>0.13</td>\n",
              "      <td>1.60</td>\n",
              "      <td>0.08</td>\n",
              "    </tr>\n",
              "    <tr>\n",
              "      <th>PoissonRegressor</th>\n",
              "      <td>0.07</td>\n",
              "      <td>0.12</td>\n",
              "      <td>1.61</td>\n",
              "      <td>0.51</td>\n",
              "    </tr>\n",
              "    <tr>\n",
              "      <th>LarsCV</th>\n",
              "      <td>0.06</td>\n",
              "      <td>0.11</td>\n",
              "      <td>1.62</td>\n",
              "      <td>0.05</td>\n",
              "    </tr>\n",
              "    <tr>\n",
              "      <th>TweedieRegressor</th>\n",
              "      <td>0.05</td>\n",
              "      <td>0.10</td>\n",
              "      <td>1.63</td>\n",
              "      <td>0.72</td>\n",
              "    </tr>\n",
              "    <tr>\n",
              "      <th>OrthogonalMatchingPursuit</th>\n",
              "      <td>0.01</td>\n",
              "      <td>0.07</td>\n",
              "      <td>1.66</td>\n",
              "      <td>0.01</td>\n",
              "    </tr>\n",
              "    <tr>\n",
              "      <th>BaggingRegressor</th>\n",
              "      <td>0.01</td>\n",
              "      <td>0.06</td>\n",
              "      <td>1.67</td>\n",
              "      <td>0.18</td>\n",
              "    </tr>\n",
              "    <tr>\n",
              "      <th>XGBRegressor</th>\n",
              "      <td>-0.00</td>\n",
              "      <td>0.06</td>\n",
              "      <td>1.67</td>\n",
              "      <td>1.05</td>\n",
              "    </tr>\n",
              "    <tr>\n",
              "      <th>AdaBoostRegressor</th>\n",
              "      <td>-0.01</td>\n",
              "      <td>0.05</td>\n",
              "      <td>1.68</td>\n",
              "      <td>0.28</td>\n",
              "    </tr>\n",
              "    <tr>\n",
              "      <th>KNeighborsRegressor</th>\n",
              "      <td>-0.03</td>\n",
              "      <td>0.03</td>\n",
              "      <td>1.70</td>\n",
              "      <td>0.39</td>\n",
              "    </tr>\n",
              "    <tr>\n",
              "      <th>ElasticNet</th>\n",
              "      <td>-0.07</td>\n",
              "      <td>-0.01</td>\n",
              "      <td>1.73</td>\n",
              "      <td>0.01</td>\n",
              "    </tr>\n",
              "    <tr>\n",
              "      <th>DummyRegressor</th>\n",
              "      <td>-0.07</td>\n",
              "      <td>-0.01</td>\n",
              "      <td>1.73</td>\n",
              "      <td>0.01</td>\n",
              "    </tr>\n",
              "    <tr>\n",
              "      <th>LassoLars</th>\n",
              "      <td>-0.07</td>\n",
              "      <td>-0.01</td>\n",
              "      <td>1.73</td>\n",
              "      <td>0.03</td>\n",
              "    </tr>\n",
              "    <tr>\n",
              "      <th>Lasso</th>\n",
              "      <td>-0.07</td>\n",
              "      <td>-0.01</td>\n",
              "      <td>1.73</td>\n",
              "      <td>0.03</td>\n",
              "    </tr>\n",
              "    <tr>\n",
              "      <th>ExtraTreeRegressor</th>\n",
              "      <td>-0.85</td>\n",
              "      <td>-0.75</td>\n",
              "      <td>2.28</td>\n",
              "      <td>0.04</td>\n",
              "    </tr>\n",
              "    <tr>\n",
              "      <th>DecisionTreeRegressor</th>\n",
              "      <td>-0.91</td>\n",
              "      <td>-0.80</td>\n",
              "      <td>2.31</td>\n",
              "      <td>0.11</td>\n",
              "    </tr>\n",
              "    <tr>\n",
              "      <th>Lars</th>\n",
              "      <td>-1.17</td>\n",
              "      <td>-1.04</td>\n",
              "      <td>2.46</td>\n",
              "      <td>0.04</td>\n",
              "    </tr>\n",
              "    <tr>\n",
              "      <th>GaussianProcessRegressor</th>\n",
              "      <td>-1.21</td>\n",
              "      <td>-1.08</td>\n",
              "      <td>2.49</td>\n",
              "      <td>0.74</td>\n",
              "    </tr>\n",
              "    <tr>\n",
              "      <th>RANSACRegressor</th>\n",
              "      <td>-1.40</td>\n",
              "      <td>-1.27</td>\n",
              "      <td>2.59</td>\n",
              "      <td>0.26</td>\n",
              "    </tr>\n",
              "    <tr>\n",
              "      <th>PassiveAggressiveRegressor</th>\n",
              "      <td>-1.65</td>\n",
              "      <td>-1.50</td>\n",
              "      <td>2.72</td>\n",
              "      <td>0.02</td>\n",
              "    </tr>\n",
              "    <tr>\n",
              "      <th>KernelRidge</th>\n",
              "      <td>-2.28</td>\n",
              "      <td>-2.09</td>\n",
              "      <td>3.03</td>\n",
              "      <td>0.27</td>\n",
              "    </tr>\n",
              "  </tbody>\n",
              "</table>\n",
              "</div>\n",
              "    <div class=\"colab-df-buttons\">\n",
              "\n",
              "  <div class=\"colab-df-container\">\n",
              "    <button class=\"colab-df-convert\" onclick=\"convertToInteractive('df-5905a542-8e57-47af-9dbe-698a2ea3769d')\"\n",
              "            title=\"Convert this dataframe to an interactive table.\"\n",
              "            style=\"display:none;\">\n",
              "\n",
              "  <svg xmlns=\"http://www.w3.org/2000/svg\" height=\"24px\" viewBox=\"0 -960 960 960\">\n",
              "    <path d=\"M120-120v-720h720v720H120Zm60-500h600v-160H180v160Zm220 220h160v-160H400v160Zm0 220h160v-160H400v160ZM180-400h160v-160H180v160Zm440 0h160v-160H620v160ZM180-180h160v-160H180v160Zm440 0h160v-160H620v160Z\"/>\n",
              "  </svg>\n",
              "    </button>\n",
              "\n",
              "  <style>\n",
              "    .colab-df-container {\n",
              "      display:flex;\n",
              "      gap: 12px;\n",
              "    }\n",
              "\n",
              "    .colab-df-convert {\n",
              "      background-color: #E8F0FE;\n",
              "      border: none;\n",
              "      border-radius: 50%;\n",
              "      cursor: pointer;\n",
              "      display: none;\n",
              "      fill: #1967D2;\n",
              "      height: 32px;\n",
              "      padding: 0 0 0 0;\n",
              "      width: 32px;\n",
              "    }\n",
              "\n",
              "    .colab-df-convert:hover {\n",
              "      background-color: #E2EBFA;\n",
              "      box-shadow: 0px 1px 2px rgba(60, 64, 67, 0.3), 0px 1px 3px 1px rgba(60, 64, 67, 0.15);\n",
              "      fill: #174EA6;\n",
              "    }\n",
              "\n",
              "    .colab-df-buttons div {\n",
              "      margin-bottom: 4px;\n",
              "    }\n",
              "\n",
              "    [theme=dark] .colab-df-convert {\n",
              "      background-color: #3B4455;\n",
              "      fill: #D2E3FC;\n",
              "    }\n",
              "\n",
              "    [theme=dark] .colab-df-convert:hover {\n",
              "      background-color: #434B5C;\n",
              "      box-shadow: 0px 1px 3px 1px rgba(0, 0, 0, 0.15);\n",
              "      filter: drop-shadow(0px 1px 2px rgba(0, 0, 0, 0.3));\n",
              "      fill: #FFFFFF;\n",
              "    }\n",
              "  </style>\n",
              "\n",
              "    <script>\n",
              "      const buttonEl =\n",
              "        document.querySelector('#df-5905a542-8e57-47af-9dbe-698a2ea3769d button.colab-df-convert');\n",
              "      buttonEl.style.display =\n",
              "        google.colab.kernel.accessAllowed ? 'block' : 'none';\n",
              "\n",
              "      async function convertToInteractive(key) {\n",
              "        const element = document.querySelector('#df-5905a542-8e57-47af-9dbe-698a2ea3769d');\n",
              "        const dataTable =\n",
              "          await google.colab.kernel.invokeFunction('convertToInteractive',\n",
              "                                                    [key], {});\n",
              "        if (!dataTable) return;\n",
              "\n",
              "        const docLinkHtml = 'Like what you see? Visit the ' +\n",
              "          '<a target=\"_blank\" href=https://colab.research.google.com/notebooks/data_table.ipynb>data table notebook</a>'\n",
              "          + ' to learn more about interactive tables.';\n",
              "        element.innerHTML = '';\n",
              "        dataTable['output_type'] = 'display_data';\n",
              "        await google.colab.output.renderOutput(dataTable, element);\n",
              "        const docLink = document.createElement('div');\n",
              "        docLink.innerHTML = docLinkHtml;\n",
              "        element.appendChild(docLink);\n",
              "      }\n",
              "    </script>\n",
              "  </div>\n",
              "\n",
              "\n",
              "<div id=\"df-12b90b53-a6a9-4dce-a710-fab7c926e34e\">\n",
              "  <button class=\"colab-df-quickchart\" onclick=\"quickchart('df-12b90b53-a6a9-4dce-a710-fab7c926e34e')\"\n",
              "            title=\"Suggest charts\"\n",
              "            style=\"display:none;\">\n",
              "\n",
              "<svg xmlns=\"http://www.w3.org/2000/svg\" height=\"24px\"viewBox=\"0 0 24 24\"\n",
              "     width=\"24px\">\n",
              "    <g>\n",
              "        <path d=\"M19 3H5c-1.1 0-2 .9-2 2v14c0 1.1.9 2 2 2h14c1.1 0 2-.9 2-2V5c0-1.1-.9-2-2-2zM9 17H7v-7h2v7zm4 0h-2V7h2v10zm4 0h-2v-4h2v4z\"/>\n",
              "    </g>\n",
              "</svg>\n",
              "  </button>\n",
              "\n",
              "<style>\n",
              "  .colab-df-quickchart {\n",
              "      --bg-color: #E8F0FE;\n",
              "      --fill-color: #1967D2;\n",
              "      --hover-bg-color: #E2EBFA;\n",
              "      --hover-fill-color: #174EA6;\n",
              "      --disabled-fill-color: #AAA;\n",
              "      --disabled-bg-color: #DDD;\n",
              "  }\n",
              "\n",
              "  [theme=dark] .colab-df-quickchart {\n",
              "      --bg-color: #3B4455;\n",
              "      --fill-color: #D2E3FC;\n",
              "      --hover-bg-color: #434B5C;\n",
              "      --hover-fill-color: #FFFFFF;\n",
              "      --disabled-bg-color: #3B4455;\n",
              "      --disabled-fill-color: #666;\n",
              "  }\n",
              "\n",
              "  .colab-df-quickchart {\n",
              "    background-color: var(--bg-color);\n",
              "    border: none;\n",
              "    border-radius: 50%;\n",
              "    cursor: pointer;\n",
              "    display: none;\n",
              "    fill: var(--fill-color);\n",
              "    height: 32px;\n",
              "    padding: 0;\n",
              "    width: 32px;\n",
              "  }\n",
              "\n",
              "  .colab-df-quickchart:hover {\n",
              "    background-color: var(--hover-bg-color);\n",
              "    box-shadow: 0 1px 2px rgba(60, 64, 67, 0.3), 0 1px 3px 1px rgba(60, 64, 67, 0.15);\n",
              "    fill: var(--button-hover-fill-color);\n",
              "  }\n",
              "\n",
              "  .colab-df-quickchart-complete:disabled,\n",
              "  .colab-df-quickchart-complete:disabled:hover {\n",
              "    background-color: var(--disabled-bg-color);\n",
              "    fill: var(--disabled-fill-color);\n",
              "    box-shadow: none;\n",
              "  }\n",
              "\n",
              "  .colab-df-spinner {\n",
              "    border: 2px solid var(--fill-color);\n",
              "    border-color: transparent;\n",
              "    border-bottom-color: var(--fill-color);\n",
              "    animation:\n",
              "      spin 1s steps(1) infinite;\n",
              "  }\n",
              "\n",
              "  @keyframes spin {\n",
              "    0% {\n",
              "      border-color: transparent;\n",
              "      border-bottom-color: var(--fill-color);\n",
              "      border-left-color: var(--fill-color);\n",
              "    }\n",
              "    20% {\n",
              "      border-color: transparent;\n",
              "      border-left-color: var(--fill-color);\n",
              "      border-top-color: var(--fill-color);\n",
              "    }\n",
              "    30% {\n",
              "      border-color: transparent;\n",
              "      border-left-color: var(--fill-color);\n",
              "      border-top-color: var(--fill-color);\n",
              "      border-right-color: var(--fill-color);\n",
              "    }\n",
              "    40% {\n",
              "      border-color: transparent;\n",
              "      border-right-color: var(--fill-color);\n",
              "      border-top-color: var(--fill-color);\n",
              "    }\n",
              "    60% {\n",
              "      border-color: transparent;\n",
              "      border-right-color: var(--fill-color);\n",
              "    }\n",
              "    80% {\n",
              "      border-color: transparent;\n",
              "      border-right-color: var(--fill-color);\n",
              "      border-bottom-color: var(--fill-color);\n",
              "    }\n",
              "    90% {\n",
              "      border-color: transparent;\n",
              "      border-bottom-color: var(--fill-color);\n",
              "    }\n",
              "  }\n",
              "</style>\n",
              "\n",
              "  <script>\n",
              "    async function quickchart(key) {\n",
              "      const quickchartButtonEl =\n",
              "        document.querySelector('#' + key + ' button');\n",
              "      quickchartButtonEl.disabled = true;  // To prevent multiple clicks.\n",
              "      quickchartButtonEl.classList.add('colab-df-spinner');\n",
              "      try {\n",
              "        const charts = await google.colab.kernel.invokeFunction(\n",
              "            'suggestCharts', [key], {});\n",
              "      } catch (error) {\n",
              "        console.error('Error during call to suggestCharts:', error);\n",
              "      }\n",
              "      quickchartButtonEl.classList.remove('colab-df-spinner');\n",
              "      quickchartButtonEl.classList.add('colab-df-quickchart-complete');\n",
              "    }\n",
              "    (() => {\n",
              "      let quickchartButtonEl =\n",
              "        document.querySelector('#df-12b90b53-a6a9-4dce-a710-fab7c926e34e button');\n",
              "      quickchartButtonEl.style.display =\n",
              "        google.colab.kernel.accessAllowed ? 'block' : 'none';\n",
              "    })();\n",
              "  </script>\n",
              "</div>\n",
              "    </div>\n",
              "  </div>\n"
            ]
          },
          "metadata": {},
          "execution_count": 69
        }
      ]
    },
    {
      "cell_type": "code",
      "source": [
        "from sklearn.linear_model import ElasticNetCV\n",
        "from sklearn.svm import SVR\n",
        "from sklearn.ensemble import RandomForestRegressor\n",
        "from xgboost import XGBRegressor\n",
        "from sklearn.linear_model import PoissonRegressor\n",
        "from sklearn.metrics import mean_absolute_error, r2_score\n",
        "\n",
        "# Initialize the models\n",
        "elastic_net_cv = ElasticNetCV(cv=5, random_state=42)\n",
        "poisson_regressor = PoissonRegressor()\n",
        "svr = SVR()\n",
        "random_forest_reg = RandomForestRegressor(n_estimators=100, random_state=42)\n",
        "xgb_reg = XGBRegressor(random_state=42)\n",
        "\n",
        "# Fit the models\n",
        "elastic_net_cv.fit(X_train, y_train)\n",
        "poisson_regressor.fit(X_train, y_train)\n",
        "svr.fit(X_train, y_train)\n",
        "random_forest_reg.fit(X_train, y_train)\n",
        "xgb_reg.fit(X_train, y_train)\n",
        "\n",
        "y_pred_elastic_net_cv = elastic_net_cv.predict(X_validation)\n",
        "y_pred_poisson_regressor = poisson_regressor.predict(X_validation)\n",
        "y_pred_svr = svr.predict(X_validation)\n",
        "y_pred_random_forest = random_forest_reg.predict(X_validation)\n",
        "y_pred_xgb = xgb_reg.predict(X_validation)\n",
        "\n",
        "# Predict y_validation\n",
        "y_pred_elastic_net_cv_rounded = np.rint(y_pred_elastic_net_cv)\n",
        "y_pred_poisson_regressor_rounded = np.rint(y_pred_poisson_regressor)\n",
        "y_pred_svr_rounded = np.rint(y_pred_svr)\n",
        "y_pred_random_forest_rounded = np.rint(y_pred_random_forest)\n",
        "y_pred_xgb_rounded = np.rint(y_pred_xgb)\n",
        "\n",
        "# Calculate MAE and R2 score using rounded predictions\n",
        "mae_elastic_net_cv = mean_absolute_error(y_validation, y_pred_elastic_net_cv_rounded)\n",
        "r2_elastic_net_cv = r2_score(y_validation, y_pred_elastic_net_cv_rounded)\n",
        "\n",
        "mae_poisson_regressor = mean_absolute_error(y_validation, y_pred_poisson_regressor_rounded)\n",
        "r2_poisson_regressor = r2_score(y_validation, y_pred_poisson_regressor_rounded)\n",
        "\n",
        "mae_svr = mean_absolute_error(y_validation, y_pred_svr_rounded)\n",
        "r2_svr = r2_score(y_validation, y_pred_svr_rounded)\n",
        "\n",
        "mae_random_forest = mean_absolute_error(y_validation, y_pred_random_forest_rounded)\n",
        "r2_random_forest = r2_score(y_validation, y_pred_random_forest_rounded)\n",
        "\n",
        "mae_xgb = mean_absolute_error(y_validation, y_pred_xgb_rounded)\n",
        "r2_xgb = r2_score(y_validation, y_pred_xgb_rounded)\n",
        "\n",
        "# Print out the performance with rounded predictions\n",
        "print(f'ElasticNetCV - MAE: {mae_elastic_net_cv}, R2 Score: {r2_elastic_net_cv}')\n",
        "print(f'Poisson Regressor - MAE: {mae_poisson_regressor}, R2 Score: {r2_poisson_regressor}')\n",
        "print(f'SVR - MAE: {mae_svr}, R2 Score: {r2_svr}')\n",
        "print(f'Random Forest Regressor - MAE: {mae_random_forest}, R2 Score: {r2_random_forest}')\n",
        "print(f'XGB Regressor - MAE: {mae_xgb}, R2 Score: {r2_xgb}')"
      ],
      "metadata": {
        "colab": {
          "base_uri": "https://localhost:8080/"
        },
        "id": "Ir_C52bp3D-4",
        "outputId": "c9c70d3e-4fae-4f21-bdcb-88f5b749ab6b"
      },
      "execution_count": null,
      "outputs": [
        {
          "output_type": "stream",
          "name": "stdout",
          "text": [
            "ElasticNetCV - MAE: 1.2795698924731183, R2 Score: 0.06975293145596662\n",
            "Poisson Regressor - MAE: 1.2661290322580645, R2 Score: 0.07609964634856725\n",
            "SVR - MAE: 1.346774193548387, R2 Score: -0.08891494085904883\n",
            "Random Forest Regressor - MAE: 1.228494623655914, R2 Score: 0.1395667952745735\n",
            "XGB Regressor - MAE: 1.303763440860215, R2 Score: 0.010819150310389491\n"
          ]
        }
      ]
    },
    {
      "cell_type": "code",
      "source": [
        "from sklearn.model_selection import GridSearchCV\n",
        "from sklearn.metrics import mean_absolute_error\n",
        "\n",
        "# Parameter grids\n",
        "param_grid_poisson = {\n",
        "    'alpha': [0.01, 0.1, 1, 10],\n",
        "    'max_iter': [100, 300, 500]\n",
        "}\n",
        "\n",
        "param_grid_random_forest = {\n",
        "    'n_estimators': [50, 100, 200],\n",
        "    'max_depth': [None, 10, 20, 30],\n",
        "    'min_samples_split': [2, 5, 10],\n",
        "    'min_samples_leaf': [1, 2, 4]\n",
        "}\n",
        "\n",
        "# GridSearchCV setup\n",
        "grid_search_poisson = GridSearchCV(poisson_regressor, param_grid_poisson, cv=5, scoring='neg_mean_absolute_error', verbose=1, n_jobs=-1)\n",
        "grid_search_random_forest = GridSearchCV(random_forest_reg, param_grid_random_forest, cv=5, scoring='neg_mean_absolute_error', verbose=1, n_jobs=-1)\n",
        "\n",
        "# Fitting models\n",
        "grid_search_poisson.fit(X_train, y_train)\n",
        "grid_search_random_forest.fit(X_train, y_train)\n",
        "\n",
        "# Best parameters and scores\n",
        "best_params_poisson = grid_search_poisson.best_params_\n",
        "best_score_poisson = grid_search_poisson.best_score_\n",
        "\n",
        "best_params_random_forest = grid_search_random_forest.best_params_\n",
        "best_score_random_forest = grid_search_random_forest.best_score_\n",
        "\n",
        "# Predict and calculate MAE\n",
        "y_pred_poisson = grid_search_poisson.best_estimator_.predict(X_validation)\n",
        "mae_poisson = mean_absolute_error(y_validation, y_pred_poisson)\n",
        "\n",
        "y_pred_random_forest = grid_search_random_forest.best_estimator_.predict(X_validation)\n",
        "mae_random_forest = mean_absolute_error(y_validation, y_pred_random_forest)\n",
        "\n",
        "# Results\n",
        "results = {\n",
        "    \"Poisson Regressor\": {\n",
        "        \"Best Parameters\": best_params_poisson,\n",
        "        \"Best Score (Negative MAE)\": best_score_poisson,\n",
        "        \"MAE on Validation\": mae_poisson\n",
        "    },\n",
        "    \"Random Forest Regressor\": {\n",
        "        \"Best Parameters\": best_params_random_forest,\n",
        "        \"Best Score (Negative MAE)\": best_score_random_forest,\n",
        "        \"MAE on Validation\": mae_random_forest\n",
        "    }\n",
        "}\n",
        "\n",
        "\n",
        "elastic_net_cv = ElasticNetCV(cv=5, random_state=42).fit(X_train, y_train)\n",
        "y_pred_elastic_net_cv = elastic_net_cv.predict(X_validation)\n",
        "mae_elastic_net_cv = mean_absolute_error(y_validation, y_pred_elastic_net_cv)\n",
        "\n",
        "results[\"ElasticNetCV\"] = {\n",
        "    \"Best Parameters\": elastic_net_cv.get_params(),\n",
        "    \"MAE on Validation\": mae_elastic_net_cv\n",
        "}\n",
        "\n",
        "# Print results\n",
        "for model, info in results.items():\n",
        "    print(f\"{model}:\")\n",
        "    for key, value in info.items():\n",
        "        print(f\"  {key}: {value}\")\n",
        "    print()"
      ],
      "metadata": {
        "colab": {
          "base_uri": "https://localhost:8080/"
        },
        "id": "rm6QMd8B3EBw",
        "outputId": "36c8886d-6eec-458b-c3bb-2e75ded9c293"
      },
      "execution_count": null,
      "outputs": [
        {
          "output_type": "stream",
          "name": "stdout",
          "text": [
            "Fitting 5 folds for each of 12 candidates, totalling 60 fits\n",
            "Fitting 5 folds for each of 108 candidates, totalling 540 fits\n",
            "Poisson Regressor:\n",
            "  Best Parameters: {'alpha': 0.01, 'max_iter': 500}\n",
            "  Best Score (Negative MAE): -1.1967427766571797\n",
            "  MAE on Validation: 1.2651641198849248\n",
            "\n",
            "Random Forest Regressor:\n",
            "  Best Parameters: {'max_depth': 10, 'min_samples_leaf': 2, 'min_samples_split': 5, 'n_estimators': 50}\n",
            "  Best Score (Negative MAE): -1.216321108304\n",
            "  MAE on Validation: 1.2474086003903386\n",
            "\n",
            "ElasticNetCV:\n",
            "  Best Parameters: {'alphas': None, 'copy_X': True, 'cv': 5, 'eps': 0.001, 'fit_intercept': True, 'l1_ratio': 0.5, 'max_iter': 1000, 'n_alphas': 100, 'n_jobs': None, 'positive': False, 'precompute': 'auto', 'random_state': 42, 'selection': 'cyclic', 'tol': 0.0001, 'verbose': 0}\n",
            "  MAE on Validation: 1.264681409800629\n",
            "\n"
          ]
        }
      ]
    },
    {
      "cell_type": "code",
      "source": [],
      "metadata": {
        "id": "bSmLLhd93EEv"
      },
      "execution_count": null,
      "outputs": []
    },
    {
      "cell_type": "code",
      "source": [
        "\n",
        "\n",
        "# Set the best parameters for PoissonRegressor\n",
        "best_params_poisson = {\n",
        "    'alpha': 0.01,\n",
        "    'max_iter': 500\n",
        "}\n",
        "\n",
        "# Initialize and fit the PoissonRegressor with the best parameters\n",
        "poisson_model = PoissonRegressor(**best_params_poisson)\n",
        "poisson_model.fit(X_train, y_train)\n",
        "\n",
        "# Make predictions on the test set\n",
        "y_pred_test_poisson = poisson_model.predict(X_test)\n",
        "\n",
        "# Round the predictions to the nearest integer and convert to int type\n",
        "y_pred_test_poisson_rounded = np.rint(y_pred_test_poisson).astype(int)\n",
        "\n",
        "\n"
      ],
      "metadata": {
        "id": "HcffISD-4qy5"
      },
      "execution_count": null,
      "outputs": []
    },
    {
      "cell_type": "code",
      "source": [
        "\n",
        "\n",
        "# Convert predictions to a DataFrame\n",
        "predictions_df_poisson = pd.DataFrame(y_pred_test_poisson_rounded, columns=['Predicted_Total_Goals'])\n",
        "\n",
        "# Save to CSV\n",
        "predictions_df_poisson.to_csv('spain_1.csv', index=False)\n"
      ],
      "metadata": {
        "id": "-clwKhN73EH6"
      },
      "execution_count": null,
      "outputs": []
    },
    {
      "cell_type": "code",
      "source": [],
      "metadata": {
        "id": "G__wcLxtBaXK"
      },
      "execution_count": null,
      "outputs": []
    },
    {
      "cell_type": "code",
      "source": [],
      "metadata": {
        "id": "5bpbrbDyBaan"
      },
      "execution_count": null,
      "outputs": []
    },
    {
      "cell_type": "code",
      "source": [],
      "metadata": {
        "id": "ARFr_SMMZXRc"
      },
      "execution_count": null,
      "outputs": []
    },
    {
      "cell_type": "code",
      "source": [
        "file_path_2 = '/content/drive/My Drive/test/spain/2/2223.csv'\n",
        "df2023_spn2 = pd.read_csv(file_path_2)"
      ],
      "metadata": {
        "id": "zwtha7iGZwsI"
      },
      "execution_count": null,
      "outputs": []
    },
    {
      "cell_type": "code",
      "source": [
        "df2023_spn2 = df2023_spn2[columns_test]"
      ],
      "metadata": {
        "id": "BntmP-81Zwuf"
      },
      "execution_count": null,
      "outputs": []
    },
    {
      "cell_type": "code",
      "source": [
        "df2023_spn2.info()"
      ],
      "metadata": {
        "colab": {
          "base_uri": "https://localhost:8080/"
        },
        "id": "8SadGvTPZwxl",
        "outputId": "6bbfbf40-35cf-4a5a-8453-958d210573a1"
      },
      "execution_count": null,
      "outputs": [
        {
          "output_type": "stream",
          "name": "stdout",
          "text": [
            "<class 'pandas.core.frame.DataFrame'>\n",
            "RangeIndex: 462 entries, 0 to 461\n",
            "Data columns (total 6 columns):\n",
            " #   Column    Non-Null Count  Dtype  \n",
            "---  ------    --------------  -----  \n",
            " 0   Date      462 non-null    object \n",
            " 1   HomeTeam  462 non-null    object \n",
            " 2   AwayTeam  462 non-null    object \n",
            " 3   B365H     459 non-null    float64\n",
            " 4   B365D     459 non-null    float64\n",
            " 5   B365A     459 non-null    float64\n",
            "dtypes: float64(3), object(3)\n",
            "memory usage: 21.8+ KB\n"
          ]
        }
      ]
    },
    {
      "cell_type": "code",
      "source": [
        "df2023_spn2 = impute_missing_values_knn(df2023_spn2)"
      ],
      "metadata": {
        "id": "9r9ykhnLZ3ZF"
      },
      "execution_count": null,
      "outputs": []
    },
    {
      "cell_type": "code",
      "source": [
        "df2023_spn2 = calculate_and_apply_overall_averages(season_dfs, df2023_spn2)"
      ],
      "metadata": {
        "id": "PPvA-tqXZ3b0"
      },
      "execution_count": null,
      "outputs": []
    },
    {
      "cell_type": "code",
      "source": [
        "df2023_spn2.info()"
      ],
      "metadata": {
        "colab": {
          "base_uri": "https://localhost:8080/"
        },
        "id": "JoRS_YHtZ3eU",
        "outputId": "d9dfa781-c1d9-40d6-e647-b4e8fa0b89a5"
      },
      "execution_count": null,
      "outputs": [
        {
          "output_type": "stream",
          "name": "stdout",
          "text": [
            "<class 'pandas.core.frame.DataFrame'>\n",
            "RangeIndex: 462 entries, 0 to 461\n",
            "Data columns (total 16 columns):\n",
            " #   Column                       Non-Null Count  Dtype  \n",
            "---  ------                       --------------  -----  \n",
            " 0   Date                         462 non-null    object \n",
            " 1   HomeTeam                     462 non-null    object \n",
            " 2   AwayTeam                     462 non-null    object \n",
            " 3   B365H                        462 non-null    float64\n",
            " 4   B365D                        462 non-null    float64\n",
            " 5   B365A                        462 non-null    float64\n",
            " 6   HomeTeam_WinRate             420 non-null    float64\n",
            " 7   AwayTeam_WinRate             420 non-null    float64\n",
            " 8   HomeTeam_GoalsAvg            420 non-null    float64\n",
            " 9   AwayTeam_GoalsAvg            420 non-null    float64\n",
            " 10  HomeTeam_goals_conceded_avg  420 non-null    float64\n",
            " 11  AwayTeam_goals_conceded_avg  420 non-null    float64\n",
            " 12  H_goal_ratio                 420 non-null    float64\n",
            " 13  A_goal_ratio                 420 non-null    float64\n",
            " 14  attack_strength_home_team    420 non-null    float64\n",
            " 15  attack_strength_away_team    420 non-null    float64\n",
            "dtypes: float64(13), object(3)\n",
            "memory usage: 57.9+ KB\n"
          ]
        }
      ]
    },
    {
      "cell_type": "code",
      "source": [
        "merged_df = spn2.copy()\n",
        "\n",
        "# Calculate head-to-head stats using merged data\n",
        "head_to_head_stats = calculate_head_to_head_stats(merged_df)\n",
        "\n",
        "# Apply the adjusted win-loss ratio to df2023\n",
        "df2023_spn2 = apply_adjusted_win_loss_ratio_to_2023(df2023_spn2, head_to_head_stats)"
      ],
      "metadata": {
        "id": "uuaiu3p9Z3gt"
      },
      "execution_count": null,
      "outputs": []
    },
    {
      "cell_type": "code",
      "source": [
        "\n",
        "def fill_missing_with_mean(df):\n",
        "    \"\"\"\n",
        "    Fill missing values in each column of the DataFrame with the mean of that column.\n",
        "\n",
        "    Parameters:\n",
        "    df (pd.DataFrame): The dataset with missing values.\n",
        "\n",
        "    Returns:\n",
        "    pd.DataFrame: The DataFrame with missing values filled.\n",
        "    \"\"\"\n",
        "    for column in df.columns:\n",
        "        if df[column].dtype in ['float64', 'int64']:\n",
        "          mean_value = round(df[column].mean(), 2)\n",
        "          df[column].fillna(mean_value, inplace=True)\n",
        "    return df"
      ],
      "metadata": {
        "id": "5e01xR-LZ3jZ"
      },
      "execution_count": null,
      "outputs": []
    },
    {
      "cell_type": "code",
      "source": [
        "df2023_spn2 = fill_missing_with_mean(df2023_spn2)"
      ],
      "metadata": {
        "id": "bI3sKslvZ3lk"
      },
      "execution_count": null,
      "outputs": []
    },
    {
      "cell_type": "code",
      "source": [
        "df2023_spn2 = process_time_data(df2023_spn2, 2023)"
      ],
      "metadata": {
        "id": "gXhiYkv6bGT7"
      },
      "execution_count": null,
      "outputs": []
    },
    {
      "cell_type": "code",
      "source": [
        "df2023_spn2 = add_probability_B365(df2023_spn2)"
      ],
      "metadata": {
        "id": "AU5bhtB3bGWm"
      },
      "execution_count": null,
      "outputs": []
    },
    {
      "cell_type": "code",
      "source": [
        "df2023_spn2.info()"
      ],
      "metadata": {
        "colab": {
          "base_uri": "https://localhost:8080/"
        },
        "id": "T7layEh9bGZU",
        "outputId": "904119b0-8fc4-4d80-8b7a-b8ba2d5c891b"
      },
      "execution_count": null,
      "outputs": [
        {
          "output_type": "stream",
          "name": "stdout",
          "text": [
            "<class 'pandas.core.frame.DataFrame'>\n",
            "RangeIndex: 462 entries, 0 to 461\n",
            "Data columns (total 21 columns):\n",
            " #   Column                       Non-Null Count  Dtype  \n",
            "---  ------                       --------------  -----  \n",
            " 0   HomeTeam                     462 non-null    object \n",
            " 1   AwayTeam                     462 non-null    object \n",
            " 2   B365H                        462 non-null    float64\n",
            " 3   B365D                        462 non-null    float64\n",
            " 4   B365A                        462 non-null    float64\n",
            " 5   HomeTeam_WinRate             462 non-null    float64\n",
            " 6   AwayTeam_WinRate             462 non-null    float64\n",
            " 7   HomeTeam_GoalsAvg            462 non-null    float64\n",
            " 8   AwayTeam_GoalsAvg            462 non-null    float64\n",
            " 9   HomeTeam_goals_conceded_avg  462 non-null    float64\n",
            " 10  AwayTeam_goals_conceded_avg  462 non-null    float64\n",
            " 11  H_goal_ratio                 462 non-null    float64\n",
            " 12  A_goal_ratio                 462 non-null    float64\n",
            " 13  attack_strength_home_team    462 non-null    float64\n",
            " 14  attack_strength_away_team    462 non-null    float64\n",
            " 15  adjusted_win_lost_ratio_H    462 non-null    float64\n",
            " 16  adjusted_win_lost_ratio_A    462 non-null    float64\n",
            " 17  Year                         462 non-null    int64  \n",
            " 18  Broker_prob_H                462 non-null    float64\n",
            " 19  Broker_prob_D                462 non-null    float64\n",
            " 20  Broker_prob_A                462 non-null    float64\n",
            "dtypes: float64(18), int64(1), object(2)\n",
            "memory usage: 75.9+ KB\n"
          ]
        }
      ]
    },
    {
      "cell_type": "code",
      "source": [],
      "metadata": {
        "id": "a40-Z63zGT5N"
      },
      "execution_count": null,
      "outputs": []
    },
    {
      "cell_type": "code",
      "source": [
        "train = spn2[spn2['Year'] < 2022]\n",
        "validation = spn2[spn2['Year'] == 2022]"
      ],
      "metadata": {
        "id": "v1EgNvZcGT7_"
      },
      "execution_count": null,
      "outputs": []
    },
    {
      "cell_type": "code",
      "source": [
        "X_train = train.drop(['FTR', 'total_goal'], axis=1)\n",
        "y_train = train['FTR']\n",
        "X_validation = validation.drop(['FTR', 'total_goal'], axis=1)\n",
        "y_validation = validation['FTR']"
      ],
      "metadata": {
        "id": "1HgxQNERGT-m"
      },
      "execution_count": null,
      "outputs": []
    },
    {
      "cell_type": "code",
      "source": [
        "X_test = df2023_spn2.copy()\n",
        "X_test = X_test[X_train.columns]"
      ],
      "metadata": {
        "id": "nMX-OpmFGUAd"
      },
      "execution_count": null,
      "outputs": []
    },
    {
      "cell_type": "code",
      "source": [
        "X_train.shape , y_train.shape, X_validation.shape, y_validation.shape, X_test.shape"
      ],
      "metadata": {
        "colab": {
          "base_uri": "https://localhost:8080/"
        },
        "id": "hsL_Mm0qGUCn",
        "outputId": "89bcba7a-e2f8-4c83-a470-2b9f531b341e"
      },
      "execution_count": null,
      "outputs": [
        {
          "output_type": "execute_result",
          "data": {
            "text/plain": [
              "((1810, 21), (1810,), (453, 21), (453,), (462, 21))"
            ]
          },
          "metadata": {},
          "execution_count": 106
        }
      ]
    },
    {
      "cell_type": "code",
      "source": [
        "y_train_enc = y_train.map({'H': 1, 'D': 0, 'A': 2})\n",
        "y_validation_enc = y_validation.map({'H': 1, 'D': 0, 'A': 2})"
      ],
      "metadata": {
        "id": "I8KA_KCgGUEs"
      },
      "execution_count": null,
      "outputs": []
    },
    {
      "cell_type": "code",
      "source": [
        "\n",
        "from sklearn.preprocessing import LabelEncoder\n",
        "# Update the set of all teams to include teams from X_test\n",
        "all_teams = set(X_train['HomeTeam'].unique()).union(set(X_train['AwayTeam'].unique()))\n",
        "all_teams = all_teams.union(set(X_validation['HomeTeam'].unique())).union(set(X_validation['AwayTeam'].unique()))\n",
        "all_teams = all_teams.union(set(X_test['HomeTeam'].unique())).union(set(X_test['AwayTeam'].unique()))\n",
        "\n",
        "# Convert the set to a list\n",
        "all_teams_list = list(all_teams)\n",
        "\n",
        "# Fit the LabelEncoder with the updated list of all teams\n",
        "encoder = LabelEncoder()\n",
        "encoder.fit(all_teams_list)\n",
        "\n",
        "# Transform 'HomeTeam' and 'AwayTeam' in all datasets\n",
        "X_train['HomeTeam'] = encoder.transform(X_train['HomeTeam'])\n",
        "X_train['AwayTeam'] = encoder.transform(X_train['AwayTeam'])\n",
        "X_validation['HomeTeam'] = encoder.transform(X_validation['HomeTeam'])\n",
        "X_validation['AwayTeam'] = encoder.transform(X_validation['AwayTeam'])\n",
        "X_test['HomeTeam'] = encoder.transform(X_test['HomeTeam'])\n",
        "X_test['AwayTeam'] = encoder.transform(X_test['AwayTeam'])"
      ],
      "metadata": {
        "id": "CkEToLBYGUGP"
      },
      "execution_count": null,
      "outputs": []
    },
    {
      "cell_type": "code",
      "source": [
        "from lazypredict.Supervised import LazyClassifier\n",
        "clf = LazyClassifier(verbose = 0, ignore_warnings = False, custom_metric = None)\n",
        "models,pred = clf.fit(X_train, X_validation, y_train_enc, y_validation_enc)"
      ],
      "metadata": {
        "colab": {
          "base_uri": "https://localhost:8080/"
        },
        "id": "l1gD8t-1GUH7",
        "outputId": "08169add-7921-44ef-d2f4-2444a45ce12f"
      },
      "execution_count": null,
      "outputs": [
        {
          "output_type": "stream",
          "name": "stderr",
          "text": [
            "  7%|▋         | 2/29 [00:00<00:04,  5.87it/s]"
          ]
        },
        {
          "output_type": "stream",
          "name": "stdout",
          "text": [
            "ROC AUC couldn't be calculated for AdaBoostClassifier\n",
            "multi_class must be in ('ovo', 'ovr')\n",
            "ROC AUC couldn't be calculated for BaggingClassifier\n",
            "multi_class must be in ('ovo', 'ovr')\n",
            "ROC AUC couldn't be calculated for BernoulliNB\n",
            "multi_class must be in ('ovo', 'ovr')\n"
          ]
        },
        {
          "output_type": "stream",
          "name": "stderr",
          "text": [
            "\r 14%|█▍        | 4/29 [00:01<00:14,  1.77it/s]"
          ]
        },
        {
          "output_type": "stream",
          "name": "stdout",
          "text": [
            "ROC AUC couldn't be calculated for CalibratedClassifierCV\n",
            "multi_class must be in ('ovo', 'ovr')\n",
            "CategoricalNB model failed to execute\n",
            "Negative values in data passed to CategoricalNB (input X)\n",
            "ROC AUC couldn't be calculated for DecisionTreeClassifier\n",
            "multi_class must be in ('ovo', 'ovr')\n",
            "ROC AUC couldn't be calculated for DummyClassifier\n",
            "multi_class must be in ('ovo', 'ovr')\n",
            "ROC AUC couldn't be calculated for ExtraTreeClassifier\n",
            "multi_class must be in ('ovo', 'ovr')\n"
          ]
        },
        {
          "output_type": "stream",
          "name": "stderr",
          "text": [
            "\r 31%|███       | 9/29 [00:02<00:04,  4.34it/s]"
          ]
        },
        {
          "output_type": "stream",
          "name": "stdout",
          "text": [
            "ROC AUC couldn't be calculated for ExtraTreesClassifier\n",
            "multi_class must be in ('ovo', 'ovr')\n",
            "ROC AUC couldn't be calculated for GaussianNB\n",
            "multi_class must be in ('ovo', 'ovr')\n"
          ]
        },
        {
          "output_type": "stream",
          "name": "stderr",
          "text": [
            "\r 38%|███▊      | 11/29 [00:02<00:03,  5.01it/s]"
          ]
        },
        {
          "output_type": "stream",
          "name": "stdout",
          "text": [
            "ROC AUC couldn't be calculated for KNeighborsClassifier\n",
            "multi_class must be in ('ovo', 'ovr')\n"
          ]
        },
        {
          "output_type": "stream",
          "name": "stderr",
          "text": [
            "\r 41%|████▏     | 12/29 [00:02<00:03,  4.97it/s]"
          ]
        },
        {
          "output_type": "stream",
          "name": "stdout",
          "text": [
            "ROC AUC couldn't be calculated for LabelPropagation\n",
            "multi_class must be in ('ovo', 'ovr')\n"
          ]
        },
        {
          "output_type": "stream",
          "name": "stderr",
          "text": [
            "\r 45%|████▍     | 13/29 [00:03<00:03,  4.76it/s]"
          ]
        },
        {
          "output_type": "stream",
          "name": "stdout",
          "text": [
            "ROC AUC couldn't be calculated for LabelSpreading\n",
            "multi_class must be in ('ovo', 'ovr')\n",
            "ROC AUC couldn't be calculated for LinearDiscriminantAnalysis\n",
            "multi_class must be in ('ovo', 'ovr')\n"
          ]
        },
        {
          "output_type": "stream",
          "name": "stderr",
          "text": [
            "\r 52%|█████▏    | 15/29 [00:03<00:03,  4.33it/s]"
          ]
        },
        {
          "output_type": "stream",
          "name": "stdout",
          "text": [
            "ROC AUC couldn't be calculated for LinearSVC\n",
            "multi_class must be in ('ovo', 'ovr')\n",
            "ROC AUC couldn't be calculated for LogisticRegression\n",
            "multi_class must be in ('ovo', 'ovr')\n",
            "ROC AUC couldn't be calculated for NearestCentroid\n",
            "multi_class must be in ('ovo', 'ovr')\n"
          ]
        },
        {
          "output_type": "stream",
          "name": "stderr",
          "text": [
            "\r 62%|██████▏   | 18/29 [00:03<00:01,  5.60it/s]"
          ]
        },
        {
          "output_type": "stream",
          "name": "stdout",
          "text": [
            "ROC AUC couldn't be calculated for NuSVC\n",
            "multi_class must be in ('ovo', 'ovr')\n",
            "ROC AUC couldn't be calculated for PassiveAggressiveClassifier\n",
            "multi_class must be in ('ovo', 'ovr')\n",
            "ROC AUC couldn't be calculated for Perceptron\n",
            "multi_class must be in ('ovo', 'ovr')\n",
            "ROC AUC couldn't be calculated for QuadraticDiscriminantAnalysis\n",
            "multi_class must be in ('ovo', 'ovr')\n"
          ]
        },
        {
          "output_type": "stream",
          "name": "stderr",
          "text": [
            " 86%|████████▌ | 25/29 [00:04<00:00,  8.29it/s]"
          ]
        },
        {
          "output_type": "stream",
          "name": "stdout",
          "text": [
            "ROC AUC couldn't be calculated for RandomForestClassifier\n",
            "multi_class must be in ('ovo', 'ovr')\n",
            "ROC AUC couldn't be calculated for RidgeClassifier\n",
            "multi_class must be in ('ovo', 'ovr')\n",
            "ROC AUC couldn't be calculated for RidgeClassifierCV\n",
            "multi_class must be in ('ovo', 'ovr')\n",
            "ROC AUC couldn't be calculated for SGDClassifier\n",
            "multi_class must be in ('ovo', 'ovr')\n"
          ]
        },
        {
          "output_type": "stream",
          "name": "stderr",
          "text": [
            "\r 93%|█████████▎| 27/29 [00:04<00:00,  8.56it/s]"
          ]
        },
        {
          "output_type": "stream",
          "name": "stdout",
          "text": [
            "ROC AUC couldn't be calculated for SVC\n",
            "multi_class must be in ('ovo', 'ovr')\n",
            "StackingClassifier model failed to execute\n",
            "StackingClassifier.__init__() missing 1 required positional argument: 'estimators'\n",
            "ROC AUC couldn't be calculated for XGBClassifier\n",
            "multi_class must be in ('ovo', 'ovr')\n",
            "[LightGBM] [Info] Auto-choosing col-wise multi-threading, the overhead of testing was 0.000315 seconds.\n",
            "You can set `force_col_wise=true` to remove the overhead.\n",
            "[LightGBM] [Info] Total Bins 753\n",
            "[LightGBM] [Info] Number of data points in the train set: 1810, number of used features: 21\n",
            "[LightGBM] [Info] Start training from score -1.173145\n",
            "[LightGBM] [Info] Start training from score -0.822740\n",
            "[LightGBM] [Info] Start training from score -1.380785\n"
          ]
        },
        {
          "output_type": "stream",
          "name": "stderr",
          "text": [
            "100%|██████████| 29/29 [00:06<00:00,  4.33it/s]"
          ]
        },
        {
          "output_type": "stream",
          "name": "stdout",
          "text": [
            "ROC AUC couldn't be calculated for LGBMClassifier\n",
            "multi_class must be in ('ovo', 'ovr')\n"
          ]
        },
        {
          "output_type": "stream",
          "name": "stderr",
          "text": [
            "\n"
          ]
        }
      ]
    },
    {
      "cell_type": "code",
      "source": [
        "models"
      ],
      "metadata": {
        "colab": {
          "base_uri": "https://localhost:8080/",
          "height": 927
        },
        "id": "vU5QpYVAGUJl",
        "outputId": "9fa9eaf1-c452-4d88-d150-7739ef472342"
      },
      "execution_count": null,
      "outputs": [
        {
          "output_type": "execute_result",
          "data": {
            "text/plain": [
              "                               Accuracy  Balanced Accuracy ROC AUC  F1 Score  \\\n",
              "Model                                                                          \n",
              "LinearDiscriminantAnalysis         0.69               0.68    None      0.69   \n",
              "LinearSVC                          0.69               0.66    None      0.66   \n",
              "LogisticRegression                 0.68               0.66    None      0.65   \n",
              "RidgeClassifier                    0.69               0.66    None      0.66   \n",
              "CalibratedClassifierCV             0.68               0.66    None      0.65   \n",
              "RidgeClassifierCV                  0.67               0.64    None      0.63   \n",
              "RandomForestClassifier             0.68               0.64    None      0.66   \n",
              "BaggingClassifier                  0.66               0.64    None      0.66   \n",
              "Perceptron                         0.66               0.64    None      0.65   \n",
              "SVC                                0.66               0.63    None      0.62   \n",
              "DecisionTreeClassifier             0.64               0.63    None      0.64   \n",
              "LGBMClassifier                     0.66               0.63    None      0.63   \n",
              "NuSVC                              0.66               0.63    None      0.63   \n",
              "ExtraTreesClassifier               0.67               0.63    None      0.65   \n",
              "GaussianNB                         0.64               0.63    None      0.63   \n",
              "XGBClassifier                      0.65               0.63    None      0.63   \n",
              "PassiveAggressiveClassifier        0.65               0.62    None      0.64   \n",
              "SGDClassifier                      0.66               0.62    None      0.61   \n",
              "ExtraTreeClassifier                0.62               0.61    None      0.62   \n",
              "NearestCentroid                    0.60               0.60    None      0.60   \n",
              "AdaBoostClassifier                 0.61               0.59    None      0.57   \n",
              "KNeighborsClassifier               0.59               0.57    None      0.59   \n",
              "LabelSpreading                     0.58               0.56    None      0.58   \n",
              "LabelPropagation                   0.58               0.56    None      0.58   \n",
              "BernoulliNB                        0.53               0.51    None      0.49   \n",
              "QuadraticDiscriminantAnalysis      0.47               0.46    None      0.48   \n",
              "DummyClassifier                    0.44               0.33    None      0.27   \n",
              "\n",
              "                               Time Taken  \n",
              "Model                                      \n",
              "LinearDiscriminantAnalysis           0.09  \n",
              "LinearSVC                            0.44  \n",
              "LogisticRegression                   0.07  \n",
              "RidgeClassifier                      0.02  \n",
              "CalibratedClassifierCV               1.58  \n",
              "RidgeClassifierCV                    0.03  \n",
              "RandomForestClassifier               0.46  \n",
              "BaggingClassifier                    0.14  \n",
              "Perceptron                           0.02  \n",
              "SVC                                  0.21  \n",
              "DecisionTreeClassifier               0.03  \n",
              "LGBMClassifier                       0.22  \n",
              "NuSVC                                0.24  \n",
              "ExtraTreesClassifier                 0.32  \n",
              "GaussianNB                           0.02  \n",
              "XGBClassifier                        1.68  \n",
              "PassiveAggressiveClassifier          0.03  \n",
              "SGDClassifier                        0.08  \n",
              "ExtraTreeClassifier                  0.02  \n",
              "NearestCentroid                      0.02  \n",
              "AdaBoostClassifier                   0.21  \n",
              "KNeighborsClassifier                 0.22  \n",
              "LabelSpreading                       0.24  \n",
              "LabelPropagation                     0.21  \n",
              "BernoulliNB                          0.02  \n",
              "QuadraticDiscriminantAnalysis        0.02  \n",
              "DummyClassifier                      0.01  "
            ],
            "text/html": [
              "\n",
              "  <div id=\"df-d11a6320-85c6-4d29-af2c-9c543712abb7\" class=\"colab-df-container\">\n",
              "    <div>\n",
              "<style scoped>\n",
              "    .dataframe tbody tr th:only-of-type {\n",
              "        vertical-align: middle;\n",
              "    }\n",
              "\n",
              "    .dataframe tbody tr th {\n",
              "        vertical-align: top;\n",
              "    }\n",
              "\n",
              "    .dataframe thead th {\n",
              "        text-align: right;\n",
              "    }\n",
              "</style>\n",
              "<table border=\"1\" class=\"dataframe\">\n",
              "  <thead>\n",
              "    <tr style=\"text-align: right;\">\n",
              "      <th></th>\n",
              "      <th>Accuracy</th>\n",
              "      <th>Balanced Accuracy</th>\n",
              "      <th>ROC AUC</th>\n",
              "      <th>F1 Score</th>\n",
              "      <th>Time Taken</th>\n",
              "    </tr>\n",
              "    <tr>\n",
              "      <th>Model</th>\n",
              "      <th></th>\n",
              "      <th></th>\n",
              "      <th></th>\n",
              "      <th></th>\n",
              "      <th></th>\n",
              "    </tr>\n",
              "  </thead>\n",
              "  <tbody>\n",
              "    <tr>\n",
              "      <th>LinearDiscriminantAnalysis</th>\n",
              "      <td>0.69</td>\n",
              "      <td>0.68</td>\n",
              "      <td>None</td>\n",
              "      <td>0.69</td>\n",
              "      <td>0.09</td>\n",
              "    </tr>\n",
              "    <tr>\n",
              "      <th>LinearSVC</th>\n",
              "      <td>0.69</td>\n",
              "      <td>0.66</td>\n",
              "      <td>None</td>\n",
              "      <td>0.66</td>\n",
              "      <td>0.44</td>\n",
              "    </tr>\n",
              "    <tr>\n",
              "      <th>LogisticRegression</th>\n",
              "      <td>0.68</td>\n",
              "      <td>0.66</td>\n",
              "      <td>None</td>\n",
              "      <td>0.65</td>\n",
              "      <td>0.07</td>\n",
              "    </tr>\n",
              "    <tr>\n",
              "      <th>RidgeClassifier</th>\n",
              "      <td>0.69</td>\n",
              "      <td>0.66</td>\n",
              "      <td>None</td>\n",
              "      <td>0.66</td>\n",
              "      <td>0.02</td>\n",
              "    </tr>\n",
              "    <tr>\n",
              "      <th>CalibratedClassifierCV</th>\n",
              "      <td>0.68</td>\n",
              "      <td>0.66</td>\n",
              "      <td>None</td>\n",
              "      <td>0.65</td>\n",
              "      <td>1.58</td>\n",
              "    </tr>\n",
              "    <tr>\n",
              "      <th>RidgeClassifierCV</th>\n",
              "      <td>0.67</td>\n",
              "      <td>0.64</td>\n",
              "      <td>None</td>\n",
              "      <td>0.63</td>\n",
              "      <td>0.03</td>\n",
              "    </tr>\n",
              "    <tr>\n",
              "      <th>RandomForestClassifier</th>\n",
              "      <td>0.68</td>\n",
              "      <td>0.64</td>\n",
              "      <td>None</td>\n",
              "      <td>0.66</td>\n",
              "      <td>0.46</td>\n",
              "    </tr>\n",
              "    <tr>\n",
              "      <th>BaggingClassifier</th>\n",
              "      <td>0.66</td>\n",
              "      <td>0.64</td>\n",
              "      <td>None</td>\n",
              "      <td>0.66</td>\n",
              "      <td>0.14</td>\n",
              "    </tr>\n",
              "    <tr>\n",
              "      <th>Perceptron</th>\n",
              "      <td>0.66</td>\n",
              "      <td>0.64</td>\n",
              "      <td>None</td>\n",
              "      <td>0.65</td>\n",
              "      <td>0.02</td>\n",
              "    </tr>\n",
              "    <tr>\n",
              "      <th>SVC</th>\n",
              "      <td>0.66</td>\n",
              "      <td>0.63</td>\n",
              "      <td>None</td>\n",
              "      <td>0.62</td>\n",
              "      <td>0.21</td>\n",
              "    </tr>\n",
              "    <tr>\n",
              "      <th>DecisionTreeClassifier</th>\n",
              "      <td>0.64</td>\n",
              "      <td>0.63</td>\n",
              "      <td>None</td>\n",
              "      <td>0.64</td>\n",
              "      <td>0.03</td>\n",
              "    </tr>\n",
              "    <tr>\n",
              "      <th>LGBMClassifier</th>\n",
              "      <td>0.66</td>\n",
              "      <td>0.63</td>\n",
              "      <td>None</td>\n",
              "      <td>0.63</td>\n",
              "      <td>0.22</td>\n",
              "    </tr>\n",
              "    <tr>\n",
              "      <th>NuSVC</th>\n",
              "      <td>0.66</td>\n",
              "      <td>0.63</td>\n",
              "      <td>None</td>\n",
              "      <td>0.63</td>\n",
              "      <td>0.24</td>\n",
              "    </tr>\n",
              "    <tr>\n",
              "      <th>ExtraTreesClassifier</th>\n",
              "      <td>0.67</td>\n",
              "      <td>0.63</td>\n",
              "      <td>None</td>\n",
              "      <td>0.65</td>\n",
              "      <td>0.32</td>\n",
              "    </tr>\n",
              "    <tr>\n",
              "      <th>GaussianNB</th>\n",
              "      <td>0.64</td>\n",
              "      <td>0.63</td>\n",
              "      <td>None</td>\n",
              "      <td>0.63</td>\n",
              "      <td>0.02</td>\n",
              "    </tr>\n",
              "    <tr>\n",
              "      <th>XGBClassifier</th>\n",
              "      <td>0.65</td>\n",
              "      <td>0.63</td>\n",
              "      <td>None</td>\n",
              "      <td>0.63</td>\n",
              "      <td>1.68</td>\n",
              "    </tr>\n",
              "    <tr>\n",
              "      <th>PassiveAggressiveClassifier</th>\n",
              "      <td>0.65</td>\n",
              "      <td>0.62</td>\n",
              "      <td>None</td>\n",
              "      <td>0.64</td>\n",
              "      <td>0.03</td>\n",
              "    </tr>\n",
              "    <tr>\n",
              "      <th>SGDClassifier</th>\n",
              "      <td>0.66</td>\n",
              "      <td>0.62</td>\n",
              "      <td>None</td>\n",
              "      <td>0.61</td>\n",
              "      <td>0.08</td>\n",
              "    </tr>\n",
              "    <tr>\n",
              "      <th>ExtraTreeClassifier</th>\n",
              "      <td>0.62</td>\n",
              "      <td>0.61</td>\n",
              "      <td>None</td>\n",
              "      <td>0.62</td>\n",
              "      <td>0.02</td>\n",
              "    </tr>\n",
              "    <tr>\n",
              "      <th>NearestCentroid</th>\n",
              "      <td>0.60</td>\n",
              "      <td>0.60</td>\n",
              "      <td>None</td>\n",
              "      <td>0.60</td>\n",
              "      <td>0.02</td>\n",
              "    </tr>\n",
              "    <tr>\n",
              "      <th>AdaBoostClassifier</th>\n",
              "      <td>0.61</td>\n",
              "      <td>0.59</td>\n",
              "      <td>None</td>\n",
              "      <td>0.57</td>\n",
              "      <td>0.21</td>\n",
              "    </tr>\n",
              "    <tr>\n",
              "      <th>KNeighborsClassifier</th>\n",
              "      <td>0.59</td>\n",
              "      <td>0.57</td>\n",
              "      <td>None</td>\n",
              "      <td>0.59</td>\n",
              "      <td>0.22</td>\n",
              "    </tr>\n",
              "    <tr>\n",
              "      <th>LabelSpreading</th>\n",
              "      <td>0.58</td>\n",
              "      <td>0.56</td>\n",
              "      <td>None</td>\n",
              "      <td>0.58</td>\n",
              "      <td>0.24</td>\n",
              "    </tr>\n",
              "    <tr>\n",
              "      <th>LabelPropagation</th>\n",
              "      <td>0.58</td>\n",
              "      <td>0.56</td>\n",
              "      <td>None</td>\n",
              "      <td>0.58</td>\n",
              "      <td>0.21</td>\n",
              "    </tr>\n",
              "    <tr>\n",
              "      <th>BernoulliNB</th>\n",
              "      <td>0.53</td>\n",
              "      <td>0.51</td>\n",
              "      <td>None</td>\n",
              "      <td>0.49</td>\n",
              "      <td>0.02</td>\n",
              "    </tr>\n",
              "    <tr>\n",
              "      <th>QuadraticDiscriminantAnalysis</th>\n",
              "      <td>0.47</td>\n",
              "      <td>0.46</td>\n",
              "      <td>None</td>\n",
              "      <td>0.48</td>\n",
              "      <td>0.02</td>\n",
              "    </tr>\n",
              "    <tr>\n",
              "      <th>DummyClassifier</th>\n",
              "      <td>0.44</td>\n",
              "      <td>0.33</td>\n",
              "      <td>None</td>\n",
              "      <td>0.27</td>\n",
              "      <td>0.01</td>\n",
              "    </tr>\n",
              "  </tbody>\n",
              "</table>\n",
              "</div>\n",
              "    <div class=\"colab-df-buttons\">\n",
              "\n",
              "  <div class=\"colab-df-container\">\n",
              "    <button class=\"colab-df-convert\" onclick=\"convertToInteractive('df-d11a6320-85c6-4d29-af2c-9c543712abb7')\"\n",
              "            title=\"Convert this dataframe to an interactive table.\"\n",
              "            style=\"display:none;\">\n",
              "\n",
              "  <svg xmlns=\"http://www.w3.org/2000/svg\" height=\"24px\" viewBox=\"0 -960 960 960\">\n",
              "    <path d=\"M120-120v-720h720v720H120Zm60-500h600v-160H180v160Zm220 220h160v-160H400v160Zm0 220h160v-160H400v160ZM180-400h160v-160H180v160Zm440 0h160v-160H620v160ZM180-180h160v-160H180v160Zm440 0h160v-160H620v160Z\"/>\n",
              "  </svg>\n",
              "    </button>\n",
              "\n",
              "  <style>\n",
              "    .colab-df-container {\n",
              "      display:flex;\n",
              "      gap: 12px;\n",
              "    }\n",
              "\n",
              "    .colab-df-convert {\n",
              "      background-color: #E8F0FE;\n",
              "      border: none;\n",
              "      border-radius: 50%;\n",
              "      cursor: pointer;\n",
              "      display: none;\n",
              "      fill: #1967D2;\n",
              "      height: 32px;\n",
              "      padding: 0 0 0 0;\n",
              "      width: 32px;\n",
              "    }\n",
              "\n",
              "    .colab-df-convert:hover {\n",
              "      background-color: #E2EBFA;\n",
              "      box-shadow: 0px 1px 2px rgba(60, 64, 67, 0.3), 0px 1px 3px 1px rgba(60, 64, 67, 0.15);\n",
              "      fill: #174EA6;\n",
              "    }\n",
              "\n",
              "    .colab-df-buttons div {\n",
              "      margin-bottom: 4px;\n",
              "    }\n",
              "\n",
              "    [theme=dark] .colab-df-convert {\n",
              "      background-color: #3B4455;\n",
              "      fill: #D2E3FC;\n",
              "    }\n",
              "\n",
              "    [theme=dark] .colab-df-convert:hover {\n",
              "      background-color: #434B5C;\n",
              "      box-shadow: 0px 1px 3px 1px rgba(0, 0, 0, 0.15);\n",
              "      filter: drop-shadow(0px 1px 2px rgba(0, 0, 0, 0.3));\n",
              "      fill: #FFFFFF;\n",
              "    }\n",
              "  </style>\n",
              "\n",
              "    <script>\n",
              "      const buttonEl =\n",
              "        document.querySelector('#df-d11a6320-85c6-4d29-af2c-9c543712abb7 button.colab-df-convert');\n",
              "      buttonEl.style.display =\n",
              "        google.colab.kernel.accessAllowed ? 'block' : 'none';\n",
              "\n",
              "      async function convertToInteractive(key) {\n",
              "        const element = document.querySelector('#df-d11a6320-85c6-4d29-af2c-9c543712abb7');\n",
              "        const dataTable =\n",
              "          await google.colab.kernel.invokeFunction('convertToInteractive',\n",
              "                                                    [key], {});\n",
              "        if (!dataTable) return;\n",
              "\n",
              "        const docLinkHtml = 'Like what you see? Visit the ' +\n",
              "          '<a target=\"_blank\" href=https://colab.research.google.com/notebooks/data_table.ipynb>data table notebook</a>'\n",
              "          + ' to learn more about interactive tables.';\n",
              "        element.innerHTML = '';\n",
              "        dataTable['output_type'] = 'display_data';\n",
              "        await google.colab.output.renderOutput(dataTable, element);\n",
              "        const docLink = document.createElement('div');\n",
              "        docLink.innerHTML = docLinkHtml;\n",
              "        element.appendChild(docLink);\n",
              "      }\n",
              "    </script>\n",
              "  </div>\n",
              "\n",
              "\n",
              "<div id=\"df-d77884e1-4107-4a8e-92a4-fbd9f923091e\">\n",
              "  <button class=\"colab-df-quickchart\" onclick=\"quickchart('df-d77884e1-4107-4a8e-92a4-fbd9f923091e')\"\n",
              "            title=\"Suggest charts\"\n",
              "            style=\"display:none;\">\n",
              "\n",
              "<svg xmlns=\"http://www.w3.org/2000/svg\" height=\"24px\"viewBox=\"0 0 24 24\"\n",
              "     width=\"24px\">\n",
              "    <g>\n",
              "        <path d=\"M19 3H5c-1.1 0-2 .9-2 2v14c0 1.1.9 2 2 2h14c1.1 0 2-.9 2-2V5c0-1.1-.9-2-2-2zM9 17H7v-7h2v7zm4 0h-2V7h2v10zm4 0h-2v-4h2v4z\"/>\n",
              "    </g>\n",
              "</svg>\n",
              "  </button>\n",
              "\n",
              "<style>\n",
              "  .colab-df-quickchart {\n",
              "      --bg-color: #E8F0FE;\n",
              "      --fill-color: #1967D2;\n",
              "      --hover-bg-color: #E2EBFA;\n",
              "      --hover-fill-color: #174EA6;\n",
              "      --disabled-fill-color: #AAA;\n",
              "      --disabled-bg-color: #DDD;\n",
              "  }\n",
              "\n",
              "  [theme=dark] .colab-df-quickchart {\n",
              "      --bg-color: #3B4455;\n",
              "      --fill-color: #D2E3FC;\n",
              "      --hover-bg-color: #434B5C;\n",
              "      --hover-fill-color: #FFFFFF;\n",
              "      --disabled-bg-color: #3B4455;\n",
              "      --disabled-fill-color: #666;\n",
              "  }\n",
              "\n",
              "  .colab-df-quickchart {\n",
              "    background-color: var(--bg-color);\n",
              "    border: none;\n",
              "    border-radius: 50%;\n",
              "    cursor: pointer;\n",
              "    display: none;\n",
              "    fill: var(--fill-color);\n",
              "    height: 32px;\n",
              "    padding: 0;\n",
              "    width: 32px;\n",
              "  }\n",
              "\n",
              "  .colab-df-quickchart:hover {\n",
              "    background-color: var(--hover-bg-color);\n",
              "    box-shadow: 0 1px 2px rgba(60, 64, 67, 0.3), 0 1px 3px 1px rgba(60, 64, 67, 0.15);\n",
              "    fill: var(--button-hover-fill-color);\n",
              "  }\n",
              "\n",
              "  .colab-df-quickchart-complete:disabled,\n",
              "  .colab-df-quickchart-complete:disabled:hover {\n",
              "    background-color: var(--disabled-bg-color);\n",
              "    fill: var(--disabled-fill-color);\n",
              "    box-shadow: none;\n",
              "  }\n",
              "\n",
              "  .colab-df-spinner {\n",
              "    border: 2px solid var(--fill-color);\n",
              "    border-color: transparent;\n",
              "    border-bottom-color: var(--fill-color);\n",
              "    animation:\n",
              "      spin 1s steps(1) infinite;\n",
              "  }\n",
              "\n",
              "  @keyframes spin {\n",
              "    0% {\n",
              "      border-color: transparent;\n",
              "      border-bottom-color: var(--fill-color);\n",
              "      border-left-color: var(--fill-color);\n",
              "    }\n",
              "    20% {\n",
              "      border-color: transparent;\n",
              "      border-left-color: var(--fill-color);\n",
              "      border-top-color: var(--fill-color);\n",
              "    }\n",
              "    30% {\n",
              "      border-color: transparent;\n",
              "      border-left-color: var(--fill-color);\n",
              "      border-top-color: var(--fill-color);\n",
              "      border-right-color: var(--fill-color);\n",
              "    }\n",
              "    40% {\n",
              "      border-color: transparent;\n",
              "      border-right-color: var(--fill-color);\n",
              "      border-top-color: var(--fill-color);\n",
              "    }\n",
              "    60% {\n",
              "      border-color: transparent;\n",
              "      border-right-color: var(--fill-color);\n",
              "    }\n",
              "    80% {\n",
              "      border-color: transparent;\n",
              "      border-right-color: var(--fill-color);\n",
              "      border-bottom-color: var(--fill-color);\n",
              "    }\n",
              "    90% {\n",
              "      border-color: transparent;\n",
              "      border-bottom-color: var(--fill-color);\n",
              "    }\n",
              "  }\n",
              "</style>\n",
              "\n",
              "  <script>\n",
              "    async function quickchart(key) {\n",
              "      const quickchartButtonEl =\n",
              "        document.querySelector('#' + key + ' button');\n",
              "      quickchartButtonEl.disabled = true;  // To prevent multiple clicks.\n",
              "      quickchartButtonEl.classList.add('colab-df-spinner');\n",
              "      try {\n",
              "        const charts = await google.colab.kernel.invokeFunction(\n",
              "            'suggestCharts', [key], {});\n",
              "      } catch (error) {\n",
              "        console.error('Error during call to suggestCharts:', error);\n",
              "      }\n",
              "      quickchartButtonEl.classList.remove('colab-df-spinner');\n",
              "      quickchartButtonEl.classList.add('colab-df-quickchart-complete');\n",
              "    }\n",
              "    (() => {\n",
              "      let quickchartButtonEl =\n",
              "        document.querySelector('#df-d77884e1-4107-4a8e-92a4-fbd9f923091e button');\n",
              "      quickchartButtonEl.style.display =\n",
              "        google.colab.kernel.accessAllowed ? 'block' : 'none';\n",
              "    })();\n",
              "  </script>\n",
              "</div>\n",
              "    </div>\n",
              "  </div>\n"
            ]
          },
          "metadata": {},
          "execution_count": 110
        }
      ]
    },
    {
      "cell_type": "code",
      "source": [
        "from sklearn.ensemble import BaggingClassifier, RandomForestClassifier, ExtraTreesClassifier\n",
        "from sklearn.metrics import accuracy_score, f1_score\n",
        "from sklearn.tree import DecisionTreeClassifier\n",
        "from xgboost import XGBClassifier\n",
        "\n",
        "# Initialize the models\n",
        "bagging_clf = BaggingClassifier(n_estimators=100, random_state=42)\n",
        "extra_trees_clf = ExtraTreesClassifier(n_estimators=100, random_state=42)\n",
        "random_forest_clf = RandomForestClassifier(n_estimators=100, random_state=42)\n",
        "decision_tree_clf = DecisionTreeClassifier(random_state=42)\n",
        "xgb_clf = XGBClassifier(random_state=42)  # Default parameters, adjust as necessary\n",
        "\n",
        "# Fit the models\n",
        "bagging_clf.fit(X_train, y_train_enc)\n",
        "extra_trees_clf.fit(X_train, y_train_enc)\n",
        "random_forest_clf.fit(X_train, y_train_enc)\n",
        "decision_tree_clf.fit(X_train, y_train_enc)\n",
        "xgb_clf.fit(X_train, y_train_enc)\n",
        "\n",
        "# Predict y_validation\n",
        "y_pred_bagging = bagging_clf.predict(X_validation)\n",
        "y_pred_extra_trees = extra_trees_clf.predict(X_validation)\n",
        "y_pred_random_forest = random_forest_clf.predict(X_validation)\n",
        "y_pred_decision_tree = decision_tree_clf.predict(X_validation)\n",
        "y_pred_xgb = xgb_clf.predict(X_validation)\n",
        "\n",
        "# Calculate accuracy and F1 score for each model\n",
        "accuracy_bagging = accuracy_score(y_validation_enc, y_pred_bagging)\n",
        "f1_bagging = f1_score(y_validation_enc, y_pred_bagging, average='macro')\n",
        "\n",
        "accuracy_extra_trees = accuracy_score(y_validation_enc, y_pred_extra_trees)\n",
        "f1_extra_trees = f1_score(y_validation_enc, y_pred_extra_trees, average='macro')\n",
        "\n",
        "accuracy_random_forest = accuracy_score(y_validation_enc, y_pred_random_forest)\n",
        "f1_random_forest = f1_score(y_validation_enc, y_pred_random_forest, average='macro')\n",
        "\n",
        "accuracy_decision_tree = accuracy_score(y_validation_enc, y_pred_decision_tree)\n",
        "f1_decision_tree = f1_score(y_validation_enc, y_pred_decision_tree, average='macro')\n",
        "\n",
        "accuracy_xgb = accuracy_score(y_validation_enc, y_pred_xgb)\n",
        "f1_xgb = f1_score(y_validation_enc, y_pred_xgb, average='macro')\n",
        "\n",
        "# Print out the performance\n",
        "print(f'Bagging Classifier - Accuracy: {accuracy_bagging}, F1 Score: {f1_bagging}')\n",
        "print(f'Extra Trees Classifier - Accuracy: {accuracy_extra_trees}, F1 Score: {f1_extra_trees}')\n",
        "print(f'Random Forest Classifier - Accuracy: {accuracy_random_forest}, F1 Score: {f1_random_forest}')\n",
        "print(f'Decision Tree Classifier - Accuracy: {accuracy_decision_tree}, F1 Score: {f1_decision_tree}')\n",
        "print(f'XGB Classifier - Accuracy: {accuracy_xgb}, F1 Score: {f1_xgb}')"
      ],
      "metadata": {
        "colab": {
          "base_uri": "https://localhost:8080/"
        },
        "id": "tuYZUsgZGULB",
        "outputId": "bc074837-e53b-4d33-c985-fb7e2f1daa44"
      },
      "execution_count": null,
      "outputs": [
        {
          "output_type": "stream",
          "name": "stdout",
          "text": [
            "Bagging Classifier - Accuracy: 0.6534216335540839, F1 Score: 0.6095258984533376\n",
            "Extra Trees Classifier - Accuracy: 0.6710816777041942, F1 Score: 0.6268114397210746\n",
            "Random Forest Classifier - Accuracy: 0.6754966887417219, F1 Score: 0.6340491112230243\n",
            "Decision Tree Classifier - Accuracy: 0.6379690949227373, F1 Score: 0.6256919620072238\n",
            "XGB Classifier - Accuracy: 0.6534216335540839, F1 Score: 0.6166563664326027\n"
          ]
        }
      ]
    },
    {
      "cell_type": "code",
      "source": [
        "from sklearn.model_selection import GridSearchCV\n",
        "\n",
        "param_grid_xgb = {\n",
        "    'n_estimators': [50, 100, 200],\n",
        "    'max_depth': [3, 6, 10],\n",
        "    'learning_rate': [0.01, 0.1, 0.2],\n",
        "    'subsample': [0.5, 0.7, 1],\n",
        "    'colsample_bytree': [0.5, 0.7, 1]\n",
        "}\n",
        "\n",
        "param_grid_random_forest = {\n",
        "    'n_estimators': [50, 100, 200],\n",
        "    'max_depth': [None, 10, 20, 30],\n",
        "    'min_samples_split': [2, 5, 10],\n",
        "    'min_samples_leaf': [1, 2, 4]\n",
        "}\n",
        "\n",
        "param_grid_extra_trees = {\n",
        "    'n_estimators': [50, 100, 200],\n",
        "    'max_depth': [None, 10, 20, 30],\n",
        "    'min_samples_split': [2, 5, 10],\n",
        "    'min_samples_leaf': [1, 2, 4]\n",
        "}\n",
        "\n",
        "\n",
        "\n",
        "grid_search_xgb = GridSearchCV(xgb_clf, param_grid_xgb, cv=5, scoring='f1_macro', verbose=1, n_jobs=-1)\n",
        "grid_search_random_forest = GridSearchCV(random_forest_clf, param_grid_random_forest, cv=5, scoring='f1_macro', verbose=1, n_jobs=-1)\n",
        "grid_search_extra_trees = GridSearchCV(extra_trees_clf, param_grid_extra_trees, cv=5, scoring='f1_macro', verbose=1, n_jobs=-1)\n",
        "\n",
        "grid_search_xgb.fit(X_train, y_train_enc)\n",
        "grid_search_random_forest.fit(X_train, y_train_enc)\n",
        "grid_search_extra_trees.fit(X_train, y_train_enc)\n",
        "\n",
        "best_params_xgb = grid_search_xgb.best_params_\n",
        "best_score_xgb = grid_search_xgb.best_score_\n",
        "\n",
        "best_params_random_forest = grid_search_random_forest.best_params_\n",
        "best_score_random_forest = grid_search_random_forest.best_score_\n",
        "\n",
        "best_params_extra_trees = grid_search_extra_trees.best_params_\n",
        "best_score_extra_trees = grid_search_extra_trees.best_score_\n",
        "\n",
        "\n",
        "y_pred_xgb = grid_search_xgb.best_estimator_.predict(X_validation)\n",
        "f1_score_xgb = f1_score(y_validation_enc, y_pred_xgb, average='macro')\n",
        "\n",
        "y_pred_random_forest = grid_search_random_forest.best_estimator_.predict(X_validation)\n",
        "f1_score_random_forest = f1_score(y_validation_enc, y_pred_random_forest, average='macro')\n",
        "\n",
        "y_pred_extra_trees = grid_search_extra_trees.best_estimator_.predict(X_validation)\n",
        "f1_score_extra_trees = f1_score(y_validation_enc, y_pred_extra_trees, average='macro')\n",
        "\n",
        "\n",
        "results = {\n",
        "    \"XGB Classifier\": {\n",
        "        \"Best Parameters\": best_params_xgb,\n",
        "        \"Best Score\": best_score_xgb,\n",
        "        \"F1 Score on Validation\": f1_score_xgb\n",
        "    },\n",
        "    \"Random Forest Classifier\": {\n",
        "        \"Best Parameters\": best_params_random_forest,\n",
        "        \"Best Score\": best_score_random_forest,\n",
        "        \"F1 Score on Validation\": f1_score_random_forest\n",
        "    },\n",
        "    \"Extra Trees Classifier\": {\n",
        "        \"Best Parameters\": best_params_extra_trees,\n",
        "        \"Best Score\": best_score_extra_trees,\n",
        "        \"F1 Score on Validation\": f1_score_extra_trees\n",
        "    }\n",
        "}\n",
        "\n",
        "\n",
        "\n"
      ],
      "metadata": {
        "colab": {
          "base_uri": "https://localhost:8080/"
        },
        "id": "wlvUcHugGUNE",
        "outputId": "1198821c-595b-4a8c-d3d9-7d7e9644b1ea"
      },
      "execution_count": null,
      "outputs": [
        {
          "output_type": "stream",
          "name": "stdout",
          "text": [
            "Fitting 5 folds for each of 243 candidates, totalling 1215 fits\n",
            "Fitting 5 folds for each of 108 candidates, totalling 540 fits\n",
            "Fitting 5 folds for each of 108 candidates, totalling 540 fits\n"
          ]
        }
      ]
    },
    {
      "cell_type": "code",
      "source": [
        "results"
      ],
      "metadata": {
        "colab": {
          "base_uri": "https://localhost:8080/"
        },
        "id": "K1GF9YTNGUO0",
        "outputId": "3bf7d222-51ec-47fa-99a0-2197b4e614b4"
      },
      "execution_count": null,
      "outputs": [
        {
          "output_type": "execute_result",
          "data": {
            "text/plain": [
              "{'XGB Classifier': {'Best Parameters': {'colsample_bytree': 0.5,\n",
              "   'learning_rate': 0.1,\n",
              "   'max_depth': 3,\n",
              "   'n_estimators': 100,\n",
              "   'subsample': 0.5},\n",
              "  'Best Score': 0.6763730021425417,\n",
              "  'F1 Score on Validation': 0.6349898276893151},\n",
              " 'Random Forest Classifier': {'Best Parameters': {'max_depth': 10,\n",
              "   'min_samples_leaf': 1,\n",
              "   'min_samples_split': 10,\n",
              "   'n_estimators': 50},\n",
              "  'Best Score': 0.6611250452228863,\n",
              "  'F1 Score on Validation': 0.6290708883441837},\n",
              " 'Extra Trees Classifier': {'Best Parameters': {'max_depth': 10,\n",
              "   'min_samples_leaf': 1,\n",
              "   'min_samples_split': 2,\n",
              "   'n_estimators': 50},\n",
              "  'Best Score': 0.6645691434303042,\n",
              "  'F1 Score on Validation': 0.6368114861057509}}"
            ]
          },
          "metadata": {},
          "execution_count": 113
        }
      ]
    },
    {
      "cell_type": "code",
      "source": [
        "# Initialize the XGBClassifier with the best hyperparameters\n",
        "optimal_xgb_clf = XGBClassifier(\n",
        "    colsample_bytree=0.5,\n",
        "    learning_rate=0.1,\n",
        "    max_depth=3,\n",
        "    n_estimators=100,\n",
        "    subsample=0.5,\n",
        "    random_state=42  # Optional for reproducibility\n",
        ")"
      ],
      "metadata": {
        "id": "McERpjb7GUQX"
      },
      "execution_count": null,
      "outputs": []
    },
    {
      "cell_type": "code",
      "source": [
        "optimal_xgb_clf.fit(X_train, y_train_enc)"
      ],
      "metadata": {
        "colab": {
          "base_uri": "https://localhost:8080/",
          "height": 248
        },
        "id": "pR56Nc3TOsoo",
        "outputId": "9439bda7-3f9d-40e4-e79f-c5a08b268627"
      },
      "execution_count": null,
      "outputs": [
        {
          "output_type": "execute_result",
          "data": {
            "text/plain": [
              "XGBClassifier(base_score=None, booster=None, callbacks=None,\n",
              "              colsample_bylevel=None, colsample_bynode=None,\n",
              "              colsample_bytree=0.5, device=None, early_stopping_rounds=None,\n",
              "              enable_categorical=False, eval_metric=None, feature_types=None,\n",
              "              gamma=None, grow_policy=None, importance_type=None,\n",
              "              interaction_constraints=None, learning_rate=0.1, max_bin=None,\n",
              "              max_cat_threshold=None, max_cat_to_onehot=None,\n",
              "              max_delta_step=None, max_depth=3, max_leaves=None,\n",
              "              min_child_weight=None, missing=nan, monotone_constraints=None,\n",
              "              multi_strategy=None, n_estimators=100, n_jobs=None,\n",
              "              num_parallel_tree=None, objective='multi:softprob', ...)"
            ],
            "text/html": [
              "<style>#sk-container-id-2 {color: black;background-color: white;}#sk-container-id-2 pre{padding: 0;}#sk-container-id-2 div.sk-toggleable {background-color: white;}#sk-container-id-2 label.sk-toggleable__label {cursor: pointer;display: block;width: 100%;margin-bottom: 0;padding: 0.3em;box-sizing: border-box;text-align: center;}#sk-container-id-2 label.sk-toggleable__label-arrow:before {content: \"▸\";float: left;margin-right: 0.25em;color: #696969;}#sk-container-id-2 label.sk-toggleable__label-arrow:hover:before {color: black;}#sk-container-id-2 div.sk-estimator:hover label.sk-toggleable__label-arrow:before {color: black;}#sk-container-id-2 div.sk-toggleable__content {max-height: 0;max-width: 0;overflow: hidden;text-align: left;background-color: #f0f8ff;}#sk-container-id-2 div.sk-toggleable__content pre {margin: 0.2em;color: black;border-radius: 0.25em;background-color: #f0f8ff;}#sk-container-id-2 input.sk-toggleable__control:checked~div.sk-toggleable__content {max-height: 200px;max-width: 100%;overflow: auto;}#sk-container-id-2 input.sk-toggleable__control:checked~label.sk-toggleable__label-arrow:before {content: \"▾\";}#sk-container-id-2 div.sk-estimator input.sk-toggleable__control:checked~label.sk-toggleable__label {background-color: #d4ebff;}#sk-container-id-2 div.sk-label input.sk-toggleable__control:checked~label.sk-toggleable__label {background-color: #d4ebff;}#sk-container-id-2 input.sk-hidden--visually {border: 0;clip: rect(1px 1px 1px 1px);clip: rect(1px, 1px, 1px, 1px);height: 1px;margin: -1px;overflow: hidden;padding: 0;position: absolute;width: 1px;}#sk-container-id-2 div.sk-estimator {font-family: monospace;background-color: #f0f8ff;border: 1px dotted black;border-radius: 0.25em;box-sizing: border-box;margin-bottom: 0.5em;}#sk-container-id-2 div.sk-estimator:hover {background-color: #d4ebff;}#sk-container-id-2 div.sk-parallel-item::after {content: \"\";width: 100%;border-bottom: 1px solid gray;flex-grow: 1;}#sk-container-id-2 div.sk-label:hover label.sk-toggleable__label {background-color: #d4ebff;}#sk-container-id-2 div.sk-serial::before {content: \"\";position: absolute;border-left: 1px solid gray;box-sizing: border-box;top: 0;bottom: 0;left: 50%;z-index: 0;}#sk-container-id-2 div.sk-serial {display: flex;flex-direction: column;align-items: center;background-color: white;padding-right: 0.2em;padding-left: 0.2em;position: relative;}#sk-container-id-2 div.sk-item {position: relative;z-index: 1;}#sk-container-id-2 div.sk-parallel {display: flex;align-items: stretch;justify-content: center;background-color: white;position: relative;}#sk-container-id-2 div.sk-item::before, #sk-container-id-2 div.sk-parallel-item::before {content: \"\";position: absolute;border-left: 1px solid gray;box-sizing: border-box;top: 0;bottom: 0;left: 50%;z-index: -1;}#sk-container-id-2 div.sk-parallel-item {display: flex;flex-direction: column;z-index: 1;position: relative;background-color: white;}#sk-container-id-2 div.sk-parallel-item:first-child::after {align-self: flex-end;width: 50%;}#sk-container-id-2 div.sk-parallel-item:last-child::after {align-self: flex-start;width: 50%;}#sk-container-id-2 div.sk-parallel-item:only-child::after {width: 0;}#sk-container-id-2 div.sk-dashed-wrapped {border: 1px dashed gray;margin: 0 0.4em 0.5em 0.4em;box-sizing: border-box;padding-bottom: 0.4em;background-color: white;}#sk-container-id-2 div.sk-label label {font-family: monospace;font-weight: bold;display: inline-block;line-height: 1.2em;}#sk-container-id-2 div.sk-label-container {text-align: center;}#sk-container-id-2 div.sk-container {/* jupyter's `normalize.less` sets `[hidden] { display: none; }` but bootstrap.min.css set `[hidden] { display: none !important; }` so we also need the `!important` here to be able to override the default hidden behavior on the sphinx rendered scikit-learn.org. See: https://github.com/scikit-learn/scikit-learn/issues/21755 */display: inline-block !important;position: relative;}#sk-container-id-2 div.sk-text-repr-fallback {display: none;}</style><div id=\"sk-container-id-2\" class=\"sk-top-container\"><div class=\"sk-text-repr-fallback\"><pre>XGBClassifier(base_score=None, booster=None, callbacks=None,\n",
              "              colsample_bylevel=None, colsample_bynode=None,\n",
              "              colsample_bytree=0.5, device=None, early_stopping_rounds=None,\n",
              "              enable_categorical=False, eval_metric=None, feature_types=None,\n",
              "              gamma=None, grow_policy=None, importance_type=None,\n",
              "              interaction_constraints=None, learning_rate=0.1, max_bin=None,\n",
              "              max_cat_threshold=None, max_cat_to_onehot=None,\n",
              "              max_delta_step=None, max_depth=3, max_leaves=None,\n",
              "              min_child_weight=None, missing=nan, monotone_constraints=None,\n",
              "              multi_strategy=None, n_estimators=100, n_jobs=None,\n",
              "              num_parallel_tree=None, objective=&#x27;multi:softprob&#x27;, ...)</pre><b>In a Jupyter environment, please rerun this cell to show the HTML representation or trust the notebook. <br />On GitHub, the HTML representation is unable to render, please try loading this page with nbviewer.org.</b></div><div class=\"sk-container\" hidden><div class=\"sk-item\"><div class=\"sk-estimator sk-toggleable\"><input class=\"sk-toggleable__control sk-hidden--visually\" id=\"sk-estimator-id-2\" type=\"checkbox\" checked><label for=\"sk-estimator-id-2\" class=\"sk-toggleable__label sk-toggleable__label-arrow\">XGBClassifier</label><div class=\"sk-toggleable__content\"><pre>XGBClassifier(base_score=None, booster=None, callbacks=None,\n",
              "              colsample_bylevel=None, colsample_bynode=None,\n",
              "              colsample_bytree=0.5, device=None, early_stopping_rounds=None,\n",
              "              enable_categorical=False, eval_metric=None, feature_types=None,\n",
              "              gamma=None, grow_policy=None, importance_type=None,\n",
              "              interaction_constraints=None, learning_rate=0.1, max_bin=None,\n",
              "              max_cat_threshold=None, max_cat_to_onehot=None,\n",
              "              max_delta_step=None, max_depth=3, max_leaves=None,\n",
              "              min_child_weight=None, missing=nan, monotone_constraints=None,\n",
              "              multi_strategy=None, n_estimators=100, n_jobs=None,\n",
              "              num_parallel_tree=None, objective=&#x27;multi:softprob&#x27;, ...)</pre></div></div></div></div></div>"
            ]
          },
          "metadata": {},
          "execution_count": 115
        }
      ]
    },
    {
      "cell_type": "code",
      "source": [
        "y_pred_test_xgb = optimal_xgb_clf.predict(X_test)"
      ],
      "metadata": {
        "id": "F4LGr94AOsrg"
      },
      "execution_count": null,
      "outputs": []
    },
    {
      "cell_type": "code",
      "source": [
        "# Define the inverse mapping\n",
        "inverse_mapping = {1: 'H', 0: 'D', 2: 'A'}\n",
        "\n",
        "# Convert predictions back to the original form\n",
        "y_pred_test_xgb_original = [inverse_mapping[label] for label in y_pred_test_xgb]\n"
      ],
      "metadata": {
        "id": "_3aQzfq8Oy0u"
      },
      "execution_count": null,
      "outputs": []
    },
    {
      "cell_type": "code",
      "source": [
        "predictions_df = pd.DataFrame(y_pred_test_xgb_original, columns=['Predictions'])"
      ],
      "metadata": {
        "id": "gqG7Z1_dOy3e"
      },
      "execution_count": null,
      "outputs": []
    },
    {
      "cell_type": "code",
      "source": [
        "predictions_df.to_csv('spain_2.csv', index=False)"
      ],
      "metadata": {
        "id": "xbmLBW8lOy6a"
      },
      "execution_count": null,
      "outputs": []
    },
    {
      "cell_type": "code",
      "source": [],
      "metadata": {
        "id": "frlQ1r4TOst-"
      },
      "execution_count": null,
      "outputs": []
    },
    {
      "cell_type": "code",
      "source": [],
      "metadata": {
        "id": "c1jXocB4Osws"
      },
      "execution_count": null,
      "outputs": []
    },
    {
      "cell_type": "code",
      "source": [
        "train = spn2[spn2['Year'] < 2022]\n",
        "validation = spn2[spn2['Year'] == 2022]"
      ],
      "metadata": {
        "id": "jzE7tFRN6UYE"
      },
      "execution_count": null,
      "outputs": []
    },
    {
      "cell_type": "code",
      "source": [
        "X_train = train.drop(['FTR', 'total_goal'], axis=1)\n",
        "y_train = train['total_goal']\n",
        "X_validation = validation.drop(['FTR', 'total_goal'], axis=1)\n",
        "y_validation = validation['total_goal']"
      ],
      "metadata": {
        "id": "L36mvhD36Uat"
      },
      "execution_count": null,
      "outputs": []
    },
    {
      "cell_type": "code",
      "source": [
        "X_test = df2023_spn2.copy()\n",
        "X_test = X_test[X_train.columns]"
      ],
      "metadata": {
        "id": "M5TLmyZF6Udr"
      },
      "execution_count": null,
      "outputs": []
    },
    {
      "cell_type": "code",
      "source": [
        "X_train.shape , y_train.shape, X_validation.shape, y_validation.shape, X_test.shape"
      ],
      "metadata": {
        "colab": {
          "base_uri": "https://localhost:8080/"
        },
        "id": "Sq6QXzfj6Ugk",
        "outputId": "d6b5f1c5-02f7-47f9-9582-e888a279a4d3"
      },
      "execution_count": null,
      "outputs": [
        {
          "output_type": "execute_result",
          "data": {
            "text/plain": [
              "((1810, 21), (1810,), (453, 21), (453,), (462, 21))"
            ]
          },
          "metadata": {},
          "execution_count": 91
        }
      ]
    },
    {
      "cell_type": "code",
      "source": [
        "\n",
        "from sklearn.preprocessing import LabelEncoder\n",
        "# Update the set of all teams to include teams from X_test\n",
        "all_teams = set(X_train['HomeTeam'].unique()).union(set(X_train['AwayTeam'].unique()))\n",
        "all_teams = all_teams.union(set(X_validation['HomeTeam'].unique())).union(set(X_validation['AwayTeam'].unique()))\n",
        "all_teams = all_teams.union(set(X_test['HomeTeam'].unique())).union(set(X_test['AwayTeam'].unique()))\n",
        "\n",
        "# Convert the set to a list\n",
        "all_teams_list = list(all_teams)\n",
        "\n",
        "# Fit the LabelEncoder with the updated list of all teams\n",
        "encoder = LabelEncoder()\n",
        "encoder.fit(all_teams_list)\n",
        "\n",
        "# Transform 'HomeTeam' and 'AwayTeam' in all datasets\n",
        "X_train['HomeTeam'] = encoder.transform(X_train['HomeTeam'])\n",
        "X_train['AwayTeam'] = encoder.transform(X_train['AwayTeam'])\n",
        "X_validation['HomeTeam'] = encoder.transform(X_validation['HomeTeam'])\n",
        "X_validation['AwayTeam'] = encoder.transform(X_validation['AwayTeam'])\n",
        "X_test['HomeTeam'] = encoder.transform(X_test['HomeTeam'])\n",
        "X_test['AwayTeam'] = encoder.transform(X_test['AwayTeam'])"
      ],
      "metadata": {
        "id": "AJCF7V9S6UjX"
      },
      "execution_count": null,
      "outputs": []
    },
    {
      "cell_type": "code",
      "source": [
        "\n",
        "# Create an instance of LazyRegressor\n",
        "reg = LazyRegressor(verbose=0, ignore_warnings=False, custom_metric=None)\n",
        "\n",
        "# Fit the model\n",
        "models, predictions = reg.fit(X_train, X_validation, y_train, y_validation)"
      ],
      "metadata": {
        "colab": {
          "base_uri": "https://localhost:8080/"
        },
        "id": "8iEBkw9X6Ul8",
        "outputId": "181c31d8-ce6a-42de-e640-273fd834f0f4"
      },
      "execution_count": null,
      "outputs": [
        {
          "output_type": "stream",
          "name": "stderr",
          "text": [
            " 21%|██▏       | 9/42 [00:01<00:07,  4.70it/s]"
          ]
        },
        {
          "output_type": "stream",
          "name": "stdout",
          "text": [
            "GammaRegressor model failed to execute\n",
            "Some value(s) of y are out of the valid range of the loss 'HalfGammaLoss'.\n"
          ]
        },
        {
          "output_type": "stream",
          "name": "stderr",
          "text": [
            " 74%|███████▍  | 31/42 [00:08<00:03,  3.05it/s]"
          ]
        },
        {
          "output_type": "stream",
          "name": "stdout",
          "text": [
            "QuantileRegressor model failed to execute\n",
            "Solver interior-point is not anymore available in SciPy >= 1.11.0.\n"
          ]
        },
        {
          "output_type": "stream",
          "name": "stderr",
          "text": [
            "100%|██████████| 42/42 [00:14<00:00,  2.86it/s]"
          ]
        },
        {
          "output_type": "stream",
          "name": "stdout",
          "text": [
            "[LightGBM] [Info] Auto-choosing col-wise multi-threading, the overhead of testing was 0.000303 seconds.\n",
            "You can set `force_col_wise=true` to remove the overhead.\n",
            "[LightGBM] [Info] Total Bins 753\n",
            "[LightGBM] [Info] Number of data points in the train set: 1810, number of used features: 21\n",
            "[LightGBM] [Info] Start training from score 2.195028\n"
          ]
        },
        {
          "output_type": "stream",
          "name": "stderr",
          "text": [
            "\n"
          ]
        }
      ]
    },
    {
      "cell_type": "code",
      "source": [
        "models"
      ],
      "metadata": {
        "colab": {
          "base_uri": "https://localhost:8080/",
          "height": 1000
        },
        "id": "xKsIhR2V6Uox",
        "outputId": "b7e58f16-e382-4e82-edbd-8524ea6956ae"
      },
      "execution_count": null,
      "outputs": [
        {
          "output_type": "execute_result",
          "data": {
            "text/plain": [
              "                               Adjusted R-Squared  R-Squared  RMSE  Time Taken\n",
              "Model                                                                         \n",
              "LassoLarsIC                                  0.07       0.11  1.42        0.04\n",
              "PoissonRegressor                             0.07       0.11  1.42        0.72\n",
              "LassoCV                                      0.07       0.11  1.42        0.21\n",
              "LassoLarsCV                                  0.07       0.11  1.42        0.08\n",
              "ElasticNetCV                                 0.07       0.11  1.42        0.30\n",
              "LarsCV                                       0.06       0.11  1.42        0.06\n",
              "OrthogonalMatchingPursuitCV                  0.06       0.10  1.42        0.02\n",
              "HuberRegressor                               0.06       0.10  1.42        0.06\n",
              "BayesianRidge                                0.06       0.10  1.43        0.03\n",
              "LinearSVR                                    0.06       0.10  1.43        0.05\n",
              "RidgeCV                                      0.05       0.09  1.43        0.05\n",
              "SGDRegressor                                 0.05       0.09  1.43        0.04\n",
              "TweedieRegressor                             0.05       0.09  1.43        0.59\n",
              "Ridge                                        0.05       0.09  1.43        0.01\n",
              "LinearRegression                             0.05       0.09  1.43        0.03\n",
              "TransformedTargetRegressor                   0.05       0.09  1.43        0.02\n",
              "Lars                                         0.03       0.08  1.44        0.04\n",
              "RandomForestRegressor                        0.03       0.08  1.44        1.40\n",
              "GradientBoostingRegressor                    0.03       0.08  1.45        0.51\n",
              "NuSVR                                        0.03       0.07  1.45        0.22\n",
              "AdaBoostRegressor                            0.02       0.07  1.45        0.08\n",
              "ExtraTreesRegressor                          0.02       0.07  1.45        0.79\n",
              "SVR                                          0.02       0.07  1.45        0.29\n",
              "MLPRegressor                                 0.01       0.06  1.46        2.30\n",
              "OrthogonalMatchingPursuit                   -0.02       0.03  1.48        0.01\n",
              "BaggingRegressor                            -0.02       0.03  1.48        0.15\n",
              "LGBMRegressor                               -0.05       0.00  1.50        0.07\n",
              "HistGradientBoostingRegressor               -0.06      -0.01  1.51        1.87\n",
              "LassoLars                                   -0.07      -0.02  1.52        0.03\n",
              "ElasticNet                                  -0.07      -0.02  1.52        0.02\n",
              "Lasso                                       -0.07      -0.02  1.52        0.03\n",
              "DummyRegressor                              -0.07      -0.02  1.52        0.02\n",
              "KNeighborsRegressor                         -0.09      -0.04  1.53        0.13\n",
              "XGBRegressor                                -0.18      -0.12  1.59        3.29\n",
              "DecisionTreeRegressor                       -0.89      -0.81  2.02        0.07\n",
              "ExtraTreeRegressor                          -1.12      -1.03  2.14        0.07\n",
              "KernelRidge                                 -1.70      -1.58  2.41        0.13\n",
              "PassiveAggressiveRegressor                  -2.22      -2.07  2.64        0.02\n",
              "GaussianProcessRegressor                    -2.46      -2.30  2.73        0.59\n",
              "RANSACRegressor                             -6.65      -6.30  4.06        0.20"
            ],
            "text/html": [
              "\n",
              "  <div id=\"df-1b950bdf-e8fc-4320-a4bf-4d00752ea059\" class=\"colab-df-container\">\n",
              "    <div>\n",
              "<style scoped>\n",
              "    .dataframe tbody tr th:only-of-type {\n",
              "        vertical-align: middle;\n",
              "    }\n",
              "\n",
              "    .dataframe tbody tr th {\n",
              "        vertical-align: top;\n",
              "    }\n",
              "\n",
              "    .dataframe thead th {\n",
              "        text-align: right;\n",
              "    }\n",
              "</style>\n",
              "<table border=\"1\" class=\"dataframe\">\n",
              "  <thead>\n",
              "    <tr style=\"text-align: right;\">\n",
              "      <th></th>\n",
              "      <th>Adjusted R-Squared</th>\n",
              "      <th>R-Squared</th>\n",
              "      <th>RMSE</th>\n",
              "      <th>Time Taken</th>\n",
              "    </tr>\n",
              "    <tr>\n",
              "      <th>Model</th>\n",
              "      <th></th>\n",
              "      <th></th>\n",
              "      <th></th>\n",
              "      <th></th>\n",
              "    </tr>\n",
              "  </thead>\n",
              "  <tbody>\n",
              "    <tr>\n",
              "      <th>LassoLarsIC</th>\n",
              "      <td>0.07</td>\n",
              "      <td>0.11</td>\n",
              "      <td>1.42</td>\n",
              "      <td>0.04</td>\n",
              "    </tr>\n",
              "    <tr>\n",
              "      <th>PoissonRegressor</th>\n",
              "      <td>0.07</td>\n",
              "      <td>0.11</td>\n",
              "      <td>1.42</td>\n",
              "      <td>0.72</td>\n",
              "    </tr>\n",
              "    <tr>\n",
              "      <th>LassoCV</th>\n",
              "      <td>0.07</td>\n",
              "      <td>0.11</td>\n",
              "      <td>1.42</td>\n",
              "      <td>0.21</td>\n",
              "    </tr>\n",
              "    <tr>\n",
              "      <th>LassoLarsCV</th>\n",
              "      <td>0.07</td>\n",
              "      <td>0.11</td>\n",
              "      <td>1.42</td>\n",
              "      <td>0.08</td>\n",
              "    </tr>\n",
              "    <tr>\n",
              "      <th>ElasticNetCV</th>\n",
              "      <td>0.07</td>\n",
              "      <td>0.11</td>\n",
              "      <td>1.42</td>\n",
              "      <td>0.30</td>\n",
              "    </tr>\n",
              "    <tr>\n",
              "      <th>LarsCV</th>\n",
              "      <td>0.06</td>\n",
              "      <td>0.11</td>\n",
              "      <td>1.42</td>\n",
              "      <td>0.06</td>\n",
              "    </tr>\n",
              "    <tr>\n",
              "      <th>OrthogonalMatchingPursuitCV</th>\n",
              "      <td>0.06</td>\n",
              "      <td>0.10</td>\n",
              "      <td>1.42</td>\n",
              "      <td>0.02</td>\n",
              "    </tr>\n",
              "    <tr>\n",
              "      <th>HuberRegressor</th>\n",
              "      <td>0.06</td>\n",
              "      <td>0.10</td>\n",
              "      <td>1.42</td>\n",
              "      <td>0.06</td>\n",
              "    </tr>\n",
              "    <tr>\n",
              "      <th>BayesianRidge</th>\n",
              "      <td>0.06</td>\n",
              "      <td>0.10</td>\n",
              "      <td>1.43</td>\n",
              "      <td>0.03</td>\n",
              "    </tr>\n",
              "    <tr>\n",
              "      <th>LinearSVR</th>\n",
              "      <td>0.06</td>\n",
              "      <td>0.10</td>\n",
              "      <td>1.43</td>\n",
              "      <td>0.05</td>\n",
              "    </tr>\n",
              "    <tr>\n",
              "      <th>RidgeCV</th>\n",
              "      <td>0.05</td>\n",
              "      <td>0.09</td>\n",
              "      <td>1.43</td>\n",
              "      <td>0.05</td>\n",
              "    </tr>\n",
              "    <tr>\n",
              "      <th>SGDRegressor</th>\n",
              "      <td>0.05</td>\n",
              "      <td>0.09</td>\n",
              "      <td>1.43</td>\n",
              "      <td>0.04</td>\n",
              "    </tr>\n",
              "    <tr>\n",
              "      <th>TweedieRegressor</th>\n",
              "      <td>0.05</td>\n",
              "      <td>0.09</td>\n",
              "      <td>1.43</td>\n",
              "      <td>0.59</td>\n",
              "    </tr>\n",
              "    <tr>\n",
              "      <th>Ridge</th>\n",
              "      <td>0.05</td>\n",
              "      <td>0.09</td>\n",
              "      <td>1.43</td>\n",
              "      <td>0.01</td>\n",
              "    </tr>\n",
              "    <tr>\n",
              "      <th>LinearRegression</th>\n",
              "      <td>0.05</td>\n",
              "      <td>0.09</td>\n",
              "      <td>1.43</td>\n",
              "      <td>0.03</td>\n",
              "    </tr>\n",
              "    <tr>\n",
              "      <th>TransformedTargetRegressor</th>\n",
              "      <td>0.05</td>\n",
              "      <td>0.09</td>\n",
              "      <td>1.43</td>\n",
              "      <td>0.02</td>\n",
              "    </tr>\n",
              "    <tr>\n",
              "      <th>Lars</th>\n",
              "      <td>0.03</td>\n",
              "      <td>0.08</td>\n",
              "      <td>1.44</td>\n",
              "      <td>0.04</td>\n",
              "    </tr>\n",
              "    <tr>\n",
              "      <th>RandomForestRegressor</th>\n",
              "      <td>0.03</td>\n",
              "      <td>0.08</td>\n",
              "      <td>1.44</td>\n",
              "      <td>1.40</td>\n",
              "    </tr>\n",
              "    <tr>\n",
              "      <th>GradientBoostingRegressor</th>\n",
              "      <td>0.03</td>\n",
              "      <td>0.08</td>\n",
              "      <td>1.45</td>\n",
              "      <td>0.51</td>\n",
              "    </tr>\n",
              "    <tr>\n",
              "      <th>NuSVR</th>\n",
              "      <td>0.03</td>\n",
              "      <td>0.07</td>\n",
              "      <td>1.45</td>\n",
              "      <td>0.22</td>\n",
              "    </tr>\n",
              "    <tr>\n",
              "      <th>AdaBoostRegressor</th>\n",
              "      <td>0.02</td>\n",
              "      <td>0.07</td>\n",
              "      <td>1.45</td>\n",
              "      <td>0.08</td>\n",
              "    </tr>\n",
              "    <tr>\n",
              "      <th>ExtraTreesRegressor</th>\n",
              "      <td>0.02</td>\n",
              "      <td>0.07</td>\n",
              "      <td>1.45</td>\n",
              "      <td>0.79</td>\n",
              "    </tr>\n",
              "    <tr>\n",
              "      <th>SVR</th>\n",
              "      <td>0.02</td>\n",
              "      <td>0.07</td>\n",
              "      <td>1.45</td>\n",
              "      <td>0.29</td>\n",
              "    </tr>\n",
              "    <tr>\n",
              "      <th>MLPRegressor</th>\n",
              "      <td>0.01</td>\n",
              "      <td>0.06</td>\n",
              "      <td>1.46</td>\n",
              "      <td>2.30</td>\n",
              "    </tr>\n",
              "    <tr>\n",
              "      <th>OrthogonalMatchingPursuit</th>\n",
              "      <td>-0.02</td>\n",
              "      <td>0.03</td>\n",
              "      <td>1.48</td>\n",
              "      <td>0.01</td>\n",
              "    </tr>\n",
              "    <tr>\n",
              "      <th>BaggingRegressor</th>\n",
              "      <td>-0.02</td>\n",
              "      <td>0.03</td>\n",
              "      <td>1.48</td>\n",
              "      <td>0.15</td>\n",
              "    </tr>\n",
              "    <tr>\n",
              "      <th>LGBMRegressor</th>\n",
              "      <td>-0.05</td>\n",
              "      <td>0.00</td>\n",
              "      <td>1.50</td>\n",
              "      <td>0.07</td>\n",
              "    </tr>\n",
              "    <tr>\n",
              "      <th>HistGradientBoostingRegressor</th>\n",
              "      <td>-0.06</td>\n",
              "      <td>-0.01</td>\n",
              "      <td>1.51</td>\n",
              "      <td>1.87</td>\n",
              "    </tr>\n",
              "    <tr>\n",
              "      <th>LassoLars</th>\n",
              "      <td>-0.07</td>\n",
              "      <td>-0.02</td>\n",
              "      <td>1.52</td>\n",
              "      <td>0.03</td>\n",
              "    </tr>\n",
              "    <tr>\n",
              "      <th>ElasticNet</th>\n",
              "      <td>-0.07</td>\n",
              "      <td>-0.02</td>\n",
              "      <td>1.52</td>\n",
              "      <td>0.02</td>\n",
              "    </tr>\n",
              "    <tr>\n",
              "      <th>Lasso</th>\n",
              "      <td>-0.07</td>\n",
              "      <td>-0.02</td>\n",
              "      <td>1.52</td>\n",
              "      <td>0.03</td>\n",
              "    </tr>\n",
              "    <tr>\n",
              "      <th>DummyRegressor</th>\n",
              "      <td>-0.07</td>\n",
              "      <td>-0.02</td>\n",
              "      <td>1.52</td>\n",
              "      <td>0.02</td>\n",
              "    </tr>\n",
              "    <tr>\n",
              "      <th>KNeighborsRegressor</th>\n",
              "      <td>-0.09</td>\n",
              "      <td>-0.04</td>\n",
              "      <td>1.53</td>\n",
              "      <td>0.13</td>\n",
              "    </tr>\n",
              "    <tr>\n",
              "      <th>XGBRegressor</th>\n",
              "      <td>-0.18</td>\n",
              "      <td>-0.12</td>\n",
              "      <td>1.59</td>\n",
              "      <td>3.29</td>\n",
              "    </tr>\n",
              "    <tr>\n",
              "      <th>DecisionTreeRegressor</th>\n",
              "      <td>-0.89</td>\n",
              "      <td>-0.81</td>\n",
              "      <td>2.02</td>\n",
              "      <td>0.07</td>\n",
              "    </tr>\n",
              "    <tr>\n",
              "      <th>ExtraTreeRegressor</th>\n",
              "      <td>-1.12</td>\n",
              "      <td>-1.03</td>\n",
              "      <td>2.14</td>\n",
              "      <td>0.07</td>\n",
              "    </tr>\n",
              "    <tr>\n",
              "      <th>KernelRidge</th>\n",
              "      <td>-1.70</td>\n",
              "      <td>-1.58</td>\n",
              "      <td>2.41</td>\n",
              "      <td>0.13</td>\n",
              "    </tr>\n",
              "    <tr>\n",
              "      <th>PassiveAggressiveRegressor</th>\n",
              "      <td>-2.22</td>\n",
              "      <td>-2.07</td>\n",
              "      <td>2.64</td>\n",
              "      <td>0.02</td>\n",
              "    </tr>\n",
              "    <tr>\n",
              "      <th>GaussianProcessRegressor</th>\n",
              "      <td>-2.46</td>\n",
              "      <td>-2.30</td>\n",
              "      <td>2.73</td>\n",
              "      <td>0.59</td>\n",
              "    </tr>\n",
              "    <tr>\n",
              "      <th>RANSACRegressor</th>\n",
              "      <td>-6.65</td>\n",
              "      <td>-6.30</td>\n",
              "      <td>4.06</td>\n",
              "      <td>0.20</td>\n",
              "    </tr>\n",
              "  </tbody>\n",
              "</table>\n",
              "</div>\n",
              "    <div class=\"colab-df-buttons\">\n",
              "\n",
              "  <div class=\"colab-df-container\">\n",
              "    <button class=\"colab-df-convert\" onclick=\"convertToInteractive('df-1b950bdf-e8fc-4320-a4bf-4d00752ea059')\"\n",
              "            title=\"Convert this dataframe to an interactive table.\"\n",
              "            style=\"display:none;\">\n",
              "\n",
              "  <svg xmlns=\"http://www.w3.org/2000/svg\" height=\"24px\" viewBox=\"0 -960 960 960\">\n",
              "    <path d=\"M120-120v-720h720v720H120Zm60-500h600v-160H180v160Zm220 220h160v-160H400v160Zm0 220h160v-160H400v160ZM180-400h160v-160H180v160Zm440 0h160v-160H620v160ZM180-180h160v-160H180v160Zm440 0h160v-160H620v160Z\"/>\n",
              "  </svg>\n",
              "    </button>\n",
              "\n",
              "  <style>\n",
              "    .colab-df-container {\n",
              "      display:flex;\n",
              "      gap: 12px;\n",
              "    }\n",
              "\n",
              "    .colab-df-convert {\n",
              "      background-color: #E8F0FE;\n",
              "      border: none;\n",
              "      border-radius: 50%;\n",
              "      cursor: pointer;\n",
              "      display: none;\n",
              "      fill: #1967D2;\n",
              "      height: 32px;\n",
              "      padding: 0 0 0 0;\n",
              "      width: 32px;\n",
              "    }\n",
              "\n",
              "    .colab-df-convert:hover {\n",
              "      background-color: #E2EBFA;\n",
              "      box-shadow: 0px 1px 2px rgba(60, 64, 67, 0.3), 0px 1px 3px 1px rgba(60, 64, 67, 0.15);\n",
              "      fill: #174EA6;\n",
              "    }\n",
              "\n",
              "    .colab-df-buttons div {\n",
              "      margin-bottom: 4px;\n",
              "    }\n",
              "\n",
              "    [theme=dark] .colab-df-convert {\n",
              "      background-color: #3B4455;\n",
              "      fill: #D2E3FC;\n",
              "    }\n",
              "\n",
              "    [theme=dark] .colab-df-convert:hover {\n",
              "      background-color: #434B5C;\n",
              "      box-shadow: 0px 1px 3px 1px rgba(0, 0, 0, 0.15);\n",
              "      filter: drop-shadow(0px 1px 2px rgba(0, 0, 0, 0.3));\n",
              "      fill: #FFFFFF;\n",
              "    }\n",
              "  </style>\n",
              "\n",
              "    <script>\n",
              "      const buttonEl =\n",
              "        document.querySelector('#df-1b950bdf-e8fc-4320-a4bf-4d00752ea059 button.colab-df-convert');\n",
              "      buttonEl.style.display =\n",
              "        google.colab.kernel.accessAllowed ? 'block' : 'none';\n",
              "\n",
              "      async function convertToInteractive(key) {\n",
              "        const element = document.querySelector('#df-1b950bdf-e8fc-4320-a4bf-4d00752ea059');\n",
              "        const dataTable =\n",
              "          await google.colab.kernel.invokeFunction('convertToInteractive',\n",
              "                                                    [key], {});\n",
              "        if (!dataTable) return;\n",
              "\n",
              "        const docLinkHtml = 'Like what you see? Visit the ' +\n",
              "          '<a target=\"_blank\" href=https://colab.research.google.com/notebooks/data_table.ipynb>data table notebook</a>'\n",
              "          + ' to learn more about interactive tables.';\n",
              "        element.innerHTML = '';\n",
              "        dataTable['output_type'] = 'display_data';\n",
              "        await google.colab.output.renderOutput(dataTable, element);\n",
              "        const docLink = document.createElement('div');\n",
              "        docLink.innerHTML = docLinkHtml;\n",
              "        element.appendChild(docLink);\n",
              "      }\n",
              "    </script>\n",
              "  </div>\n",
              "\n",
              "\n",
              "<div id=\"df-ce2e1ae3-366a-4e50-bff3-d115ddf1a100\">\n",
              "  <button class=\"colab-df-quickchart\" onclick=\"quickchart('df-ce2e1ae3-366a-4e50-bff3-d115ddf1a100')\"\n",
              "            title=\"Suggest charts\"\n",
              "            style=\"display:none;\">\n",
              "\n",
              "<svg xmlns=\"http://www.w3.org/2000/svg\" height=\"24px\"viewBox=\"0 0 24 24\"\n",
              "     width=\"24px\">\n",
              "    <g>\n",
              "        <path d=\"M19 3H5c-1.1 0-2 .9-2 2v14c0 1.1.9 2 2 2h14c1.1 0 2-.9 2-2V5c0-1.1-.9-2-2-2zM9 17H7v-7h2v7zm4 0h-2V7h2v10zm4 0h-2v-4h2v4z\"/>\n",
              "    </g>\n",
              "</svg>\n",
              "  </button>\n",
              "\n",
              "<style>\n",
              "  .colab-df-quickchart {\n",
              "      --bg-color: #E8F0FE;\n",
              "      --fill-color: #1967D2;\n",
              "      --hover-bg-color: #E2EBFA;\n",
              "      --hover-fill-color: #174EA6;\n",
              "      --disabled-fill-color: #AAA;\n",
              "      --disabled-bg-color: #DDD;\n",
              "  }\n",
              "\n",
              "  [theme=dark] .colab-df-quickchart {\n",
              "      --bg-color: #3B4455;\n",
              "      --fill-color: #D2E3FC;\n",
              "      --hover-bg-color: #434B5C;\n",
              "      --hover-fill-color: #FFFFFF;\n",
              "      --disabled-bg-color: #3B4455;\n",
              "      --disabled-fill-color: #666;\n",
              "  }\n",
              "\n",
              "  .colab-df-quickchart {\n",
              "    background-color: var(--bg-color);\n",
              "    border: none;\n",
              "    border-radius: 50%;\n",
              "    cursor: pointer;\n",
              "    display: none;\n",
              "    fill: var(--fill-color);\n",
              "    height: 32px;\n",
              "    padding: 0;\n",
              "    width: 32px;\n",
              "  }\n",
              "\n",
              "  .colab-df-quickchart:hover {\n",
              "    background-color: var(--hover-bg-color);\n",
              "    box-shadow: 0 1px 2px rgba(60, 64, 67, 0.3), 0 1px 3px 1px rgba(60, 64, 67, 0.15);\n",
              "    fill: var(--button-hover-fill-color);\n",
              "  }\n",
              "\n",
              "  .colab-df-quickchart-complete:disabled,\n",
              "  .colab-df-quickchart-complete:disabled:hover {\n",
              "    background-color: var(--disabled-bg-color);\n",
              "    fill: var(--disabled-fill-color);\n",
              "    box-shadow: none;\n",
              "  }\n",
              "\n",
              "  .colab-df-spinner {\n",
              "    border: 2px solid var(--fill-color);\n",
              "    border-color: transparent;\n",
              "    border-bottom-color: var(--fill-color);\n",
              "    animation:\n",
              "      spin 1s steps(1) infinite;\n",
              "  }\n",
              "\n",
              "  @keyframes spin {\n",
              "    0% {\n",
              "      border-color: transparent;\n",
              "      border-bottom-color: var(--fill-color);\n",
              "      border-left-color: var(--fill-color);\n",
              "    }\n",
              "    20% {\n",
              "      border-color: transparent;\n",
              "      border-left-color: var(--fill-color);\n",
              "      border-top-color: var(--fill-color);\n",
              "    }\n",
              "    30% {\n",
              "      border-color: transparent;\n",
              "      border-left-color: var(--fill-color);\n",
              "      border-top-color: var(--fill-color);\n",
              "      border-right-color: var(--fill-color);\n",
              "    }\n",
              "    40% {\n",
              "      border-color: transparent;\n",
              "      border-right-color: var(--fill-color);\n",
              "      border-top-color: var(--fill-color);\n",
              "    }\n",
              "    60% {\n",
              "      border-color: transparent;\n",
              "      border-right-color: var(--fill-color);\n",
              "    }\n",
              "    80% {\n",
              "      border-color: transparent;\n",
              "      border-right-color: var(--fill-color);\n",
              "      border-bottom-color: var(--fill-color);\n",
              "    }\n",
              "    90% {\n",
              "      border-color: transparent;\n",
              "      border-bottom-color: var(--fill-color);\n",
              "    }\n",
              "  }\n",
              "</style>\n",
              "\n",
              "  <script>\n",
              "    async function quickchart(key) {\n",
              "      const quickchartButtonEl =\n",
              "        document.querySelector('#' + key + ' button');\n",
              "      quickchartButtonEl.disabled = true;  // To prevent multiple clicks.\n",
              "      quickchartButtonEl.classList.add('colab-df-spinner');\n",
              "      try {\n",
              "        const charts = await google.colab.kernel.invokeFunction(\n",
              "            'suggestCharts', [key], {});\n",
              "      } catch (error) {\n",
              "        console.error('Error during call to suggestCharts:', error);\n",
              "      }\n",
              "      quickchartButtonEl.classList.remove('colab-df-spinner');\n",
              "      quickchartButtonEl.classList.add('colab-df-quickchart-complete');\n",
              "    }\n",
              "    (() => {\n",
              "      let quickchartButtonEl =\n",
              "        document.querySelector('#df-ce2e1ae3-366a-4e50-bff3-d115ddf1a100 button');\n",
              "      quickchartButtonEl.style.display =\n",
              "        google.colab.kernel.accessAllowed ? 'block' : 'none';\n",
              "    })();\n",
              "  </script>\n",
              "</div>\n",
              "    </div>\n",
              "  </div>\n"
            ]
          },
          "metadata": {},
          "execution_count": 94
        }
      ]
    },
    {
      "cell_type": "code",
      "source": [
        "from sklearn.linear_model import ElasticNetCV\n",
        "from sklearn.svm import SVR\n",
        "from sklearn.ensemble import RandomForestRegressor\n",
        "from xgboost import XGBRegressor\n",
        "from sklearn.linear_model import PoissonRegressor\n",
        "from sklearn.metrics import mean_absolute_error, r2_score\n",
        "\n",
        "# Initialize the models\n",
        "elastic_net_cv = ElasticNetCV(cv=5, random_state=42)  # Adjust parameters as necessary\n",
        "poisson_regressor = PoissonRegressor()\n",
        "svr = SVR()  # Default parameters, adjust as necessary\n",
        "random_forest_reg = RandomForestRegressor(n_estimators=100, random_state=42)\n",
        "xgb_reg = XGBRegressor(random_state=42)  # Default parameters, adjust as necessary\n",
        "\n",
        "# Fit the models\n",
        "elastic_net_cv.fit(X_train, y_train)\n",
        "poisson_regressor.fit(X_train, y_train)\n",
        "svr.fit(X_train, y_train)\n",
        "random_forest_reg.fit(X_train, y_train)\n",
        "xgb_reg.fit(X_train, y_train)\n",
        "\n",
        "y_pred_elastic_net_cv = elastic_net_cv.predict(X_validation)\n",
        "y_pred_poisson_regressor = poisson_regressor.predict(X_validation)\n",
        "y_pred_svr = svr.predict(X_validation)\n",
        "y_pred_random_forest = random_forest_reg.predict(X_validation)\n",
        "y_pred_xgb = xgb_reg.predict(X_validation)\n",
        "\n",
        "# Predict y_validation\n",
        "y_pred_elastic_net_cv_rounded = np.rint(y_pred_elastic_net_cv)\n",
        "y_pred_poisson_regressor_rounded = np.rint(y_pred_poisson_regressor)\n",
        "y_pred_svr_rounded = np.rint(y_pred_svr)\n",
        "y_pred_random_forest_rounded = np.rint(y_pred_random_forest)\n",
        "y_pred_xgb_rounded = np.rint(y_pred_xgb)\n",
        "\n",
        "# Calculate MAE and R2 score using rounded predictions\n",
        "mae_elastic_net_cv = mean_absolute_error(y_validation, y_pred_elastic_net_cv_rounded)\n",
        "r2_elastic_net_cv = r2_score(y_validation, y_pred_elastic_net_cv_rounded)\n",
        "\n",
        "mae_poisson_regressor = mean_absolute_error(y_validation, y_pred_poisson_regressor_rounded)\n",
        "r2_poisson_regressor = r2_score(y_validation, y_pred_poisson_regressor_rounded)\n",
        "\n",
        "mae_svr = mean_absolute_error(y_validation, y_pred_svr_rounded)\n",
        "r2_svr = r2_score(y_validation, y_pred_svr_rounded)\n",
        "\n",
        "mae_random_forest = mean_absolute_error(y_validation, y_pred_random_forest_rounded)\n",
        "r2_random_forest = r2_score(y_validation, y_pred_random_forest_rounded)\n",
        "\n",
        "mae_xgb = mean_absolute_error(y_validation, y_pred_xgb_rounded)\n",
        "r2_xgb = r2_score(y_validation, y_pred_xgb_rounded)\n",
        "\n",
        "# Print out the performance with rounded predictions\n",
        "print(f'ElasticNetCV - MAE: {mae_elastic_net_cv}, R2 Score: {r2_elastic_net_cv}')\n",
        "print(f'Poisson Regressor - MAE: {mae_poisson_regressor}, R2 Score: {r2_poisson_regressor}')\n",
        "print(f'SVR - MAE: {mae_svr}, R2 Score: {r2_svr}')\n",
        "print(f'Random Forest Regressor - MAE: {mae_random_forest}, R2 Score: {r2_random_forest}')\n",
        "print(f'XGB Regressor - MAE: {mae_xgb}, R2 Score: {r2_xgb}')"
      ],
      "metadata": {
        "colab": {
          "base_uri": "https://localhost:8080/"
        },
        "id": "Fzlt2Vfi6UrY",
        "outputId": "5fd78116-dc57-44a7-ad7e-8004a19a7350"
      },
      "execution_count": null,
      "outputs": [
        {
          "output_type": "stream",
          "name": "stdout",
          "text": [
            "ElasticNetCV - MAE: 1.1324503311258278, R2 Score: 0.048962778899861004\n",
            "Poisson Regressor - MAE: 1.1567328918322295, R2 Score: 0.0070195988923676955\n",
            "SVR - MAE: 1.1788079470198676, R2 Score: -0.0827192978678506\n",
            "Random Forest Regressor - MAE: 1.1523178807947019, R2 Score: 0.030429745873294167\n",
            "XGB Regressor - MAE: 1.2472406181015452, R2 Score: -0.14417093369278255\n"
          ]
        }
      ]
    },
    {
      "cell_type": "code",
      "source": [
        "from sklearn.model_selection import GridSearchCV\n",
        "from sklearn.metrics import mean_absolute_error\n",
        "\n",
        "# Parameter grids\n",
        "param_grid_poisson = {\n",
        "    'alpha': [0.01, 0.1, 1, 10],\n",
        "    'max_iter': [100, 300, 500]\n",
        "}\n",
        "\n",
        "param_grid_random_forest = {\n",
        "    'n_estimators': [50, 100, 200],\n",
        "    'max_depth': [None, 10, 20, 30],\n",
        "    'min_samples_split': [2, 5, 10],\n",
        "    'min_samples_leaf': [1, 2, 4]\n",
        "}\n",
        "\n",
        "# GridSearchCV setup\n",
        "grid_search_poisson = GridSearchCV(poisson_regressor, param_grid_poisson, cv=5, scoring='neg_mean_absolute_error', verbose=1, n_jobs=-1)\n",
        "grid_search_random_forest = GridSearchCV(random_forest_reg, param_grid_random_forest, cv=5, scoring='neg_mean_absolute_error', verbose=1, n_jobs=-1)\n",
        "\n",
        "# Fitting models\n",
        "grid_search_poisson.fit(X_train, y_train)\n",
        "grid_search_random_forest.fit(X_train, y_train)\n",
        "\n",
        "# Best parameters and scores\n",
        "best_params_poisson = grid_search_poisson.best_params_\n",
        "best_score_poisson = grid_search_poisson.best_score_\n",
        "\n",
        "best_params_random_forest = grid_search_random_forest.best_params_\n",
        "best_score_random_forest = grid_search_random_forest.best_score_\n",
        "\n",
        "# Predict and calculate MAE\n",
        "y_pred_poisson = grid_search_poisson.best_estimator_.predict(X_validation)\n",
        "mae_poisson = mean_absolute_error(y_validation, y_pred_poisson)\n",
        "\n",
        "y_pred_random_forest = grid_search_random_forest.best_estimator_.predict(X_validation)\n",
        "mae_random_forest = mean_absolute_error(y_validation, y_pred_random_forest)\n",
        "\n",
        "# Results\n",
        "results = {\n",
        "    \"Poisson Regressor\": {\n",
        "        \"Best Parameters\": best_params_poisson,\n",
        "        \"Best Score (Negative MAE)\": best_score_poisson,\n",
        "        \"MAE on Validation\": mae_poisson\n",
        "    },\n",
        "    \"Random Forest Regressor\": {\n",
        "        \"Best Parameters\": best_params_random_forest,\n",
        "        \"Best Score (Negative MAE)\": best_score_random_forest,\n",
        "        \"MAE on Validation\": mae_random_forest\n",
        "    }\n",
        "}\n",
        "\n",
        "# ElasticNetCV already uses cross-validation for parameter tuning, so we directly fit it and predict\n",
        "elastic_net_cv = ElasticNetCV(cv=5, random_state=42).fit(X_train, y_train)\n",
        "y_pred_elastic_net_cv = elastic_net_cv.predict(X_validation)\n",
        "mae_elastic_net_cv = mean_absolute_error(y_validation, y_pred_elastic_net_cv)\n",
        "\n",
        "results[\"ElasticNetCV\"] = {\n",
        "    \"Best Parameters\": elastic_net_cv.get_params(),\n",
        "    \"MAE on Validation\": mae_elastic_net_cv\n",
        "}\n",
        "\n",
        "# Print results\n",
        "for model, info in results.items():\n",
        "    print(f\"{model}:\")\n",
        "    for key, value in info.items():\n",
        "        print(f\"  {key}: {value}\")\n",
        "    print()"
      ],
      "metadata": {
        "colab": {
          "base_uri": "https://localhost:8080/"
        },
        "id": "NmhjqZy06UuV",
        "outputId": "8721e0d0-3357-4215-9a5d-d09911226af1"
      },
      "execution_count": null,
      "outputs": [
        {
          "output_type": "stream",
          "name": "stdout",
          "text": [
            "Fitting 5 folds for each of 12 candidates, totalling 60 fits\n",
            "Fitting 5 folds for each of 108 candidates, totalling 540 fits\n",
            "Poisson Regressor:\n",
            "  Best Parameters: {'alpha': 0.01, 'max_iter': 300}\n",
            "  Best Score (Negative MAE): -1.0712823623934493\n",
            "  MAE on Validation: 1.1427228947764518\n",
            "\n",
            "Random Forest Regressor:\n",
            "  Best Parameters: {'max_depth': 10, 'min_samples_leaf': 4, 'min_samples_split': 10, 'n_estimators': 100}\n",
            "  Best Score (Negative MAE): -1.1080347800221886\n",
            "  MAE on Validation: 1.1547492304012426\n",
            "\n",
            "ElasticNetCV:\n",
            "  Best Parameters: {'alphas': None, 'copy_X': True, 'cv': 5, 'eps': 0.001, 'fit_intercept': True, 'l1_ratio': 0.5, 'max_iter': 1000, 'n_alphas': 100, 'n_jobs': None, 'positive': False, 'precompute': 'auto', 'random_state': 42, 'selection': 'cyclic', 'tol': 0.0001, 'verbose': 0}\n",
            "  MAE on Validation: 1.1494289415085541\n",
            "\n"
          ]
        }
      ]
    },
    {
      "cell_type": "code",
      "source": [
        "\n",
        "\n",
        "# Set the best parameters for PoissonRegressor\n",
        "best_params_poisson = {\n",
        "    'alpha': 0.01,\n",
        "    'max_iter': 300\n",
        "}\n",
        "\n",
        "# Initialize and fit the PoissonRegressor with the best parameters\n",
        "poisson_model = PoissonRegressor(**best_params_poisson)\n",
        "poisson_model.fit(X_train, y_train)\n",
        "\n",
        "# Make predictions on the test set\n",
        "y_pred_test_poisson = poisson_model.predict(X_test)\n",
        "\n",
        "# Round the predictions to the nearest integer and convert to int type\n",
        "y_pred_test_poisson_rounded = np.rint(y_pred_test_poisson).astype(int)\n",
        "\n",
        "# y_pred_test_poisson_rounded contains the final integer predictions for X_test\n"
      ],
      "metadata": {
        "id": "A-eC8Hz56Uwo"
      },
      "execution_count": null,
      "outputs": []
    },
    {
      "cell_type": "code",
      "source": [
        "\n",
        "\n",
        "# Convert predictions to a DataFrame\n",
        "predictions_df_poisson = pd.DataFrame(y_pred_test_poisson_rounded, columns=['Predicted_Total_Goals'])\n",
        "\n",
        "# Save to CSV\n",
        "predictions_df_poisson.to_csv('spain_2.csv', index=False)\n"
      ],
      "metadata": {
        "id": "8xbVoS9t6Uze"
      },
      "execution_count": null,
      "outputs": []
    },
    {
      "cell_type": "code",
      "source": [],
      "metadata": {
        "id": "byEKRrqW6U14"
      },
      "execution_count": null,
      "outputs": []
    },
    {
      "cell_type": "code",
      "source": [],
      "metadata": {
        "id": "VvRmWBPa6U42"
      },
      "execution_count": null,
      "outputs": []
    },
    {
      "cell_type": "code",
      "source": [],
      "metadata": {
        "id": "nR0yVpX7GUSB"
      },
      "execution_count": null,
      "outputs": []
    }
  ]
}